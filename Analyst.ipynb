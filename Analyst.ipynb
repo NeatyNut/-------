{
 "cells": [
  {
   "cell_type": "markdown",
   "metadata": {},
   "source": [
    "### 탐구주제 : 1년 후 초등학교 입학생 예측하기\n",
    "---\n",
    "#### 사용 데이터 : 전국 어린이집/유치원 원생 데이터\n",
    "#### 기법 : Clustering, DL"
   ]
  },
  {
   "cell_type": "markdown",
   "metadata": {},
   "source": [
    "##### 1. 데이터 EDA\n",
    "- 경로 설정"
   ]
  },
  {
   "cell_type": "code",
   "execution_count": 1,
   "metadata": {},
   "outputs": [],
   "source": [
    "import pandas as pd\n",
    "import numpy as np\n",
    "import os"
   ]
  },
  {
   "cell_type": "code",
   "execution_count": 2,
   "metadata": {},
   "outputs": [],
   "source": [
    "## 파일 경로 정의\n",
    "my_path = os.getcwd()\n",
    "chodeung_path = os.path.join(my_path, '초등학교')\n",
    "save_path = os.path.join(my_path, '새어린이집')\n",
    "\n",
    "def kid_path(year:int):\n",
    "    return os.path.join(my_path, '어린이집', str(year))\n",
    "\n",
    "def get_file_path(path:str, number:int, printok=True):\n",
    "    file_path = os.path.join(path, os.listdir(path)[number])\n",
    "    if printok:\n",
    "        print(file_path)\n",
    "    return file_path"
   ]
  },
  {
   "cell_type": "markdown",
   "metadata": {},
   "source": [
    "- (어린이집) 위도, 경도 확인 시 사용할 수 있는 데이터는 2020부터"
   ]
  },
  {
   "cell_type": "code",
   "execution_count": 5,
   "metadata": {},
   "outputs": [
    {
     "name": "stdout",
     "output_type": "stream",
     "text": [
      "c:\\Users\\Kimmingee\\Desktop\\개발폴더\\kaggle_study\\Expect_freshman\\어린이집\\2019\\[강원]어린이집기본정보조회(정기)-기준일(20190228).xls\n"
     ]
    },
    {
     "data": {
      "text/html": [
       "<div>\n",
       "<style scoped>\n",
       "    .dataframe tbody tr th:only-of-type {\n",
       "        vertical-align: middle;\n",
       "    }\n",
       "\n",
       "    .dataframe tbody tr th {\n",
       "        vertical-align: top;\n",
       "    }\n",
       "\n",
       "    .dataframe thead th {\n",
       "        text-align: right;\n",
       "    }\n",
       "</style>\n",
       "<table border=\"1\" class=\"dataframe\">\n",
       "  <thead>\n",
       "    <tr style=\"text-align: right;\">\n",
       "      <th></th>\n",
       "      <th>위도</th>\n",
       "      <th>경도</th>\n",
       "    </tr>\n",
       "  </thead>\n",
       "  <tbody>\n",
       "    <tr>\n",
       "      <th>0</th>\n",
       "      <td>38.0</td>\n",
       "      <td>128.0</td>\n",
       "    </tr>\n",
       "    <tr>\n",
       "      <th>1</th>\n",
       "      <td>38.0</td>\n",
       "      <td>128.0</td>\n",
       "    </tr>\n",
       "    <tr>\n",
       "      <th>2</th>\n",
       "      <td>38.0</td>\n",
       "      <td>128.0</td>\n",
       "    </tr>\n",
       "    <tr>\n",
       "      <th>3</th>\n",
       "      <td>38.0</td>\n",
       "      <td>128.0</td>\n",
       "    </tr>\n",
       "    <tr>\n",
       "      <th>4</th>\n",
       "      <td>38.0</td>\n",
       "      <td>128.0</td>\n",
       "    </tr>\n",
       "    <tr>\n",
       "      <th>...</th>\n",
       "      <td>...</td>\n",
       "      <td>...</td>\n",
       "    </tr>\n",
       "    <tr>\n",
       "      <th>1494</th>\n",
       "      <td>38.0</td>\n",
       "      <td>129.0</td>\n",
       "    </tr>\n",
       "    <tr>\n",
       "      <th>1495</th>\n",
       "      <td>38.0</td>\n",
       "      <td>129.0</td>\n",
       "    </tr>\n",
       "    <tr>\n",
       "      <th>1496</th>\n",
       "      <td>38.0</td>\n",
       "      <td>129.0</td>\n",
       "    </tr>\n",
       "    <tr>\n",
       "      <th>1497</th>\n",
       "      <td>38.0</td>\n",
       "      <td>129.0</td>\n",
       "    </tr>\n",
       "    <tr>\n",
       "      <th>1498</th>\n",
       "      <td>38.0</td>\n",
       "      <td>129.0</td>\n",
       "    </tr>\n",
       "  </tbody>\n",
       "</table>\n",
       "<p>1499 rows × 2 columns</p>\n",
       "</div>"
      ],
      "text/plain": [
       "        위도     경도\n",
       "0     38.0  128.0\n",
       "1     38.0  128.0\n",
       "2     38.0  128.0\n",
       "3     38.0  128.0\n",
       "4     38.0  128.0\n",
       "...    ...    ...\n",
       "1494  38.0  129.0\n",
       "1495  38.0  129.0\n",
       "1496  38.0  129.0\n",
       "1497  38.0  129.0\n",
       "1498  38.0  129.0\n",
       "\n",
       "[1499 rows x 2 columns]"
      ]
     },
     "execution_count": 5,
     "metadata": {},
     "output_type": "execute_result"
    }
   ],
   "source": [
    "pd.read_excel(get_file_path(kid_path(2019), 0), engine='xlrd')[['위도', '경도']]"
   ]
  },
  {
   "cell_type": "code",
   "execution_count": 4,
   "metadata": {},
   "outputs": [
    {
     "name": "stdout",
     "output_type": "stream",
     "text": [
      "c:\\Users\\Kimmingee\\Desktop\\개발폴더\\kaggle_study\\Expect_freshman\\어린이집\\2020\\[강원]어린이집기본정보조회(정기)-기준일(20200229).xls\n"
     ]
    },
    {
     "data": {
      "text/html": [
       "<div>\n",
       "<style scoped>\n",
       "    .dataframe tbody tr th:only-of-type {\n",
       "        vertical-align: middle;\n",
       "    }\n",
       "\n",
       "    .dataframe tbody tr th {\n",
       "        vertical-align: top;\n",
       "    }\n",
       "\n",
       "    .dataframe thead th {\n",
       "        text-align: right;\n",
       "    }\n",
       "</style>\n",
       "<table border=\"1\" class=\"dataframe\">\n",
       "  <thead>\n",
       "    <tr style=\"text-align: right;\">\n",
       "      <th></th>\n",
       "      <th>위도</th>\n",
       "      <th>경도</th>\n",
       "    </tr>\n",
       "  </thead>\n",
       "  <tbody>\n",
       "    <tr>\n",
       "      <th>0</th>\n",
       "      <td>37.854010</td>\n",
       "      <td>127.721182</td>\n",
       "    </tr>\n",
       "    <tr>\n",
       "      <th>1</th>\n",
       "      <td>37.911809</td>\n",
       "      <td>127.723575</td>\n",
       "    </tr>\n",
       "    <tr>\n",
       "      <th>2</th>\n",
       "      <td>37.847636</td>\n",
       "      <td>127.746789</td>\n",
       "    </tr>\n",
       "    <tr>\n",
       "      <th>3</th>\n",
       "      <td>37.873014</td>\n",
       "      <td>127.751143</td>\n",
       "    </tr>\n",
       "    <tr>\n",
       "      <th>4</th>\n",
       "      <td>37.852052</td>\n",
       "      <td>127.737222</td>\n",
       "    </tr>\n",
       "    <tr>\n",
       "      <th>...</th>\n",
       "      <td>...</td>\n",
       "      <td>...</td>\n",
       "    </tr>\n",
       "    <tr>\n",
       "      <th>1530</th>\n",
       "      <td>38.078721</td>\n",
       "      <td>128.618910</td>\n",
       "    </tr>\n",
       "    <tr>\n",
       "      <th>1531</th>\n",
       "      <td>38.076243</td>\n",
       "      <td>128.620193</td>\n",
       "    </tr>\n",
       "    <tr>\n",
       "      <th>1532</th>\n",
       "      <td>38.079750</td>\n",
       "      <td>128.641499</td>\n",
       "    </tr>\n",
       "    <tr>\n",
       "      <th>1533</th>\n",
       "      <td>38.077208</td>\n",
       "      <td>128.619937</td>\n",
       "    </tr>\n",
       "    <tr>\n",
       "      <th>1534</th>\n",
       "      <td>38.078998</td>\n",
       "      <td>128.619973</td>\n",
       "    </tr>\n",
       "  </tbody>\n",
       "</table>\n",
       "<p>1535 rows × 2 columns</p>\n",
       "</div>"
      ],
      "text/plain": [
       "             위도          경도\n",
       "0     37.854010  127.721182\n",
       "1     37.911809  127.723575\n",
       "2     37.847636  127.746789\n",
       "3     37.873014  127.751143\n",
       "4     37.852052  127.737222\n",
       "...         ...         ...\n",
       "1530  38.078721  128.618910\n",
       "1531  38.076243  128.620193\n",
       "1532  38.079750  128.641499\n",
       "1533  38.077208  128.619937\n",
       "1534  38.078998  128.619973\n",
       "\n",
       "[1535 rows x 2 columns]"
      ]
     },
     "execution_count": 4,
     "metadata": {},
     "output_type": "execute_result"
    }
   ],
   "source": [
    "pd.read_excel(get_file_path(kid_path(2020), 0), engine='xlrd')[['위도', '경도']]"
   ]
  },
  {
   "cell_type": "markdown",
   "metadata": {},
   "source": [
    "- (어린이집) 데이터 확인\n",
    "    - 이름"
   ]
  },
  {
   "cell_type": "markdown",
   "metadata": {},
   "source": [
    "- 강원도"
   ]
  },
  {
   "cell_type": "code",
   "execution_count": 6,
   "metadata": {},
   "outputs": [
    {
     "name": "stdout",
     "output_type": "stream",
     "text": [
      "c:\\Users\\Kimmingee\\Desktop\\개발폴더\\kaggle_study\\Expect_freshman\\어린이집\\2020\\[강원]어린이집기본정보조회(정기)-기준일(20200229).xls\n",
      "Index(['강원도'], dtype='object', name='시도')\n",
      "c:\\Users\\Kimmingee\\Desktop\\개발폴더\\kaggle_study\\Expect_freshman\\어린이집\\2021\\[강원]어린이집기본정보조회(정기)-기준일(20210228).xls\n",
      "Index(['강원도'], dtype='object', name='시도')\n",
      "c:\\Users\\Kimmingee\\Desktop\\개발폴더\\kaggle_study\\Expect_freshman\\어린이집\\2022\\[강원]어린이집기본정보조회(정기)-기준일(20220228).xls\n",
      "Index(['강원도'], dtype='object', name='시도')\n",
      "c:\\Users\\Kimmingee\\Desktop\\개발폴더\\kaggle_study\\Expect_freshman\\어린이집\\2023\\[강원]어린이집기본정보조회(정기)-기준일(20230228).xls\n",
      "Index(['강원도'], dtype='object', name='시도')\n",
      "c:\\Users\\Kimmingee\\Desktop\\개발폴더\\kaggle_study\\Expect_freshman\\어린이집\\2024\\[강원]어린이집기본정보조회(정기)-기준일(20240229).xls\n",
      "Index(['강원특별자치도'], dtype='object', name='시도')\n"
     ]
    }
   ],
   "source": [
    "for i in range(2020, 2025):\n",
    "    print(pd.read_excel(get_file_path(kid_path(i), 0), engine='xlrd')['시도'].value_counts().index)"
   ]
  },
  {
   "cell_type": "markdown",
   "metadata": {},
   "source": [
    "- 경기도"
   ]
  },
  {
   "cell_type": "code",
   "execution_count": 7,
   "metadata": {},
   "outputs": [
    {
     "name": "stdout",
     "output_type": "stream",
     "text": [
      "c:\\Users\\Kimmingee\\Desktop\\개발폴더\\kaggle_study\\Expect_freshman\\어린이집\\2020\\[경기]어린이집기본정보조회(정기)-기준일(20200229).xls\n",
      "Index(['경기도'], dtype='object', name='시도')\n",
      "c:\\Users\\Kimmingee\\Desktop\\개발폴더\\kaggle_study\\Expect_freshman\\어린이집\\2021\\[경기]어린이집기본정보조회(정기)-기준일(20210228).xls\n",
      "Index(['경기도'], dtype='object', name='시도')\n",
      "c:\\Users\\Kimmingee\\Desktop\\개발폴더\\kaggle_study\\Expect_freshman\\어린이집\\2022\\[경기]어린이집기본정보조회(정기)-기준일(20220228).xls\n",
      "Index(['경기도'], dtype='object', name='시도')\n",
      "c:\\Users\\Kimmingee\\Desktop\\개발폴더\\kaggle_study\\Expect_freshman\\어린이집\\2023\\[경기]어린이집기본정보조회(정기)-기준일(20230228).xls\n",
      "Index(['경기도'], dtype='object', name='시도')\n",
      "c:\\Users\\Kimmingee\\Desktop\\개발폴더\\kaggle_study\\Expect_freshman\\어린이집\\2024\\[경기]어린이집기본정보조회(정기)-기준일(20240229).xls\n",
      "Index(['경기도'], dtype='object', name='시도')\n"
     ]
    }
   ],
   "source": [
    "for i in range(2020, 2025):\n",
    "    print(pd.read_excel(get_file_path(kid_path(i), 1), engine='xlrd')['시도'].value_counts().index)"
   ]
  },
  {
   "cell_type": "markdown",
   "metadata": {},
   "source": [
    "- 경상남도"
   ]
  },
  {
   "cell_type": "code",
   "execution_count": 8,
   "metadata": {},
   "outputs": [
    {
     "name": "stdout",
     "output_type": "stream",
     "text": [
      "c:\\Users\\Kimmingee\\Desktop\\개발폴더\\kaggle_study\\Expect_freshman\\어린이집\\2020\\[경남]어린이집기본정보조회(정기)-기준일(20200229).xls\n",
      "Index(['경상남도'], dtype='object', name='시도')\n",
      "c:\\Users\\Kimmingee\\Desktop\\개발폴더\\kaggle_study\\Expect_freshman\\어린이집\\2021\\[경남]어린이집기본정보조회(정기)-기준일(20210228).xls\n",
      "Index(['경상남도'], dtype='object', name='시도')\n",
      "c:\\Users\\Kimmingee\\Desktop\\개발폴더\\kaggle_study\\Expect_freshman\\어린이집\\2022\\[경남]어린이집기본정보조회(정기)-기준일(20220228).xls\n",
      "Index(['경상남도'], dtype='object', name='시도')\n",
      "c:\\Users\\Kimmingee\\Desktop\\개발폴더\\kaggle_study\\Expect_freshman\\어린이집\\2023\\[경남]어린이집기본정보조회(정기)-기준일(20230228).xls\n",
      "Index(['경상남도'], dtype='object', name='시도')\n",
      "c:\\Users\\Kimmingee\\Desktop\\개발폴더\\kaggle_study\\Expect_freshman\\어린이집\\2024\\[경남]어린이집기본정보조회(정기)-기준일(20240229).xls\n",
      "Index(['경상남도'], dtype='object', name='시도')\n"
     ]
    }
   ],
   "source": [
    "for i in range(2020, 2025):\n",
    "    print(pd.read_excel(get_file_path(kid_path(i), 2), engine='xlrd')['시도'].value_counts().index)"
   ]
  },
  {
   "cell_type": "markdown",
   "metadata": {},
   "source": [
    "- 경상북도"
   ]
  },
  {
   "cell_type": "code",
   "execution_count": 9,
   "metadata": {},
   "outputs": [
    {
     "name": "stdout",
     "output_type": "stream",
     "text": [
      "c:\\Users\\Kimmingee\\Desktop\\개발폴더\\kaggle_study\\Expect_freshman\\어린이집\\2020\\[경북]어린이집기본정보조회(정기)-기준일(20200229).xls\n",
      "Index(['경상북도'], dtype='object', name='시도')\n",
      "c:\\Users\\Kimmingee\\Desktop\\개발폴더\\kaggle_study\\Expect_freshman\\어린이집\\2021\\[경북]어린이집기본정보조회(정기)-기준일(20210228).xls\n",
      "Index(['경상북도'], dtype='object', name='시도')\n",
      "c:\\Users\\Kimmingee\\Desktop\\개발폴더\\kaggle_study\\Expect_freshman\\어린이집\\2022\\[경북]어린이집기본정보조회(정기)-기준일(20220228).xls\n",
      "Index(['경상북도'], dtype='object', name='시도')\n",
      "c:\\Users\\Kimmingee\\Desktop\\개발폴더\\kaggle_study\\Expect_freshman\\어린이집\\2023\\[경북]어린이집기본정보조회(정기)-기준일(20230228).xls\n",
      "Index(['경상북도'], dtype='object', name='시도')\n",
      "c:\\Users\\Kimmingee\\Desktop\\개발폴더\\kaggle_study\\Expect_freshman\\어린이집\\2024\\[경북]어린이집기본정보조회(정기)-기준일(20240229).xls\n",
      "Index(['경상북도'], dtype='object', name='시도')\n"
     ]
    }
   ],
   "source": [
    "for i in range(2020, 2025):\n",
    "    print(pd.read_excel(get_file_path(kid_path(i), 3), engine='xlrd')['시도'].value_counts().index)"
   ]
  },
  {
   "cell_type": "markdown",
   "metadata": {},
   "source": [
    "- 광주광역시"
   ]
  },
  {
   "cell_type": "code",
   "execution_count": 10,
   "metadata": {},
   "outputs": [
    {
     "name": "stdout",
     "output_type": "stream",
     "text": [
      "c:\\Users\\Kimmingee\\Desktop\\개발폴더\\kaggle_study\\Expect_freshman\\어린이집\\2020\\[광주]어린이집기본정보조회(정기)-기준일(20200229).xls\n",
      "Index(['광주광역시'], dtype='object', name='시도')\n",
      "c:\\Users\\Kimmingee\\Desktop\\개발폴더\\kaggle_study\\Expect_freshman\\어린이집\\2021\\[광주]어린이집기본정보조회(정기)-기준일(20210228).xls\n",
      "Index(['광주광역시'], dtype='object', name='시도')\n",
      "c:\\Users\\Kimmingee\\Desktop\\개발폴더\\kaggle_study\\Expect_freshman\\어린이집\\2022\\[광주]어린이집기본정보조회(정기)-기준일(20220228).xls\n",
      "Index(['광주광역시'], dtype='object', name='시도')\n",
      "c:\\Users\\Kimmingee\\Desktop\\개발폴더\\kaggle_study\\Expect_freshman\\어린이집\\2023\\[광주]어린이집기본정보조회(정기)-기준일(20230228).xls\n",
      "Index(['광주광역시'], dtype='object', name='시도')\n",
      "c:\\Users\\Kimmingee\\Desktop\\개발폴더\\kaggle_study\\Expect_freshman\\어린이집\\2024\\[광주]어린이집기본정보조회(정기)-기준일(20240229).xls\n",
      "Index(['광주광역시'], dtype='object', name='시도')\n"
     ]
    }
   ],
   "source": [
    "for i in range(2020, 2025):\n",
    "    print(pd.read_excel(get_file_path(kid_path(i), 4), engine='xlrd')['시도'].value_counts().index)"
   ]
  },
  {
   "cell_type": "markdown",
   "metadata": {},
   "source": [
    "- 대구광역시"
   ]
  },
  {
   "cell_type": "code",
   "execution_count": 11,
   "metadata": {},
   "outputs": [
    {
     "name": "stdout",
     "output_type": "stream",
     "text": [
      "c:\\Users\\Kimmingee\\Desktop\\개발폴더\\kaggle_study\\Expect_freshman\\어린이집\\2020\\[대구]어린이집기본정보조회(정기)-기준일(20200229).xls\n",
      "Index(['대구광역시'], dtype='object', name='시도')\n",
      "c:\\Users\\Kimmingee\\Desktop\\개발폴더\\kaggle_study\\Expect_freshman\\어린이집\\2021\\[대구]어린이집기본정보조회(정기)-기준일(20210228).xls\n",
      "Index(['대구광역시'], dtype='object', name='시도')\n",
      "c:\\Users\\Kimmingee\\Desktop\\개발폴더\\kaggle_study\\Expect_freshman\\어린이집\\2022\\[대구]어린이집기본정보조회(정기)-기준일(20220228).xls\n",
      "Index(['대구광역시'], dtype='object', name='시도')\n",
      "c:\\Users\\Kimmingee\\Desktop\\개발폴더\\kaggle_study\\Expect_freshman\\어린이집\\2023\\[대구]어린이집기본정보조회(정기)-기준일(20230228).xls\n",
      "Index(['대구광역시'], dtype='object', name='시도')\n",
      "c:\\Users\\Kimmingee\\Desktop\\개발폴더\\kaggle_study\\Expect_freshman\\어린이집\\2024\\[대구]어린이집기본정보조회(정기)-기준일(20240229).xls\n",
      "Index(['대구광역시'], dtype='object', name='시도')\n"
     ]
    }
   ],
   "source": [
    "for i in range(2020, 2025):\n",
    "    print(pd.read_excel(get_file_path(kid_path(i), 5), engine='xlrd')['시도'].value_counts().index)"
   ]
  },
  {
   "cell_type": "markdown",
   "metadata": {},
   "source": [
    "- 대전광역시"
   ]
  },
  {
   "cell_type": "code",
   "execution_count": 12,
   "metadata": {},
   "outputs": [
    {
     "name": "stdout",
     "output_type": "stream",
     "text": [
      "c:\\Users\\Kimmingee\\Desktop\\개발폴더\\kaggle_study\\Expect_freshman\\어린이집\\2020\\[대전]어린이집기본정보조회(정기)-기준일(20200229).xls\n",
      "Index(['대전광역시'], dtype='object', name='시도')\n",
      "c:\\Users\\Kimmingee\\Desktop\\개발폴더\\kaggle_study\\Expect_freshman\\어린이집\\2021\\[대전]어린이집기본정보조회(정기)-기준일(20210228).xls\n",
      "Index(['대전광역시'], dtype='object', name='시도')\n",
      "c:\\Users\\Kimmingee\\Desktop\\개발폴더\\kaggle_study\\Expect_freshman\\어린이집\\2022\\[대전]어린이집기본정보조회(정기)-기준일(20220228).xls\n",
      "Index(['대전광역시'], dtype='object', name='시도')\n",
      "c:\\Users\\Kimmingee\\Desktop\\개발폴더\\kaggle_study\\Expect_freshman\\어린이집\\2023\\[대전]어린이집기본정보조회(정기)-기준일(20230228).xls\n",
      "Index(['대전광역시'], dtype='object', name='시도')\n",
      "c:\\Users\\Kimmingee\\Desktop\\개발폴더\\kaggle_study\\Expect_freshman\\어린이집\\2024\\[대전]어린이집기본정보조회(정기)-기준일(20240229).xls\n",
      "Index(['대전광역시'], dtype='object', name='시도')\n"
     ]
    }
   ],
   "source": [
    "for i in range(2020, 2025):\n",
    "    print(pd.read_excel(get_file_path(kid_path(i), 6), engine='xlrd')['시도'].value_counts().index)"
   ]
  },
  {
   "cell_type": "markdown",
   "metadata": {},
   "source": [
    "- 부산광역시"
   ]
  },
  {
   "cell_type": "code",
   "execution_count": 13,
   "metadata": {},
   "outputs": [
    {
     "name": "stdout",
     "output_type": "stream",
     "text": [
      "c:\\Users\\Kimmingee\\Desktop\\개발폴더\\kaggle_study\\Expect_freshman\\어린이집\\2020\\[부산]어린이집기본정보조회(정기)-기준일(20200229).xls\n",
      "Index(['부산광역시'], dtype='object', name='시도')\n",
      "c:\\Users\\Kimmingee\\Desktop\\개발폴더\\kaggle_study\\Expect_freshman\\어린이집\\2021\\[부산]어린이집기본정보조회(정기)-기준일(20210228).xls\n",
      "Index(['부산광역시'], dtype='object', name='시도')\n",
      "c:\\Users\\Kimmingee\\Desktop\\개발폴더\\kaggle_study\\Expect_freshman\\어린이집\\2022\\[부산]어린이집기본정보조회(정기)-기준일(20220228).xls\n",
      "Index(['부산광역시'], dtype='object', name='시도')\n",
      "c:\\Users\\Kimmingee\\Desktop\\개발폴더\\kaggle_study\\Expect_freshman\\어린이집\\2023\\[부산]어린이집기본정보조회(정기)-기준일(20230228).xls\n",
      "Index(['부산광역시'], dtype='object', name='시도')\n",
      "c:\\Users\\Kimmingee\\Desktop\\개발폴더\\kaggle_study\\Expect_freshman\\어린이집\\2024\\[부산]어린이집기본정보조회(정기)-기준일(20240229).xls\n",
      "Index(['부산광역시'], dtype='object', name='시도')\n"
     ]
    }
   ],
   "source": [
    "for i in range(2020, 2025):\n",
    "    print(pd.read_excel(get_file_path(kid_path(i), 7), engine='xlrd')['시도'].value_counts().index)"
   ]
  },
  {
   "cell_type": "markdown",
   "metadata": {},
   "source": [
    "- 서울특별시"
   ]
  },
  {
   "cell_type": "code",
   "execution_count": 14,
   "metadata": {},
   "outputs": [
    {
     "name": "stdout",
     "output_type": "stream",
     "text": [
      "c:\\Users\\Kimmingee\\Desktop\\개발폴더\\kaggle_study\\Expect_freshman\\어린이집\\2020\\[서울]어린이집기본정보조회(정기)-기준일(20200229).xls\n",
      "Index(['경기도'], dtype='object', name='시도')\n",
      "c:\\Users\\Kimmingee\\Desktop\\개발폴더\\kaggle_study\\Expect_freshman\\어린이집\\2021\\[서울]어린이집기본정보조회(정기)-기준일(20210228).xls\n",
      "Index(['서울특별시'], dtype='object', name='시도')\n",
      "c:\\Users\\Kimmingee\\Desktop\\개발폴더\\kaggle_study\\Expect_freshman\\어린이집\\2022\\[서울]어린이집기본정보조회(정기)-기준일(20220228).xls\n",
      "Index(['서울특별시'], dtype='object', name='시도')\n",
      "c:\\Users\\Kimmingee\\Desktop\\개발폴더\\kaggle_study\\Expect_freshman\\어린이집\\2023\\[서울]어린이집기본정보조회(정기)-기준일(20230228).xls\n",
      "Index(['서울특별시'], dtype='object', name='시도')\n",
      "c:\\Users\\Kimmingee\\Desktop\\개발폴더\\kaggle_study\\Expect_freshman\\어린이집\\2024\\[서울]어린이집기본정보조회(정기)-기준일(20240229).xls\n",
      "Index(['서울특별시'], dtype='object', name='시도')\n"
     ]
    }
   ],
   "source": [
    "for i in range(2020, 2025):\n",
    "    print(pd.read_excel(get_file_path(kid_path(i), 8), engine='xlrd')['시도'].value_counts().index)"
   ]
  },
  {
   "cell_type": "markdown",
   "metadata": {},
   "source": [
    "- 세종특별자치시"
   ]
  },
  {
   "cell_type": "code",
   "execution_count": 15,
   "metadata": {},
   "outputs": [
    {
     "name": "stdout",
     "output_type": "stream",
     "text": [
      "c:\\Users\\Kimmingee\\Desktop\\개발폴더\\kaggle_study\\Expect_freshman\\어린이집\\2020\\[세종]어린이집기본정보조회(정기)-기준일(20200229).xls\n",
      "Index(['세종특별자치시'], dtype='object', name='시도')\n",
      "c:\\Users\\Kimmingee\\Desktop\\개발폴더\\kaggle_study\\Expect_freshman\\어린이집\\2021\\[세종]어린이집기본정보조회(정기)-기준일(20210228).xls\n",
      "Index(['세종특별자치시'], dtype='object', name='시도')\n",
      "c:\\Users\\Kimmingee\\Desktop\\개발폴더\\kaggle_study\\Expect_freshman\\어린이집\\2022\\[세종]어린이집기본정보조회(정기)-기준일(20220228).xls\n",
      "Index(['세종특별자치시'], dtype='object', name='시도')\n",
      "c:\\Users\\Kimmingee\\Desktop\\개발폴더\\kaggle_study\\Expect_freshman\\어린이집\\2023\\[세종]어린이집기본정보조회(정기)-기준일(20230228).xls\n",
      "Index(['세종특별자치시'], dtype='object', name='시도')\n",
      "c:\\Users\\Kimmingee\\Desktop\\개발폴더\\kaggle_study\\Expect_freshman\\어린이집\\2024\\[세종]어린이집기본정보조회(정기)-기준일(20240229).xls\n",
      "Index(['세종특별자치시'], dtype='object', name='시도')\n"
     ]
    }
   ],
   "source": [
    "for i in range(2020, 2025):\n",
    "    print(pd.read_excel(get_file_path(kid_path(i), 9), engine='xlrd')['시도'].value_counts().index)"
   ]
  },
  {
   "cell_type": "markdown",
   "metadata": {},
   "source": [
    "- 울산광역시"
   ]
  },
  {
   "cell_type": "code",
   "execution_count": 16,
   "metadata": {},
   "outputs": [
    {
     "name": "stdout",
     "output_type": "stream",
     "text": [
      "c:\\Users\\Kimmingee\\Desktop\\개발폴더\\kaggle_study\\Expect_freshman\\어린이집\\2020\\[울산]어린이집기본정보조회(정기)-기준일(20200229).xls\n",
      "Index(['울산광역시'], dtype='object', name='시도')\n",
      "c:\\Users\\Kimmingee\\Desktop\\개발폴더\\kaggle_study\\Expect_freshman\\어린이집\\2021\\[울산]어린이집기본정보조회(정기)-기준일(20210228).xls\n",
      "Index(['울산광역시'], dtype='object', name='시도')\n",
      "c:\\Users\\Kimmingee\\Desktop\\개발폴더\\kaggle_study\\Expect_freshman\\어린이집\\2022\\[울산]어린이집기본정보조회(정기)-기준일(20220228).xls\n",
      "Index(['울산광역시'], dtype='object', name='시도')\n",
      "c:\\Users\\Kimmingee\\Desktop\\개발폴더\\kaggle_study\\Expect_freshman\\어린이집\\2023\\[울산]어린이집기본정보조회(정기)-기준일(20230228).xls\n",
      "Index(['울산광역시'], dtype='object', name='시도')\n",
      "c:\\Users\\Kimmingee\\Desktop\\개발폴더\\kaggle_study\\Expect_freshman\\어린이집\\2024\\[울산]어린이집기본정보조회(정기)-기준일(20240229).xls\n",
      "Index(['울산광역시'], dtype='object', name='시도')\n"
     ]
    }
   ],
   "source": [
    "for i in range(2020, 2025):\n",
    "    print(pd.read_excel(get_file_path(kid_path(i), 10), engine='xlrd')['시도'].value_counts().index)"
   ]
  },
  {
   "cell_type": "markdown",
   "metadata": {},
   "source": [
    "- 인천광역시"
   ]
  },
  {
   "cell_type": "code",
   "execution_count": 17,
   "metadata": {},
   "outputs": [
    {
     "name": "stdout",
     "output_type": "stream",
     "text": [
      "c:\\Users\\Kimmingee\\Desktop\\개발폴더\\kaggle_study\\Expect_freshman\\어린이집\\2020\\[인천]어린이집기본정보조회(정기)-기준일(20200229).xls\n",
      "Index(['인천광역시'], dtype='object', name='시도')\n",
      "c:\\Users\\Kimmingee\\Desktop\\개발폴더\\kaggle_study\\Expect_freshman\\어린이집\\2021\\[인천]어린이집기본정보조회(정기)-기준일(20210228).xls\n",
      "Index(['인천광역시'], dtype='object', name='시도')\n",
      "c:\\Users\\Kimmingee\\Desktop\\개발폴더\\kaggle_study\\Expect_freshman\\어린이집\\2022\\[인천]어린이집기본정보조회(정기)-기준일(20220228).xls\n",
      "Index(['인천광역시'], dtype='object', name='시도')\n",
      "c:\\Users\\Kimmingee\\Desktop\\개발폴더\\kaggle_study\\Expect_freshman\\어린이집\\2023\\[인천]어린이집기본정보조회(정기)-기준일(20230228).xls\n",
      "Index(['인천광역시'], dtype='object', name='시도')\n",
      "c:\\Users\\Kimmingee\\Desktop\\개발폴더\\kaggle_study\\Expect_freshman\\어린이집\\2024\\[인천]어린이집기본정보조회(정기)-기준일(20240229).xls\n",
      "Index(['인천광역시'], dtype='object', name='시도')\n"
     ]
    }
   ],
   "source": [
    "for i in range(2020, 2025):\n",
    "    print(pd.read_excel(get_file_path(kid_path(i), 11), engine='xlrd')['시도'].value_counts().index)"
   ]
  },
  {
   "cell_type": "markdown",
   "metadata": {},
   "source": [
    "- 전라남도"
   ]
  },
  {
   "cell_type": "code",
   "execution_count": 18,
   "metadata": {},
   "outputs": [
    {
     "name": "stdout",
     "output_type": "stream",
     "text": [
      "c:\\Users\\Kimmingee\\Desktop\\개발폴더\\kaggle_study\\Expect_freshman\\어린이집\\2020\\[전남]어린이집기본정보조회(정기)-기준일(20200229).xls\n",
      "Index(['전라남도'], dtype='object', name='시도')\n",
      "c:\\Users\\Kimmingee\\Desktop\\개발폴더\\kaggle_study\\Expect_freshman\\어린이집\\2021\\[전남]어린이집기본정보조회(정기)-기준일(20210228).xls\n",
      "Index(['전라남도'], dtype='object', name='시도')\n",
      "c:\\Users\\Kimmingee\\Desktop\\개발폴더\\kaggle_study\\Expect_freshman\\어린이집\\2022\\[전남]어린이집기본정보조회(정기)-기준일(20220228).xls\n",
      "Index(['서울특별시'], dtype='object', name='시도')\n",
      "c:\\Users\\Kimmingee\\Desktop\\개발폴더\\kaggle_study\\Expect_freshman\\어린이집\\2023\\[전남]어린이집기본정보조회(정기)-기준일(20230228).xls\n",
      "Index(['전라남도'], dtype='object', name='시도')\n",
      "c:\\Users\\Kimmingee\\Desktop\\개발폴더\\kaggle_study\\Expect_freshman\\어린이집\\2024\\[전남]어린이집기본정보조회(정기)-기준일(20240229).xls\n",
      "Index(['전라남도'], dtype='object', name='시도')\n"
     ]
    }
   ],
   "source": [
    "for i in range(2020, 2025):\n",
    "    print(pd.read_excel(get_file_path(kid_path(i), 12), engine='xlrd')['시도'].value_counts().index)"
   ]
  },
  {
   "cell_type": "markdown",
   "metadata": {},
   "source": [
    "- 전라북도"
   ]
  },
  {
   "cell_type": "code",
   "execution_count": 19,
   "metadata": {},
   "outputs": [
    {
     "name": "stdout",
     "output_type": "stream",
     "text": [
      "c:\\Users\\Kimmingee\\Desktop\\개발폴더\\kaggle_study\\Expect_freshman\\어린이집\\2020\\[전북]어린이집기본정보조회(정기)-기준일(20200229).xls\n",
      "Index(['전라북도'], dtype='object', name='시도')\n",
      "c:\\Users\\Kimmingee\\Desktop\\개발폴더\\kaggle_study\\Expect_freshman\\어린이집\\2021\\[전북]어린이집기본정보조회(정기)-기준일(20210228).xls\n",
      "Index(['전라북도'], dtype='object', name='시도')\n",
      "c:\\Users\\Kimmingee\\Desktop\\개발폴더\\kaggle_study\\Expect_freshman\\어린이집\\2022\\[전북]어린이집기본정보조회(정기)-기준일(20220228).xls\n",
      "Index(['전라북도'], dtype='object', name='시도')\n",
      "c:\\Users\\Kimmingee\\Desktop\\개발폴더\\kaggle_study\\Expect_freshman\\어린이집\\2023\\[전북]어린이집기본정보조회(정기)-기준일(20230228).xls\n",
      "Index(['전라북도'], dtype='object', name='시도')\n",
      "c:\\Users\\Kimmingee\\Desktop\\개발폴더\\kaggle_study\\Expect_freshman\\어린이집\\2024\\[전북]어린이집기본정보조회(정기)-기준일(20240229).xls\n",
      "Index(['전북특별자치도'], dtype='object', name='시도')\n"
     ]
    }
   ],
   "source": [
    "for i in range(2020, 2025):\n",
    "    print(pd.read_excel(get_file_path(kid_path(i), 13), engine='xlrd')['시도'].value_counts().index)"
   ]
  },
  {
   "cell_type": "markdown",
   "metadata": {},
   "source": [
    "- 제주특별자치시"
   ]
  },
  {
   "cell_type": "code",
   "execution_count": 20,
   "metadata": {},
   "outputs": [
    {
     "name": "stdout",
     "output_type": "stream",
     "text": [
      "c:\\Users\\Kimmingee\\Desktop\\개발폴더\\kaggle_study\\Expect_freshman\\어린이집\\2020\\[제주]어린이집기본정보조회(정기)-기준일(20200229).xls\n",
      "Index(['제주도'], dtype='object', name='시도')\n",
      "c:\\Users\\Kimmingee\\Desktop\\개발폴더\\kaggle_study\\Expect_freshman\\어린이집\\2021\\[제주]어린이집기본정보조회(정기)-기준일(20210228).xls\n",
      "Index(['제주도'], dtype='object', name='시도')\n",
      "c:\\Users\\Kimmingee\\Desktop\\개발폴더\\kaggle_study\\Expect_freshman\\어린이집\\2022\\[제주]어린이집기본정보조회(정기)-기준일(20220228).xls\n",
      "Index(['제주도'], dtype='object', name='시도')\n",
      "c:\\Users\\Kimmingee\\Desktop\\개발폴더\\kaggle_study\\Expect_freshman\\어린이집\\2023\\[제주]어린이집기본정보조회(정기)-기준일(20230228).xls\n",
      "Index(['제주도'], dtype='object', name='시도')\n",
      "c:\\Users\\Kimmingee\\Desktop\\개발폴더\\kaggle_study\\Expect_freshman\\어린이집\\2024\\[제주]어린이집기본정보조회(정기)-기준일(20240229).xls\n",
      "Index(['제주도'], dtype='object', name='시도')\n"
     ]
    }
   ],
   "source": [
    "for i in range(2020, 2025):\n",
    "    print(pd.read_excel(get_file_path(kid_path(i), 14), engine='xlrd')['시도'].value_counts().index)"
   ]
  },
  {
   "cell_type": "markdown",
   "metadata": {},
   "source": [
    "- 충청남도"
   ]
  },
  {
   "cell_type": "code",
   "execution_count": 21,
   "metadata": {},
   "outputs": [
    {
     "name": "stdout",
     "output_type": "stream",
     "text": [
      "c:\\Users\\Kimmingee\\Desktop\\개발폴더\\kaggle_study\\Expect_freshman\\어린이집\\2020\\[충남]어린이집기본정보조회(정기)-기준일(20200229).xls\n",
      "Index(['충청남도'], dtype='object', name='시도')\n",
      "c:\\Users\\Kimmingee\\Desktop\\개발폴더\\kaggle_study\\Expect_freshman\\어린이집\\2021\\[충남]어린이집기본정보조회(정기)-기준일(20210228).xls\n",
      "Index(['충청남도'], dtype='object', name='시도')\n",
      "c:\\Users\\Kimmingee\\Desktop\\개발폴더\\kaggle_study\\Expect_freshman\\어린이집\\2022\\[충남]어린이집기본정보조회(정기)-기준일(20220228).xls\n",
      "Index(['충청남도'], dtype='object', name='시도')\n",
      "c:\\Users\\Kimmingee\\Desktop\\개발폴더\\kaggle_study\\Expect_freshman\\어린이집\\2023\\[충남]어린이집기본정보조회(정기)-기준일(20230228).xls\n",
      "Index(['충청남도'], dtype='object', name='시도')\n",
      "c:\\Users\\Kimmingee\\Desktop\\개발폴더\\kaggle_study\\Expect_freshman\\어린이집\\2024\\[충남]어린이집기본정보조회(정기)-기준일(20240229).xls\n",
      "Index(['충청남도'], dtype='object', name='시도')\n"
     ]
    }
   ],
   "source": [
    "for i in range(2020, 2025):\n",
    "    print(pd.read_excel(get_file_path(kid_path(i), 15), engine='xlrd')['시도'].value_counts().index)"
   ]
  },
  {
   "cell_type": "markdown",
   "metadata": {},
   "source": [
    "- 충청북도"
   ]
  },
  {
   "cell_type": "code",
   "execution_count": 22,
   "metadata": {},
   "outputs": [
    {
     "name": "stdout",
     "output_type": "stream",
     "text": [
      "c:\\Users\\Kimmingee\\Desktop\\개발폴더\\kaggle_study\\Expect_freshman\\어린이집\\2020\\[충북]어린이집기본정보조회(정기)-기준일(20200229).xls\n",
      "Index(['충청북도'], dtype='object', name='시도')\n",
      "c:\\Users\\Kimmingee\\Desktop\\개발폴더\\kaggle_study\\Expect_freshman\\어린이집\\2021\\[충북]어린이집기본정보조회(정기)-기준일(20210228).xls\n",
      "Index(['충청북도'], dtype='object', name='시도')\n",
      "c:\\Users\\Kimmingee\\Desktop\\개발폴더\\kaggle_study\\Expect_freshman\\어린이집\\2022\\[충북]어린이집기본정보조회(정기)-기준일(20220228).xls\n",
      "Index(['충청북도'], dtype='object', name='시도')\n",
      "c:\\Users\\Kimmingee\\Desktop\\개발폴더\\kaggle_study\\Expect_freshman\\어린이집\\2023\\[충북]어린이집기본정보조회(정기)-기준일(20230228).xls\n",
      "Index(['충청북도'], dtype='object', name='시도')\n",
      "c:\\Users\\Kimmingee\\Desktop\\개발폴더\\kaggle_study\\Expect_freshman\\어린이집\\2024\\[충북]어린이집기본정보조회(정기)-기준일(20240229).xls\n",
      "Index(['충청북도'], dtype='object', name='시도')\n"
     ]
    }
   ],
   "source": [
    "for i in range(2020, 2025):\n",
    "    print(pd.read_excel(get_file_path(kid_path(i), 16), engine='xlrd')['시도'].value_counts().index)"
   ]
  },
  {
   "cell_type": "markdown",
   "metadata": {},
   "source": [
    "- (어린이집) 시도별 데이터 시도 이상없음!\n",
    "\n",
    "---"
   ]
  },
  {
   "cell_type": "markdown",
   "metadata": {},
   "source": [
    "- (어린이집) 위도, 경도 기준 데이터 중복확인"
   ]
  },
  {
   "cell_type": "code",
   "execution_count": 23,
   "metadata": {},
   "outputs": [
    {
     "name": "stdout",
     "output_type": "stream",
     "text": [
      "c:\\Users\\Kimmingee\\Desktop\\개발폴더\\kaggle_study\\Expect_freshman\\어린이집\\2020\\[강원]어린이집기본정보조회(정기)-기준일(20200229).xls\n"
     ]
    },
    {
     "data": {
      "text/plain": [
       "위도         경도        \n",
       "37.566470  126.977963    23\n",
       "37.323412  127.951421     6\n",
       "37.891090  127.755466     6\n",
       "37.335788  127.926181     6\n",
       "37.317493  127.965461     5\n",
       "                         ..\n",
       "37.450347  129.187539     1\n",
       "37.450214  129.170450     1\n",
       "37.450074  129.166034     1\n",
       "37.449821  129.175446     1\n",
       "38.495819  128.426403     1\n",
       "Name: count, Length: 1276, dtype: int64"
      ]
     },
     "execution_count": 23,
     "metadata": {},
     "output_type": "execute_result"
    }
   ],
   "source": [
    "pd.read_excel(get_file_path(kid_path(2020), 0), engine='xlrd')[['위도', '경도']].value_counts()"
   ]
  },
  {
   "cell_type": "code",
   "execution_count": 24,
   "metadata": {},
   "outputs": [
    {
     "name": "stdout",
     "output_type": "stream",
     "text": [
      "c:\\Users\\Kimmingee\\Desktop\\개발폴더\\kaggle_study\\Expect_freshman\\어린이집\\2021\\[강원]어린이집기본정보조회(정기)-기준일(20210228).xls\n"
     ]
    },
    {
     "data": {
      "text/plain": [
       "위도         경도        \n",
       "37.566470  126.977963    32\n",
       "37.891090  127.755466     6\n",
       "37.335788  127.926181     6\n",
       "37.323412  127.951421     5\n",
       "37.334693  127.963942     5\n",
       "                         ..\n",
       "37.448902  129.168191     1\n",
       "37.448492  129.169856     1\n",
       "37.447999  129.164906     1\n",
       "37.447940  129.177145     1\n",
       "38.495819  128.426403     1\n",
       "Name: count, Length: 1305, dtype: int64"
      ]
     },
     "execution_count": 24,
     "metadata": {},
     "output_type": "execute_result"
    }
   ],
   "source": [
    "pd.read_excel(get_file_path(kid_path(2021), 0), engine='xlrd')[['위도', '경도']].value_counts()"
   ]
  },
  {
   "cell_type": "code",
   "execution_count": 25,
   "metadata": {},
   "outputs": [
    {
     "name": "stdout",
     "output_type": "stream",
     "text": [
      "c:\\Users\\Kimmingee\\Desktop\\개발폴더\\kaggle_study\\Expect_freshman\\어린이집\\2022\\[강원]어린이집기본정보조회(정기)-기준일(20220228).xls\n"
     ]
    },
    {
     "data": {
      "text/plain": [
       "위도         경도        \n",
       "37.566470  126.977963    34\n",
       "37.891090  127.755466     6\n",
       "37.335788  127.926181     6\n",
       "37.323412  127.951421     5\n",
       "37.334693  127.963942     5\n",
       "                         ..\n",
       "37.448492  129.169856     1\n",
       "37.447999  129.164906     1\n",
       "37.447940  129.177145     1\n",
       "37.447426  129.177378     1\n",
       "38.947084  123.364601     1\n",
       "Name: count, Length: 1333, dtype: int64"
      ]
     },
     "execution_count": 25,
     "metadata": {},
     "output_type": "execute_result"
    }
   ],
   "source": [
    "pd.read_excel(get_file_path(kid_path(2022), 0), engine='xlrd')[['위도', '경도']].value_counts()"
   ]
  },
  {
   "cell_type": "code",
   "execution_count": 26,
   "metadata": {},
   "outputs": [
    {
     "name": "stdout",
     "output_type": "stream",
     "text": [
      "c:\\Users\\Kimmingee\\Desktop\\개발폴더\\kaggle_study\\Expect_freshman\\어린이집\\2023\\[강원]어린이집기본정보조회(정기)-기준일(20230228).xls\n"
     ]
    },
    {
     "data": {
      "text/plain": [
       "위도         경도        \n",
       "37.566470  126.977963    7\n",
       "37.891090  127.755466    6\n",
       "37.335788  127.926181    6\n",
       "38.190079  128.578387    5\n",
       "37.323412  127.951421    5\n",
       "                        ..\n",
       "37.446621  129.162893    1\n",
       "37.446169  129.173797    1\n",
       "37.445867  129.177022    1\n",
       "37.445679  129.171197    1\n",
       "38.947084  123.364601    1\n",
       "Name: count, Length: 1387, dtype: int64"
      ]
     },
     "execution_count": 26,
     "metadata": {},
     "output_type": "execute_result"
    }
   ],
   "source": [
    "pd.read_excel(get_file_path(kid_path(2023), 0), engine='xlrd')[['위도', '경도']].value_counts()"
   ]
  },
  {
   "cell_type": "code",
   "execution_count": 27,
   "metadata": {},
   "outputs": [
    {
     "name": "stdout",
     "output_type": "stream",
     "text": [
      "c:\\Users\\Kimmingee\\Desktop\\개발폴더\\kaggle_study\\Expect_freshman\\어린이집\\2024\\[강원]어린이집기본정보조회(정기)-기준일(20240229).xls\n"
     ]
    },
    {
     "data": {
      "text/plain": [
       "위도         경도        \n",
       "37.566470  126.977963    8\n",
       "37.335788  127.926181    6\n",
       "37.891090  127.755466    6\n",
       "38.190079  128.578387    5\n",
       "37.334693  127.963942    5\n",
       "                        ..\n",
       "37.444998  129.174504    1\n",
       "37.444877  129.175483    1\n",
       "37.443744  129.175963    1\n",
       "37.443642  129.176653    1\n",
       "38.947084  123.364601    1\n",
       "Name: count, Length: 1403, dtype: int64"
      ]
     },
     "execution_count": 27,
     "metadata": {},
     "output_type": "execute_result"
    }
   ],
   "source": [
    "pd.read_excel(get_file_path(kid_path(2024), 0), engine='xlrd')[['위도', '경도']].value_counts()"
   ]
  },
  {
   "cell_type": "code",
   "execution_count": 28,
   "metadata": {},
   "outputs": [
    {
     "name": "stdout",
     "output_type": "stream",
     "text": [
      "c:\\Users\\Kimmingee\\Desktop\\개발폴더\\kaggle_study\\Expect_freshman\\어린이집\\2020\\[강원]어린이집기본정보조회(정기)-기준일(20200229).xls\n"
     ]
    },
    {
     "data": {
      "text/html": [
       "<div>\n",
       "<style scoped>\n",
       "    .dataframe tbody tr th:only-of-type {\n",
       "        vertical-align: middle;\n",
       "    }\n",
       "\n",
       "    .dataframe tbody tr th {\n",
       "        vertical-align: top;\n",
       "    }\n",
       "\n",
       "    .dataframe thead th {\n",
       "        text-align: right;\n",
       "    }\n",
       "</style>\n",
       "<table border=\"1\" class=\"dataframe\">\n",
       "  <thead>\n",
       "    <tr style=\"text-align: right;\">\n",
       "      <th></th>\n",
       "      <th>어린이집명</th>\n",
       "      <th>주소</th>\n",
       "    </tr>\n",
       "  </thead>\n",
       "  <tbody>\n",
       "    <tr>\n",
       "      <th>321</th>\n",
       "      <td>강원경찰청어린이집</td>\n",
       "      <td>강원도 춘천시 동면 만천로143번길 84</td>\n",
       "    </tr>\n",
       "    <tr>\n",
       "      <th>330</th>\n",
       "      <td>후평트루엘어린이집</td>\n",
       "      <td>강원도 춘천시 백령로 215 일성트루엘더퍼스트 관리동</td>\n",
       "    </tr>\n",
       "    <tr>\n",
       "      <th>331</th>\n",
       "      <td>퇴계이편한어린이집</td>\n",
       "      <td>강원도 춘천시 안마산로 133 이편한세상 춘천한숲시티 관리동</td>\n",
       "    </tr>\n",
       "    <tr>\n",
       "      <th>764</th>\n",
       "      <td>힐데스어린이집</td>\n",
       "      <td>강원도 원주시 혁신로 91 509동 101호(반곡동,힐데스하임)</td>\n",
       "    </tr>\n",
       "    <tr>\n",
       "      <th>769</th>\n",
       "      <td>미래코어린이집</td>\n",
       "      <td>강원도 원주시 세계로 2 (반곡동, 한국광해관리공단)</td>\n",
       "    </tr>\n",
       "    <tr>\n",
       "      <th>771</th>\n",
       "      <td>건강보험심사평가원어린이집</td>\n",
       "      <td>강원도 원주시  입춘로 130</td>\n",
       "    </tr>\n",
       "    <tr>\n",
       "      <th>783</th>\n",
       "      <td>만도원주어린이집</td>\n",
       "      <td>강원도 원주시 문막읍 왕건로 114 만도사원아파트 106동109~110호</td>\n",
       "    </tr>\n",
       "    <tr>\n",
       "      <th>786</th>\n",
       "      <td>원주세브란스어린이집</td>\n",
       "      <td>강원도 원주시 일산로 20 (일산동,연세대학교 원주의과대학기독병원)</td>\n",
       "    </tr>\n",
       "    <tr>\n",
       "      <th>802</th>\n",
       "      <td>휴먼시아별그린어린이집</td>\n",
       "      <td>강원도 원주시 개운로 30 개운1단지휴먼시아아파트 관리동</td>\n",
       "    </tr>\n",
       "    <tr>\n",
       "      <th>808</th>\n",
       "      <td>조은어린이집</td>\n",
       "      <td>강원도 원주시 번재길 32 110동 (행구동, 효성백년가약아파트)</td>\n",
       "    </tr>\n",
       "    <tr>\n",
       "      <th>1014</th>\n",
       "      <td>밤비니어린이집</td>\n",
       "      <td>강원도 강릉시 강변로 58 (회산동, 강릉회산LH천년나무2단지)</td>\n",
       "    </tr>\n",
       "    <tr>\n",
       "      <th>1016</th>\n",
       "      <td>강릉원주대학교해람어린이집</td>\n",
       "      <td>강원도 강릉시 죽헌길 7</td>\n",
       "    </tr>\n",
       "    <tr>\n",
       "      <th>1018</th>\n",
       "      <td>힐스테이트강릉어린이집</td>\n",
       "      <td>강원도 강릉시 회산로383번길 37 힐스테이트강릉어린이집</td>\n",
       "    </tr>\n",
       "    <tr>\n",
       "      <th>1019</th>\n",
       "      <td>미디어촌6단지어린이집</td>\n",
       "      <td>강원도 강릉시 선수촌로 20</td>\n",
       "    </tr>\n",
       "    <tr>\n",
       "      <th>1022</th>\n",
       "      <td>더휴어린이집</td>\n",
       "      <td>강원도 강릉시 경강로 2448 102동 1층</td>\n",
       "    </tr>\n",
       "    <tr>\n",
       "      <th>1130</th>\n",
       "      <td>이레어린이집</td>\n",
       "      <td>강원도 태백시 청솔길 41 111-B동 203호(황지동, 청솔아파트상가)</td>\n",
       "    </tr>\n",
       "    <tr>\n",
       "      <th>1208</th>\n",
       "      <td>밤비니어린이집</td>\n",
       "      <td>강원도 속초시 청대로 22-6</td>\n",
       "    </tr>\n",
       "    <tr>\n",
       "      <th>1209</th>\n",
       "      <td>도담어린이집</td>\n",
       "      <td>강원도 속초시 온정로 23 도담어린이집</td>\n",
       "    </tr>\n",
       "    <tr>\n",
       "      <th>1261</th>\n",
       "      <td>나래울어린이집</td>\n",
       "      <td>강원도 삼척시 정상안길 97 금강프라자 307호</td>\n",
       "    </tr>\n",
       "    <tr>\n",
       "      <th>1264</th>\n",
       "      <td>세영리첼어린이집</td>\n",
       "      <td>강원도 삼척시 마달길 215 세영리첼아파트 103동 1층</td>\n",
       "    </tr>\n",
       "    <tr>\n",
       "      <th>1265</th>\n",
       "      <td>호산어린이집</td>\n",
       "      <td>강원도 삼척시 원덕읍 삼척로 446-12</td>\n",
       "    </tr>\n",
       "    <tr>\n",
       "      <th>1393</th>\n",
       "      <td>서울대학교 평창캠퍼스 초록생명어린이집</td>\n",
       "      <td>강원도 평창군 대화면 평창대로 1447</td>\n",
       "    </tr>\n",
       "    <tr>\n",
       "      <th>1508</th>\n",
       "      <td>빛나라어린이집</td>\n",
       "      <td>강원도 인제군 기린면 내린천로 3898</td>\n",
       "    </tr>\n",
       "  </tbody>\n",
       "</table>\n",
       "</div>"
      ],
      "text/plain": [
       "                     어린이집명                                        주소\n",
       "321              강원경찰청어린이집                   강원도 춘천시 동면 만천로143번길 84 \n",
       "330              후평트루엘어린이집             강원도 춘천시 백령로 215 일성트루엘더퍼스트 관리동\n",
       "331              퇴계이편한어린이집         강원도 춘천시 안마산로 133 이편한세상 춘천한숲시티 관리동\n",
       "764                힐데스어린이집       강원도 원주시 혁신로 91 509동 101호(반곡동,힐데스하임)\n",
       "769                미래코어린이집             강원도 원주시 세계로 2 (반곡동, 한국광해관리공단)\n",
       "771          건강보험심사평가원어린이집                         강원도 원주시  입춘로 130 \n",
       "783               만도원주어린이집  강원도 원주시 문막읍 왕건로 114 만도사원아파트 106동109~110호\n",
       "786             원주세브란스어린이집     강원도 원주시 일산로 20 (일산동,연세대학교 원주의과대학기독병원)\n",
       "802            휴먼시아별그린어린이집           강원도 원주시 개운로 30 개운1단지휴먼시아아파트 관리동\n",
       "808                 조은어린이집      강원도 원주시 번재길 32 110동 (행구동, 효성백년가약아파트)\n",
       "1014               밤비니어린이집       강원도 강릉시 강변로 58 (회산동, 강릉회산LH천년나무2단지)\n",
       "1016         강릉원주대학교해람어린이집                            강원도 강릉시 죽헌길 7 \n",
       "1018           힐스테이트강릉어린이집           강원도 강릉시 회산로383번길 37 힐스테이트강릉어린이집\n",
       "1019           미디어촌6단지어린이집                          강원도 강릉시 선수촌로 20 \n",
       "1022                더휴어린이집                  강원도 강릉시 경강로 2448 102동 1층\n",
       "1130                이레어린이집  강원도 태백시 청솔길 41 111-B동 203호(황지동, 청솔아파트상가)\n",
       "1208               밤비니어린이집                         강원도 속초시 청대로 22-6 \n",
       "1209                도담어린이집                     강원도 속초시 온정로 23 도담어린이집\n",
       "1261               나래울어린이집                강원도 삼척시 정상안길 97 금강프라자 307호\n",
       "1264              세영리첼어린이집           강원도 삼척시 마달길 215 세영리첼아파트 103동 1층\n",
       "1265                호산어린이집                   강원도 삼척시 원덕읍 삼척로 446-12 \n",
       "1393  서울대학교 평창캠퍼스 초록생명어린이집                    강원도 평창군 대화면 평창대로 1447 \n",
       "1508               빛나라어린이집                    강원도 인제군 기린면 내린천로 3898 "
      ]
     },
     "metadata": {},
     "output_type": "display_data"
    },
    {
     "data": {
      "text/plain": [
       "시군구\n",
       "강릉시    5\n",
       "삼척시    3\n",
       "속초시    2\n",
       "원주시    7\n",
       "인제군    1\n",
       "춘천시    3\n",
       "태백시    1\n",
       "평창군    1\n",
       "Name: 시군구, dtype: int64"
      ]
     },
     "execution_count": 28,
     "metadata": {},
     "output_type": "execute_result"
    }
   ],
   "source": [
    "gangwon_2020 = pd.read_excel(get_file_path(kid_path(2020), 0), engine='xlrd')\n",
    "display(gangwon_2020[(gangwon_2020['위도'] == 37.566470) & (gangwon_2020['경도'] == 126.977963)][['어린이집명', '주소']])\n",
    "gangwon_2020[(gangwon_2020['위도'] == 37.566470) & (gangwon_2020['경도'] == 126.977963)].groupby('시군구')['시군구'].count()"
   ]
  },
  {
   "cell_type": "markdown",
   "metadata": {},
   "source": [
    "- 데이터 자체에 오류가 있는듯하다"
   ]
  },
  {
   "cell_type": "markdown",
   "metadata": {},
   "source": [
    "![image.png](data:image/png;base64,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)"
   ]
  },
  {
   "cell_type": "markdown",
   "metadata": {},
   "source": [
    "- (어린이집) 어떻게 주소 기반으로 위도, 경도를 조정할 것인가?\n",
    "    - 데이터별 위도 경도 중복 건수를 찾아보고자 한다."
   ]
  },
  {
   "cell_type": "code",
   "execution_count": 29,
   "metadata": {},
   "outputs": [],
   "source": [
    "order = ['강원', '경기', '경남', '경북', '광주', '대구', '대전', '부산', '서울', '세종', '울산', '인천', '전남', '전북', '제주', '충남', '충북']"
   ]
  },
  {
   "cell_type": "code",
   "execution_count": 30,
   "metadata": {},
   "outputs": [
    {
     "name": "stdout",
     "output_type": "stream",
     "text": [
      "2020년 강원의 위도, 경도 중복건수는 307\n",
      "2020년 경기의 위도, 경도 중복건수는 6079\n",
      "2020년 경남의 위도, 경도 중복건수는 1734\n",
      "2020년 경북의 위도, 경도 중복건수는 678\n",
      "2020년 광주의 위도, 경도 중복건수는 463\n",
      "2020년 대구의 위도, 경도 중복건수는 459\n",
      "2020년 대전의 위도, 경도 중복건수는 870\n",
      "2020년 부산의 위도, 경도 중복건수는 561\n",
      "2020년 서울의 위도, 경도 중복건수는 55\n",
      "2020년 세종의 위도, 경도 중복건수는 126\n",
      "2020년 울산의 위도, 경도 중복건수는 238\n",
      "2020년 인천의 위도, 경도 중복건수는 896\n",
      "2020년 전남의 위도, 경도 중복건수는 343\n",
      "2020년 전북의 위도, 경도 중복건수는 614\n",
      "2020년 제주의 위도, 경도 중복건수는 30\n",
      "2020년 충남의 위도, 경도 중복건수는 957\n",
      "2020년 충북의 위도, 경도 중복건수는 406\n",
      "2021년 강원의 위도, 경도 중복건수는 315\n",
      "2021년 경기의 위도, 경도 중복건수는 6012\n",
      "2021년 경남의 위도, 경도 중복건수는 1707\n",
      "2021년 경북의 위도, 경도 중복건수는 670\n",
      "2021년 광주의 위도, 경도 중복건수는 470\n",
      "2021년 대구의 위도, 경도 중복건수는 467\n",
      "2021년 대전의 위도, 경도 중복건수는 866\n",
      "2021년 부산의 위도, 경도 중복건수는 552\n",
      "2021년 서울의 위도, 경도 중복건수는 2078\n",
      "2021년 세종의 위도, 경도 중복건수는 120\n",
      "2021년 울산의 위도, 경도 중복건수는 232\n",
      "2021년 인천의 위도, 경도 중복건수는 877\n",
      "2021년 전남의 위도, 경도 중복건수는 337\n",
      "2021년 전북의 위도, 경도 중복건수는 610\n",
      "2021년 제주의 위도, 경도 중복건수는 26\n",
      "2021년 충남의 위도, 경도 중복건수는 947\n",
      "2021년 충북의 위도, 경도 중복건수는 408\n",
      "2022년 강원의 위도, 경도 중복건수는 317\n",
      "2022년 경기의 위도, 경도 중복건수는 5971\n",
      "2022년 경남의 위도, 경도 중복건수는 1701\n",
      "2022년 경북의 위도, 경도 중복건수는 675\n",
      "2022년 광주의 위도, 경도 중복건수는 477\n",
      "2022년 대구의 위도, 경도 중복건수는 463\n",
      "2022년 대전의 위도, 경도 중복건수는 873\n",
      "2022년 부산의 위도, 경도 중복건수는 549\n",
      "2022년 서울의 위도, 경도 중복건수는 2034\n",
      "2022년 세종의 위도, 경도 중복건수는 120\n",
      "2022년 울산의 위도, 경도 중복건수는 231\n",
      "2022년 인천의 위도, 경도 중복건수는 881\n",
      "2022년 전남의 위도, 경도 중복건수는 53\n",
      "2022년 전북의 위도, 경도 중복건수는 605\n",
      "2022년 제주의 위도, 경도 중복건수는 26\n",
      "2022년 충남의 위도, 경도 중복건수는 942\n",
      "2022년 충북의 위도, 경도 중복건수는 403\n",
      "2023년 강원의 위도, 경도 중복건수는 291\n",
      "2023년 경기의 위도, 경도 중복건수는 5807\n",
      "2023년 경남의 위도, 경도 중복건수는 1640\n",
      "2023년 경북의 위도, 경도 중복건수는 640\n",
      "2023년 광주의 위도, 경도 중복건수는 452\n",
      "2023년 대구의 위도, 경도 중복건수는 433\n",
      "2023년 대전의 위도, 경도 중복건수는 845\n",
      "2023년 부산의 위도, 경도 중복건수는 512\n",
      "2023년 서울의 위도, 경도 중복건수는 1910\n",
      "2023년 세종의 위도, 경도 중복건수는 87\n",
      "2023년 울산의 위도, 경도 중복건수는 213\n",
      "2023년 인천의 위도, 경도 중복건수는 862\n",
      "2023년 전남의 위도, 경도 중복건수는 320\n",
      "2023년 전북의 위도, 경도 중복건수는 583\n",
      "2023년 제주의 위도, 경도 중복건수는 23\n",
      "2023년 충남의 위도, 경도 중복건수는 909\n",
      "2023년 충북의 위도, 경도 중복건수는 382\n",
      "2024년 강원의 위도, 경도 중복건수는 289\n",
      "2024년 경기의 위도, 경도 중복건수는 5669\n",
      "2024년 경남의 위도, 경도 중복건수는 1623\n",
      "2024년 경북의 위도, 경도 중복건수는 637\n",
      "2024년 광주의 위도, 경도 중복건수는 450\n",
      "2024년 대구의 위도, 경도 중복건수는 423\n",
      "2024년 대전의 위도, 경도 중복건수는 835\n",
      "2024년 부산의 위도, 경도 중복건수는 502\n",
      "2024년 서울의 위도, 경도 중복건수는 1884\n",
      "2024년 세종의 위도, 경도 중복건수는 83\n",
      "2024년 울산의 위도, 경도 중복건수는 211\n",
      "2024년 인천의 위도, 경도 중복건수는 836\n",
      "2024년 전남의 위도, 경도 중복건수는 313\n",
      "2024년 전북의 위도, 경도 중복건수는 575\n",
      "2024년 제주의 위도, 경도 중복건수는 24\n",
      "2024년 충남의 위도, 경도 중복건수는 888\n",
      "2024년 충북의 위도, 경도 중복건수는 379\n"
     ]
    }
   ],
   "source": [
    "count_dict = {}\n",
    "for i in range(2020, 2025):\n",
    "    for j in range(len(order)):\n",
    "        table = pd.read_excel(get_file_path(kid_path(i), j, printok=False), engine='xlrd')[['위도', '경도']].value_counts()\n",
    "        print(\"{0}년 {1}의 위도, 경도 중복건수는 {2}\".format(i, order[j], table[table > 1].sum()))\n",
    "        count_dict[str(i) + '년 ' + order[j]] = table[table > 1].sum()"
   ]
  },
  {
   "cell_type": "markdown",
   "metadata": {},
   "source": [
    "- (어린이집) 총 79,361건에 대한 중복을 처리해야 한다..."
   ]
  },
  {
   "cell_type": "code",
   "execution_count": 31,
   "metadata": {},
   "outputs": [
    {
     "data": {
      "text/plain": [
       "79361"
      ]
     },
     "execution_count": 31,
     "metadata": {},
     "output_type": "execute_result"
    }
   ],
   "source": [
    "sum(count_dict.values())"
   ]
  },
  {
   "cell_type": "code",
   "execution_count": 32,
   "metadata": {},
   "outputs": [
    {
     "data": {
      "text/plain": [
       "{'2020년 강원': 307,\n",
       " '2020년 경기': 6079,\n",
       " '2020년 경남': 1734,\n",
       " '2020년 경북': 678,\n",
       " '2020년 광주': 463,\n",
       " '2020년 대구': 459,\n",
       " '2020년 대전': 870,\n",
       " '2020년 부산': 561,\n",
       " '2020년 서울': 55,\n",
       " '2020년 세종': 126,\n",
       " '2020년 울산': 238,\n",
       " '2020년 인천': 896,\n",
       " '2020년 전남': 343,\n",
       " '2020년 전북': 614,\n",
       " '2020년 제주': 30,\n",
       " '2020년 충남': 957,\n",
       " '2020년 충북': 406,\n",
       " '2021년 강원': 315,\n",
       " '2021년 경기': 6012,\n",
       " '2021년 경남': 1707,\n",
       " '2021년 경북': 670,\n",
       " '2021년 광주': 470,\n",
       " '2021년 대구': 467,\n",
       " '2021년 대전': 866,\n",
       " '2021년 부산': 552,\n",
       " '2021년 서울': 2078,\n",
       " '2021년 세종': 120,\n",
       " '2021년 울산': 232,\n",
       " '2021년 인천': 877,\n",
       " '2021년 전남': 337,\n",
       " '2021년 전북': 610,\n",
       " '2021년 제주': 26,\n",
       " '2021년 충남': 947,\n",
       " '2021년 충북': 408,\n",
       " '2022년 강원': 317,\n",
       " '2022년 경기': 5971,\n",
       " '2022년 경남': 1701,\n",
       " '2022년 경북': 675,\n",
       " '2022년 광주': 477,\n",
       " '2022년 대구': 463,\n",
       " '2022년 대전': 873,\n",
       " '2022년 부산': 549,\n",
       " '2022년 서울': 2034,\n",
       " '2022년 세종': 120,\n",
       " '2022년 울산': 231,\n",
       " '2022년 인천': 881,\n",
       " '2022년 전남': 53,\n",
       " '2022년 전북': 605,\n",
       " '2022년 제주': 26,\n",
       " '2022년 충남': 942,\n",
       " '2022년 충북': 403,\n",
       " '2023년 강원': 291,\n",
       " '2023년 경기': 5807,\n",
       " '2023년 경남': 1640,\n",
       " '2023년 경북': 640,\n",
       " '2023년 광주': 452,\n",
       " '2023년 대구': 433,\n",
       " '2023년 대전': 845,\n",
       " '2023년 부산': 512,\n",
       " '2023년 서울': 1910,\n",
       " '2023년 세종': 87,\n",
       " '2023년 울산': 213,\n",
       " '2023년 인천': 862,\n",
       " '2023년 전남': 320,\n",
       " '2023년 전북': 583,\n",
       " '2023년 제주': 23,\n",
       " '2023년 충남': 909,\n",
       " '2023년 충북': 382,\n",
       " '2024년 강원': 289,\n",
       " '2024년 경기': 5669,\n",
       " '2024년 경남': 1623,\n",
       " '2024년 경북': 637,\n",
       " '2024년 광주': 450,\n",
       " '2024년 대구': 423,\n",
       " '2024년 대전': 835,\n",
       " '2024년 부산': 502,\n",
       " '2024년 서울': 1884,\n",
       " '2024년 세종': 83,\n",
       " '2024년 울산': 211,\n",
       " '2024년 인천': 836,\n",
       " '2024년 전남': 313,\n",
       " '2024년 전북': 575,\n",
       " '2024년 제주': 24,\n",
       " '2024년 충남': 888,\n",
       " '2024년 충북': 379}"
      ]
     },
     "execution_count": 32,
     "metadata": {},
     "output_type": "execute_result"
    }
   ],
   "source": [
    "count_dict"
   ]
  },
  {
   "cell_type": "markdown",
   "metadata": {},
   "source": [
    "- (어린이집) 카카오맵 api 요청하여 위도, 경도 받기"
   ]
  },
  {
   "cell_type": "code",
   "execution_count": 34,
   "metadata": {},
   "outputs": [],
   "source": [
    "import requests, json\n",
    "\n",
    "def get_location(address):\n",
    "    url = 'https://dapi.kakao.com/v2/local/search/address.json?query=' + address\n",
    "    headers = {\"Authorization\": \"KakaoAK 60944e2fb478274116d4cc2830de47e3\"}\n",
    "    api_json = json.loads(str(requests.get(url,headers=headers).text))\n",
    "    return api_json"
   ]
  },
  {
   "cell_type": "markdown",
   "metadata": {},
   "source": [
    "- 크롤링 코드\n",
    "    - 사전 주소 결측치 확인"
   ]
  },
  {
   "cell_type": "code",
   "execution_count": 35,
   "metadata": {},
   "outputs": [
    {
     "name": "stdout",
     "output_type": "stream",
     "text": [
      "2020년도 강원의 주소 컬럼 결측치 : 0\n",
      "2020년도 경기의 주소 컬럼 결측치 : 0\n",
      "2020년도 경남의 주소 컬럼 결측치 : 0\n",
      "2020년도 경북의 주소 컬럼 결측치 : 0\n",
      "2020년도 광주의 주소 컬럼 결측치 : 0\n",
      "2020년도 대구의 주소 컬럼 결측치 : 0\n",
      "2020년도 대전의 주소 컬럼 결측치 : 0\n",
      "2020년도 부산의 주소 컬럼 결측치 : 0\n",
      "2020년도 서울의 주소 컬럼 결측치 : 0\n",
      "2020년도 세종의 주소 컬럼 결측치 : 0\n",
      "2020년도 울산의 주소 컬럼 결측치 : 0\n",
      "2020년도 인천의 주소 컬럼 결측치 : 0\n",
      "2020년도 전남의 주소 컬럼 결측치 : 0\n",
      "2020년도 전북의 주소 컬럼 결측치 : 0\n",
      "2020년도 제주의 주소 컬럼 결측치 : 0\n",
      "2020년도 충남의 주소 컬럼 결측치 : 0\n",
      "2020년도 충북의 주소 컬럼 결측치 : 0\n",
      "2021년도 강원의 주소 컬럼 결측치 : 0\n",
      "2021년도 경기의 주소 컬럼 결측치 : 0\n",
      "2021년도 경남의 주소 컬럼 결측치 : 0\n",
      "2021년도 경북의 주소 컬럼 결측치 : 0\n",
      "2021년도 광주의 주소 컬럼 결측치 : 0\n",
      "2021년도 대구의 주소 컬럼 결측치 : 0\n",
      "2021년도 대전의 주소 컬럼 결측치 : 0\n",
      "2021년도 부산의 주소 컬럼 결측치 : 0\n",
      "2021년도 서울의 주소 컬럼 결측치 : 0\n",
      "2021년도 세종의 주소 컬럼 결측치 : 0\n",
      "2021년도 울산의 주소 컬럼 결측치 : 0\n",
      "2021년도 인천의 주소 컬럼 결측치 : 0\n",
      "2021년도 전남의 주소 컬럼 결측치 : 0\n",
      "2021년도 전북의 주소 컬럼 결측치 : 0\n",
      "2021년도 제주의 주소 컬럼 결측치 : 0\n",
      "2021년도 충남의 주소 컬럼 결측치 : 0\n",
      "2021년도 충북의 주소 컬럼 결측치 : 0\n",
      "2022년도 강원의 주소 컬럼 결측치 : 0\n",
      "2022년도 경기의 주소 컬럼 결측치 : 0\n",
      "2022년도 경남의 주소 컬럼 결측치 : 0\n",
      "2022년도 경북의 주소 컬럼 결측치 : 0\n",
      "2022년도 광주의 주소 컬럼 결측치 : 0\n",
      "2022년도 대구의 주소 컬럼 결측치 : 0\n",
      "2022년도 대전의 주소 컬럼 결측치 : 0\n",
      "2022년도 부산의 주소 컬럼 결측치 : 0\n",
      "2022년도 서울의 주소 컬럼 결측치 : 0\n",
      "2022년도 세종의 주소 컬럼 결측치 : 0\n",
      "2022년도 울산의 주소 컬럼 결측치 : 0\n",
      "2022년도 인천의 주소 컬럼 결측치 : 0\n",
      "2022년도 전남의 주소 컬럼 결측치 : 0\n",
      "2022년도 전북의 주소 컬럼 결측치 : 0\n",
      "2022년도 제주의 주소 컬럼 결측치 : 0\n",
      "2022년도 충남의 주소 컬럼 결측치 : 0\n",
      "2022년도 충북의 주소 컬럼 결측치 : 0\n",
      "2023년도 강원의 주소 컬럼 결측치 : 0\n",
      "2023년도 경기의 주소 컬럼 결측치 : 0\n",
      "2023년도 경남의 주소 컬럼 결측치 : 0\n",
      "2023년도 경북의 주소 컬럼 결측치 : 0\n",
      "2023년도 광주의 주소 컬럼 결측치 : 0\n",
      "2023년도 대구의 주소 컬럼 결측치 : 0\n",
      "2023년도 대전의 주소 컬럼 결측치 : 0\n",
      "2023년도 부산의 주소 컬럼 결측치 : 0\n",
      "2023년도 서울의 주소 컬럼 결측치 : 0\n",
      "2023년도 세종의 주소 컬럼 결측치 : 0\n",
      "2023년도 울산의 주소 컬럼 결측치 : 0\n",
      "2023년도 인천의 주소 컬럼 결측치 : 0\n",
      "2023년도 전남의 주소 컬럼 결측치 : 0\n",
      "2023년도 전북의 주소 컬럼 결측치 : 0\n",
      "2023년도 제주의 주소 컬럼 결측치 : 0\n",
      "2023년도 충남의 주소 컬럼 결측치 : 0\n",
      "2023년도 충북의 주소 컬럼 결측치 : 0\n",
      "2024년도 강원의 주소 컬럼 결측치 : 0\n",
      "2024년도 경기의 주소 컬럼 결측치 : 0\n",
      "2024년도 경남의 주소 컬럼 결측치 : 0\n",
      "2024년도 경북의 주소 컬럼 결측치 : 0\n",
      "2024년도 광주의 주소 컬럼 결측치 : 0\n",
      "2024년도 대구의 주소 컬럼 결측치 : 0\n",
      "2024년도 대전의 주소 컬럼 결측치 : 0\n",
      "2024년도 부산의 주소 컬럼 결측치 : 0\n",
      "2024년도 서울의 주소 컬럼 결측치 : 0\n",
      "2024년도 세종의 주소 컬럼 결측치 : 0\n",
      "2024년도 울산의 주소 컬럼 결측치 : 0\n",
      "2024년도 인천의 주소 컬럼 결측치 : 0\n",
      "2024년도 전남의 주소 컬럼 결측치 : 0\n",
      "2024년도 전북의 주소 컬럼 결측치 : 0\n",
      "2024년도 제주의 주소 컬럼 결측치 : 0\n",
      "2024년도 충남의 주소 컬럼 결측치 : 0\n",
      "2024년도 충북의 주소 컬럼 결측치 : 0\n",
      "전체 주소 컬럼 결측치 개수 :  0\n"
     ]
    }
   ],
   "source": [
    "address_null_count = 0\n",
    "for i in range(2020, 2025):\n",
    "    for j in range(len(order)):\n",
    "        table = pd.read_excel(get_file_path(kid_path(i), j, printok=False), engine='xlrd')\n",
    "        print('{0}년도 {1}의 주소 컬럼 결측치 : {2}'.format(i, order[j], table['주소'].isnull().sum()))\n",
    "        address_null_count += table['주소'].isnull().sum()\n",
    "\n",
    "print(\"전체 주소 컬럼 결측치 개수 : \", address_null_count)"
   ]
  },
  {
   "cell_type": "code",
   "execution_count": 60,
   "metadata": {},
   "outputs": [
    {
     "data": {
      "text/plain": [
       "{'documents': [{'address': {'address_name': '강원특별자치도 춘천시 동면 만천리 560',\n",
       "    'b_code': '5111031022',\n",
       "    'h_code': '5111031000',\n",
       "    'main_address_no': '560',\n",
       "    'mountain_yn': 'N',\n",
       "    'region_1depth_name': '강원특별자치도',\n",
       "    'region_2depth_name': '춘천시',\n",
       "    'region_3depth_h_name': '동면',\n",
       "    'region_3depth_name': '동면 만천리',\n",
       "    'sub_address_no': '',\n",
       "    'x': '127.764208395463',\n",
       "    'y': '37.8782044407961'},\n",
       "   'address_name': '강원특별자치도 춘천시 동면 만천로143번길 84',\n",
       "   'address_type': 'ROAD_ADDR',\n",
       "   'road_address': {'address_name': '강원특별자치도 춘천시 동면 만천로143번길 84',\n",
       "    'building_name': '',\n",
       "    'main_building_no': '84',\n",
       "    'region_1depth_name': '강원특별자치도',\n",
       "    'region_2depth_name': '춘천시',\n",
       "    'region_3depth_name': '동면 만천리',\n",
       "    'road_name': '만천로143번길',\n",
       "    'sub_building_no': '',\n",
       "    'underground_yn': 'N',\n",
       "    'x': '127.764208395463',\n",
       "    'y': '37.8782044407961',\n",
       "    'zone_no': '24217'},\n",
       "   'x': '127.764208395463',\n",
       "   'y': '37.8782044407961'}],\n",
       " 'meta': {'is_end': True, 'pageable_count': 1, 'total_count': 1}}"
      ]
     },
     "execution_count": 60,
     "metadata": {},
     "output_type": "execute_result"
    }
   ],
   "source": [
    "get_location('강원도 춘천시 동면 만천로143번길 84')"
   ]
  },
  {
   "cell_type": "code",
   "execution_count": 36,
   "metadata": {},
   "outputs": [
    {
     "name": "stdout",
     "output_type": "stream",
     "text": [
      "c:\\Users\\Kimmingee\\Desktop\\개발폴더\\kaggle_study\\Expect_freshman\\어린이집\\2020\\[경남]어린이집기본정보조회(정기)-기준일(20200229).xls  저장완료\n",
      "c:\\Users\\Kimmingee\\Desktop\\개발폴더\\kaggle_study\\Expect_freshman\\어린이집\\2020\\[경북]어린이집기본정보조회(정기)-기준일(20200229).xls  저장완료\n",
      "c:\\Users\\Kimmingee\\Desktop\\개발폴더\\kaggle_study\\Expect_freshman\\어린이집\\2020\\[광주]어린이집기본정보조회(정기)-기준일(20200229).xls  저장완료\n",
      "c:\\Users\\Kimmingee\\Desktop\\개발폴더\\kaggle_study\\Expect_freshman\\어린이집\\2020\\[대구]어린이집기본정보조회(정기)-기준일(20200229).xls  저장완료\n",
      "c:\\Users\\Kimmingee\\Desktop\\개발폴더\\kaggle_study\\Expect_freshman\\어린이집\\2020\\[대전]어린이집기본정보조회(정기)-기준일(20200229).xls  저장완료\n",
      "c:\\Users\\Kimmingee\\Desktop\\개발폴더\\kaggle_study\\Expect_freshman\\어린이집\\2020\\[부산]어린이집기본정보조회(정기)-기준일(20200229).xls  저장완료\n",
      "c:\\Users\\Kimmingee\\Desktop\\개발폴더\\kaggle_study\\Expect_freshman\\어린이집\\2020\\[서울]어린이집기본정보조회(정기)-기준일(20200229).xls  저장완료\n",
      "c:\\Users\\Kimmingee\\Desktop\\개발폴더\\kaggle_study\\Expect_freshman\\어린이집\\2020\\[세종]어린이집기본정보조회(정기)-기준일(20200229).xls  저장완료\n",
      "c:\\Users\\Kimmingee\\Desktop\\개발폴더\\kaggle_study\\Expect_freshman\\어린이집\\2020\\[울산]어린이집기본정보조회(정기)-기준일(20200229).xls  저장완료\n",
      "c:\\Users\\Kimmingee\\Desktop\\개발폴더\\kaggle_study\\Expect_freshman\\어린이집\\2020\\[인천]어린이집기본정보조회(정기)-기준일(20200229).xls  저장완료\n",
      "c:\\Users\\Kimmingee\\Desktop\\개발폴더\\kaggle_study\\Expect_freshman\\어린이집\\2020\\[전남]어린이집기본정보조회(정기)-기준일(20200229).xls  저장완료\n",
      "c:\\Users\\Kimmingee\\Desktop\\개발폴더\\kaggle_study\\Expect_freshman\\어린이집\\2020\\[전북]어린이집기본정보조회(정기)-기준일(20200229).xls  저장완료\n",
      "c:\\Users\\Kimmingee\\Desktop\\개발폴더\\kaggle_study\\Expect_freshman\\어린이집\\2020\\[제주]어린이집기본정보조회(정기)-기준일(20200229).xls  저장완료\n",
      "c:\\Users\\Kimmingee\\Desktop\\개발폴더\\kaggle_study\\Expect_freshman\\어린이집\\2020\\[충남]어린이집기본정보조회(정기)-기준일(20200229).xls  저장완료\n",
      "c:\\Users\\Kimmingee\\Desktop\\개발폴더\\kaggle_study\\Expect_freshman\\어린이집\\2020\\[충북]어린이집기본정보조회(정기)-기준일(20200229).xls  저장완료\n",
      "c:\\Users\\Kimmingee\\Desktop\\개발폴더\\kaggle_study\\Expect_freshman\\어린이집\\2021\\[강원]어린이집기본정보조회(정기)-기준일(20210228).xls  저장완료\n",
      "c:\\Users\\Kimmingee\\Desktop\\개발폴더\\kaggle_study\\Expect_freshman\\어린이집\\2021\\[경기]어린이집기본정보조회(정기)-기준일(20210228).xls  저장완료\n",
      "c:\\Users\\Kimmingee\\Desktop\\개발폴더\\kaggle_study\\Expect_freshman\\어린이집\\2021\\[경남]어린이집기본정보조회(정기)-기준일(20210228).xls  저장완료\n",
      "c:\\Users\\Kimmingee\\Desktop\\개발폴더\\kaggle_study\\Expect_freshman\\어린이집\\2021\\[경북]어린이집기본정보조회(정기)-기준일(20210228).xls  저장완료\n",
      "c:\\Users\\Kimmingee\\Desktop\\개발폴더\\kaggle_study\\Expect_freshman\\어린이집\\2021\\[광주]어린이집기본정보조회(정기)-기준일(20210228).xls  저장완료\n",
      "c:\\Users\\Kimmingee\\Desktop\\개발폴더\\kaggle_study\\Expect_freshman\\어린이집\\2021\\[대구]어린이집기본정보조회(정기)-기준일(20210228).xls  저장완료\n",
      "c:\\Users\\Kimmingee\\Desktop\\개발폴더\\kaggle_study\\Expect_freshman\\어린이집\\2021\\[대전]어린이집기본정보조회(정기)-기준일(20210228).xls  저장완료\n",
      "c:\\Users\\Kimmingee\\Desktop\\개발폴더\\kaggle_study\\Expect_freshman\\어린이집\\2021\\[부산]어린이집기본정보조회(정기)-기준일(20210228).xls  저장완료\n",
      "c:\\Users\\Kimmingee\\Desktop\\개발폴더\\kaggle_study\\Expect_freshman\\어린이집\\2021\\[서울]어린이집기본정보조회(정기)-기준일(20210228).xls  저장완료\n",
      "c:\\Users\\Kimmingee\\Desktop\\개발폴더\\kaggle_study\\Expect_freshman\\어린이집\\2021\\[세종]어린이집기본정보조회(정기)-기준일(20210228).xls  저장완료\n",
      "c:\\Users\\Kimmingee\\Desktop\\개발폴더\\kaggle_study\\Expect_freshman\\어린이집\\2021\\[울산]어린이집기본정보조회(정기)-기준일(20210228).xls  저장완료\n",
      "c:\\Users\\Kimmingee\\Desktop\\개발폴더\\kaggle_study\\Expect_freshman\\어린이집\\2021\\[인천]어린이집기본정보조회(정기)-기준일(20210228).xls  저장완료\n",
      "c:\\Users\\Kimmingee\\Desktop\\개발폴더\\kaggle_study\\Expect_freshman\\어린이집\\2021\\[전남]어린이집기본정보조회(정기)-기준일(20210228).xls  저장완료\n"
     ]
    },
    {
     "ename": "KeyboardInterrupt",
     "evalue": "",
     "output_type": "error",
     "traceback": [
      "\u001b[1;31m---------------------------------------------------------------------------\u001b[0m",
      "\u001b[1;31mKeyboardInterrupt\u001b[0m                         Traceback (most recent call last)",
      "Cell \u001b[1;32mIn[36], line 16\u001b[0m\n\u001b[0;32m     14\u001b[0m 경도 \u001b[38;5;241m=\u001b[39m k[\u001b[38;5;241m1\u001b[39m]\n\u001b[0;32m     15\u001b[0m \u001b[38;5;28;01mfor\u001b[39;00m h \u001b[38;5;129;01min\u001b[39;00m table[(table[\u001b[38;5;124m'\u001b[39m\u001b[38;5;124m위도\u001b[39m\u001b[38;5;124m'\u001b[39m] \u001b[38;5;241m==\u001b[39m 위도) \u001b[38;5;241m&\u001b[39m (table[\u001b[38;5;124m'\u001b[39m\u001b[38;5;124m경도\u001b[39m\u001b[38;5;124m'\u001b[39m]\u001b[38;5;241m==\u001b[39m경도)][\u001b[38;5;124m'\u001b[39m\u001b[38;5;124m주소\u001b[39m\u001b[38;5;124m'\u001b[39m]:\n\u001b[1;32m---> 16\u001b[0m     json_data \u001b[38;5;241m=\u001b[39m get_location(h)\n\u001b[0;32m     18\u001b[0m     \u001b[38;5;28;01mif\u001b[39;00m \u001b[38;5;28mint\u001b[39m(json_data[\u001b[38;5;124m'\u001b[39m\u001b[38;5;124mmeta\u001b[39m\u001b[38;5;124m'\u001b[39m][\u001b[38;5;124m'\u001b[39m\u001b[38;5;124mtotal_count\u001b[39m\u001b[38;5;124m'\u001b[39m]) \u001b[38;5;241m>\u001b[39m \u001b[38;5;241m0\u001b[39m:\n\u001b[0;32m     19\u001b[0m         new_table\u001b[38;5;241m.\u001b[39mloc[table[table[\u001b[38;5;124m'\u001b[39m\u001b[38;5;124m주소\u001b[39m\u001b[38;5;124m'\u001b[39m] \u001b[38;5;241m==\u001b[39m h]\u001b[38;5;241m.\u001b[39mindex, [\u001b[38;5;124m'\u001b[39m\u001b[38;5;124m위도\u001b[39m\u001b[38;5;124m'\u001b[39m]] \u001b[38;5;241m=\u001b[39m np\u001b[38;5;241m.\u001b[39mfloat64(json_data[\u001b[38;5;124m'\u001b[39m\u001b[38;5;124mdocuments\u001b[39m\u001b[38;5;124m'\u001b[39m][\u001b[38;5;241m0\u001b[39m][\u001b[38;5;124m'\u001b[39m\u001b[38;5;124maddress\u001b[39m\u001b[38;5;124m'\u001b[39m][\u001b[38;5;124m'\u001b[39m\u001b[38;5;124my\u001b[39m\u001b[38;5;124m'\u001b[39m])\n",
      "Cell \u001b[1;32mIn[34], line 6\u001b[0m, in \u001b[0;36mget_location\u001b[1;34m(address)\u001b[0m\n\u001b[0;32m      4\u001b[0m url \u001b[38;5;241m=\u001b[39m \u001b[38;5;124m'\u001b[39m\u001b[38;5;124mhttps://dapi.kakao.com/v2/local/search/address.json?query=\u001b[39m\u001b[38;5;124m'\u001b[39m \u001b[38;5;241m+\u001b[39m address\n\u001b[0;32m      5\u001b[0m headers \u001b[38;5;241m=\u001b[39m {\u001b[38;5;124m\"\u001b[39m\u001b[38;5;124mAuthorization\u001b[39m\u001b[38;5;124m\"\u001b[39m: \u001b[38;5;124m\"\u001b[39m\u001b[38;5;124mKakaoAK 60944e2fb478274116d4cc2830de47e3\u001b[39m\u001b[38;5;124m\"\u001b[39m}\n\u001b[1;32m----> 6\u001b[0m api_json \u001b[38;5;241m=\u001b[39m json\u001b[38;5;241m.\u001b[39mloads(\u001b[38;5;28mstr\u001b[39m(requests\u001b[38;5;241m.\u001b[39mget(url,headers\u001b[38;5;241m=\u001b[39mheaders)\u001b[38;5;241m.\u001b[39mtext))\n\u001b[0;32m      7\u001b[0m \u001b[38;5;28;01mreturn\u001b[39;00m api_json\n",
      "File \u001b[1;32mc:\\Users\\Kimmingee\\anaconda3\\Lib\\site-packages\\requests\\api.py:73\u001b[0m, in \u001b[0;36mget\u001b[1;34m(url, params, **kwargs)\u001b[0m\n\u001b[0;32m     62\u001b[0m \u001b[38;5;28;01mdef\u001b[39;00m \u001b[38;5;21mget\u001b[39m(url, params\u001b[38;5;241m=\u001b[39m\u001b[38;5;28;01mNone\u001b[39;00m, \u001b[38;5;241m*\u001b[39m\u001b[38;5;241m*\u001b[39mkwargs):\n\u001b[0;32m     63\u001b[0m \u001b[38;5;250m    \u001b[39m\u001b[38;5;124mr\u001b[39m\u001b[38;5;124;03m\"\"\"Sends a GET request.\u001b[39;00m\n\u001b[0;32m     64\u001b[0m \n\u001b[0;32m     65\u001b[0m \u001b[38;5;124;03m    :param url: URL for the new :class:`Request` object.\u001b[39;00m\n\u001b[1;32m   (...)\u001b[0m\n\u001b[0;32m     70\u001b[0m \u001b[38;5;124;03m    :rtype: requests.Response\u001b[39;00m\n\u001b[0;32m     71\u001b[0m \u001b[38;5;124;03m    \"\"\"\u001b[39;00m\n\u001b[1;32m---> 73\u001b[0m     \u001b[38;5;28;01mreturn\u001b[39;00m request(\u001b[38;5;124m\"\u001b[39m\u001b[38;5;124mget\u001b[39m\u001b[38;5;124m\"\u001b[39m, url, params\u001b[38;5;241m=\u001b[39mparams, \u001b[38;5;241m*\u001b[39m\u001b[38;5;241m*\u001b[39mkwargs)\n",
      "File \u001b[1;32mc:\\Users\\Kimmingee\\anaconda3\\Lib\\site-packages\\requests\\api.py:59\u001b[0m, in \u001b[0;36mrequest\u001b[1;34m(method, url, **kwargs)\u001b[0m\n\u001b[0;32m     55\u001b[0m \u001b[38;5;66;03m# By using the 'with' statement we are sure the session is closed, thus we\u001b[39;00m\n\u001b[0;32m     56\u001b[0m \u001b[38;5;66;03m# avoid leaving sockets open which can trigger a ResourceWarning in some\u001b[39;00m\n\u001b[0;32m     57\u001b[0m \u001b[38;5;66;03m# cases, and look like a memory leak in others.\u001b[39;00m\n\u001b[0;32m     58\u001b[0m \u001b[38;5;28;01mwith\u001b[39;00m sessions\u001b[38;5;241m.\u001b[39mSession() \u001b[38;5;28;01mas\u001b[39;00m session:\n\u001b[1;32m---> 59\u001b[0m     \u001b[38;5;28;01mreturn\u001b[39;00m session\u001b[38;5;241m.\u001b[39mrequest(method\u001b[38;5;241m=\u001b[39mmethod, url\u001b[38;5;241m=\u001b[39murl, \u001b[38;5;241m*\u001b[39m\u001b[38;5;241m*\u001b[39mkwargs)\n",
      "File \u001b[1;32mc:\\Users\\Kimmingee\\anaconda3\\Lib\\site-packages\\requests\\sessions.py:589\u001b[0m, in \u001b[0;36mSession.request\u001b[1;34m(self, method, url, params, data, headers, cookies, files, auth, timeout, allow_redirects, proxies, hooks, stream, verify, cert, json)\u001b[0m\n\u001b[0;32m    584\u001b[0m send_kwargs \u001b[38;5;241m=\u001b[39m {\n\u001b[0;32m    585\u001b[0m     \u001b[38;5;124m\"\u001b[39m\u001b[38;5;124mtimeout\u001b[39m\u001b[38;5;124m\"\u001b[39m: timeout,\n\u001b[0;32m    586\u001b[0m     \u001b[38;5;124m\"\u001b[39m\u001b[38;5;124mallow_redirects\u001b[39m\u001b[38;5;124m\"\u001b[39m: allow_redirects,\n\u001b[0;32m    587\u001b[0m }\n\u001b[0;32m    588\u001b[0m send_kwargs\u001b[38;5;241m.\u001b[39mupdate(settings)\n\u001b[1;32m--> 589\u001b[0m resp \u001b[38;5;241m=\u001b[39m \u001b[38;5;28mself\u001b[39m\u001b[38;5;241m.\u001b[39msend(prep, \u001b[38;5;241m*\u001b[39m\u001b[38;5;241m*\u001b[39msend_kwargs)\n\u001b[0;32m    591\u001b[0m \u001b[38;5;28;01mreturn\u001b[39;00m resp\n",
      "File \u001b[1;32mc:\\Users\\Kimmingee\\anaconda3\\Lib\\site-packages\\requests\\sessions.py:703\u001b[0m, in \u001b[0;36mSession.send\u001b[1;34m(self, request, **kwargs)\u001b[0m\n\u001b[0;32m    700\u001b[0m start \u001b[38;5;241m=\u001b[39m preferred_clock()\n\u001b[0;32m    702\u001b[0m \u001b[38;5;66;03m# Send the request\u001b[39;00m\n\u001b[1;32m--> 703\u001b[0m r \u001b[38;5;241m=\u001b[39m adapter\u001b[38;5;241m.\u001b[39msend(request, \u001b[38;5;241m*\u001b[39m\u001b[38;5;241m*\u001b[39mkwargs)\n\u001b[0;32m    705\u001b[0m \u001b[38;5;66;03m# Total elapsed time of the request (approximately)\u001b[39;00m\n\u001b[0;32m    706\u001b[0m elapsed \u001b[38;5;241m=\u001b[39m preferred_clock() \u001b[38;5;241m-\u001b[39m start\n",
      "File \u001b[1;32mc:\\Users\\Kimmingee\\anaconda3\\Lib\\site-packages\\requests\\adapters.py:486\u001b[0m, in \u001b[0;36mHTTPAdapter.send\u001b[1;34m(self, request, stream, timeout, verify, cert, proxies)\u001b[0m\n\u001b[0;32m    483\u001b[0m     timeout \u001b[38;5;241m=\u001b[39m TimeoutSauce(connect\u001b[38;5;241m=\u001b[39mtimeout, read\u001b[38;5;241m=\u001b[39mtimeout)\n\u001b[0;32m    485\u001b[0m \u001b[38;5;28;01mtry\u001b[39;00m:\n\u001b[1;32m--> 486\u001b[0m     resp \u001b[38;5;241m=\u001b[39m conn\u001b[38;5;241m.\u001b[39murlopen(\n\u001b[0;32m    487\u001b[0m         method\u001b[38;5;241m=\u001b[39mrequest\u001b[38;5;241m.\u001b[39mmethod,\n\u001b[0;32m    488\u001b[0m         url\u001b[38;5;241m=\u001b[39murl,\n\u001b[0;32m    489\u001b[0m         body\u001b[38;5;241m=\u001b[39mrequest\u001b[38;5;241m.\u001b[39mbody,\n\u001b[0;32m    490\u001b[0m         headers\u001b[38;5;241m=\u001b[39mrequest\u001b[38;5;241m.\u001b[39mheaders,\n\u001b[0;32m    491\u001b[0m         redirect\u001b[38;5;241m=\u001b[39m\u001b[38;5;28;01mFalse\u001b[39;00m,\n\u001b[0;32m    492\u001b[0m         assert_same_host\u001b[38;5;241m=\u001b[39m\u001b[38;5;28;01mFalse\u001b[39;00m,\n\u001b[0;32m    493\u001b[0m         preload_content\u001b[38;5;241m=\u001b[39m\u001b[38;5;28;01mFalse\u001b[39;00m,\n\u001b[0;32m    494\u001b[0m         decode_content\u001b[38;5;241m=\u001b[39m\u001b[38;5;28;01mFalse\u001b[39;00m,\n\u001b[0;32m    495\u001b[0m         retries\u001b[38;5;241m=\u001b[39m\u001b[38;5;28mself\u001b[39m\u001b[38;5;241m.\u001b[39mmax_retries,\n\u001b[0;32m    496\u001b[0m         timeout\u001b[38;5;241m=\u001b[39mtimeout,\n\u001b[0;32m    497\u001b[0m         chunked\u001b[38;5;241m=\u001b[39mchunked,\n\u001b[0;32m    498\u001b[0m     )\n\u001b[0;32m    500\u001b[0m \u001b[38;5;28;01mexcept\u001b[39;00m (ProtocolError, \u001b[38;5;167;01mOSError\u001b[39;00m) \u001b[38;5;28;01mas\u001b[39;00m err:\n\u001b[0;32m    501\u001b[0m     \u001b[38;5;28;01mraise\u001b[39;00m \u001b[38;5;167;01mConnectionError\u001b[39;00m(err, request\u001b[38;5;241m=\u001b[39mrequest)\n",
      "File \u001b[1;32mc:\\Users\\Kimmingee\\anaconda3\\Lib\\site-packages\\urllib3\\connectionpool.py:715\u001b[0m, in \u001b[0;36mHTTPConnectionPool.urlopen\u001b[1;34m(self, method, url, body, headers, retries, redirect, assert_same_host, timeout, pool_timeout, release_conn, chunked, body_pos, **response_kw)\u001b[0m\n\u001b[0;32m    712\u001b[0m     \u001b[38;5;28mself\u001b[39m\u001b[38;5;241m.\u001b[39m_prepare_proxy(conn)\n\u001b[0;32m    714\u001b[0m \u001b[38;5;66;03m# Make the request on the httplib connection object.\u001b[39;00m\n\u001b[1;32m--> 715\u001b[0m httplib_response \u001b[38;5;241m=\u001b[39m \u001b[38;5;28mself\u001b[39m\u001b[38;5;241m.\u001b[39m_make_request(\n\u001b[0;32m    716\u001b[0m     conn,\n\u001b[0;32m    717\u001b[0m     method,\n\u001b[0;32m    718\u001b[0m     url,\n\u001b[0;32m    719\u001b[0m     timeout\u001b[38;5;241m=\u001b[39mtimeout_obj,\n\u001b[0;32m    720\u001b[0m     body\u001b[38;5;241m=\u001b[39mbody,\n\u001b[0;32m    721\u001b[0m     headers\u001b[38;5;241m=\u001b[39mheaders,\n\u001b[0;32m    722\u001b[0m     chunked\u001b[38;5;241m=\u001b[39mchunked,\n\u001b[0;32m    723\u001b[0m )\n\u001b[0;32m    725\u001b[0m \u001b[38;5;66;03m# If we're going to release the connection in ``finally:``, then\u001b[39;00m\n\u001b[0;32m    726\u001b[0m \u001b[38;5;66;03m# the response doesn't need to know about the connection. Otherwise\u001b[39;00m\n\u001b[0;32m    727\u001b[0m \u001b[38;5;66;03m# it will also try to release it and we'll have a double-release\u001b[39;00m\n\u001b[0;32m    728\u001b[0m \u001b[38;5;66;03m# mess.\u001b[39;00m\n\u001b[0;32m    729\u001b[0m response_conn \u001b[38;5;241m=\u001b[39m conn \u001b[38;5;28;01mif\u001b[39;00m \u001b[38;5;129;01mnot\u001b[39;00m release_conn \u001b[38;5;28;01melse\u001b[39;00m \u001b[38;5;28;01mNone\u001b[39;00m\n",
      "File \u001b[1;32mc:\\Users\\Kimmingee\\anaconda3\\Lib\\site-packages\\urllib3\\connectionpool.py:467\u001b[0m, in \u001b[0;36mHTTPConnectionPool._make_request\u001b[1;34m(self, conn, method, url, timeout, chunked, **httplib_request_kw)\u001b[0m\n\u001b[0;32m    462\u001b[0m             httplib_response \u001b[38;5;241m=\u001b[39m conn\u001b[38;5;241m.\u001b[39mgetresponse()\n\u001b[0;32m    463\u001b[0m         \u001b[38;5;28;01mexcept\u001b[39;00m \u001b[38;5;167;01mBaseException\u001b[39;00m \u001b[38;5;28;01mas\u001b[39;00m e:\n\u001b[0;32m    464\u001b[0m             \u001b[38;5;66;03m# Remove the TypeError from the exception chain in\u001b[39;00m\n\u001b[0;32m    465\u001b[0m             \u001b[38;5;66;03m# Python 3 (including for exceptions like SystemExit).\u001b[39;00m\n\u001b[0;32m    466\u001b[0m             \u001b[38;5;66;03m# Otherwise it looks like a bug in the code.\u001b[39;00m\n\u001b[1;32m--> 467\u001b[0m             six\u001b[38;5;241m.\u001b[39mraise_from(e, \u001b[38;5;28;01mNone\u001b[39;00m)\n\u001b[0;32m    468\u001b[0m \u001b[38;5;28;01mexcept\u001b[39;00m (SocketTimeout, BaseSSLError, SocketError) \u001b[38;5;28;01mas\u001b[39;00m e:\n\u001b[0;32m    469\u001b[0m     \u001b[38;5;28mself\u001b[39m\u001b[38;5;241m.\u001b[39m_raise_timeout(err\u001b[38;5;241m=\u001b[39me, url\u001b[38;5;241m=\u001b[39murl, timeout_value\u001b[38;5;241m=\u001b[39mread_timeout)\n",
      "File \u001b[1;32m<string>:3\u001b[0m, in \u001b[0;36mraise_from\u001b[1;34m(value, from_value)\u001b[0m\n",
      "File \u001b[1;32mc:\\Users\\Kimmingee\\anaconda3\\Lib\\site-packages\\urllib3\\connectionpool.py:462\u001b[0m, in \u001b[0;36mHTTPConnectionPool._make_request\u001b[1;34m(self, conn, method, url, timeout, chunked, **httplib_request_kw)\u001b[0m\n\u001b[0;32m    459\u001b[0m \u001b[38;5;28;01mexcept\u001b[39;00m \u001b[38;5;167;01mTypeError\u001b[39;00m:\n\u001b[0;32m    460\u001b[0m     \u001b[38;5;66;03m# Python 3\u001b[39;00m\n\u001b[0;32m    461\u001b[0m     \u001b[38;5;28;01mtry\u001b[39;00m:\n\u001b[1;32m--> 462\u001b[0m         httplib_response \u001b[38;5;241m=\u001b[39m conn\u001b[38;5;241m.\u001b[39mgetresponse()\n\u001b[0;32m    463\u001b[0m     \u001b[38;5;28;01mexcept\u001b[39;00m \u001b[38;5;167;01mBaseException\u001b[39;00m \u001b[38;5;28;01mas\u001b[39;00m e:\n\u001b[0;32m    464\u001b[0m         \u001b[38;5;66;03m# Remove the TypeError from the exception chain in\u001b[39;00m\n\u001b[0;32m    465\u001b[0m         \u001b[38;5;66;03m# Python 3 (including for exceptions like SystemExit).\u001b[39;00m\n\u001b[0;32m    466\u001b[0m         \u001b[38;5;66;03m# Otherwise it looks like a bug in the code.\u001b[39;00m\n\u001b[0;32m    467\u001b[0m         six\u001b[38;5;241m.\u001b[39mraise_from(e, \u001b[38;5;28;01mNone\u001b[39;00m)\n",
      "File \u001b[1;32mc:\\Users\\Kimmingee\\anaconda3\\Lib\\http\\client.py:1378\u001b[0m, in \u001b[0;36mHTTPConnection.getresponse\u001b[1;34m(self)\u001b[0m\n\u001b[0;32m   1376\u001b[0m \u001b[38;5;28;01mtry\u001b[39;00m:\n\u001b[0;32m   1377\u001b[0m     \u001b[38;5;28;01mtry\u001b[39;00m:\n\u001b[1;32m-> 1378\u001b[0m         response\u001b[38;5;241m.\u001b[39mbegin()\n\u001b[0;32m   1379\u001b[0m     \u001b[38;5;28;01mexcept\u001b[39;00m \u001b[38;5;167;01mConnectionError\u001b[39;00m:\n\u001b[0;32m   1380\u001b[0m         \u001b[38;5;28mself\u001b[39m\u001b[38;5;241m.\u001b[39mclose()\n",
      "File \u001b[1;32mc:\\Users\\Kimmingee\\anaconda3\\Lib\\http\\client.py:318\u001b[0m, in \u001b[0;36mHTTPResponse.begin\u001b[1;34m(self)\u001b[0m\n\u001b[0;32m    316\u001b[0m \u001b[38;5;66;03m# read until we get a non-100 response\u001b[39;00m\n\u001b[0;32m    317\u001b[0m \u001b[38;5;28;01mwhile\u001b[39;00m \u001b[38;5;28;01mTrue\u001b[39;00m:\n\u001b[1;32m--> 318\u001b[0m     version, status, reason \u001b[38;5;241m=\u001b[39m \u001b[38;5;28mself\u001b[39m\u001b[38;5;241m.\u001b[39m_read_status()\n\u001b[0;32m    319\u001b[0m     \u001b[38;5;28;01mif\u001b[39;00m status \u001b[38;5;241m!=\u001b[39m CONTINUE:\n\u001b[0;32m    320\u001b[0m         \u001b[38;5;28;01mbreak\u001b[39;00m\n",
      "File \u001b[1;32mc:\\Users\\Kimmingee\\anaconda3\\Lib\\http\\client.py:279\u001b[0m, in \u001b[0;36mHTTPResponse._read_status\u001b[1;34m(self)\u001b[0m\n\u001b[0;32m    278\u001b[0m \u001b[38;5;28;01mdef\u001b[39;00m \u001b[38;5;21m_read_status\u001b[39m(\u001b[38;5;28mself\u001b[39m):\n\u001b[1;32m--> 279\u001b[0m     line \u001b[38;5;241m=\u001b[39m \u001b[38;5;28mstr\u001b[39m(\u001b[38;5;28mself\u001b[39m\u001b[38;5;241m.\u001b[39mfp\u001b[38;5;241m.\u001b[39mreadline(_MAXLINE \u001b[38;5;241m+\u001b[39m \u001b[38;5;241m1\u001b[39m), \u001b[38;5;124m\"\u001b[39m\u001b[38;5;124miso-8859-1\u001b[39m\u001b[38;5;124m\"\u001b[39m)\n\u001b[0;32m    280\u001b[0m     \u001b[38;5;28;01mif\u001b[39;00m \u001b[38;5;28mlen\u001b[39m(line) \u001b[38;5;241m>\u001b[39m _MAXLINE:\n\u001b[0;32m    281\u001b[0m         \u001b[38;5;28;01mraise\u001b[39;00m LineTooLong(\u001b[38;5;124m\"\u001b[39m\u001b[38;5;124mstatus line\u001b[39m\u001b[38;5;124m\"\u001b[39m)\n",
      "File \u001b[1;32mc:\\Users\\Kimmingee\\anaconda3\\Lib\\socket.py:706\u001b[0m, in \u001b[0;36mSocketIO.readinto\u001b[1;34m(self, b)\u001b[0m\n\u001b[0;32m    704\u001b[0m \u001b[38;5;28;01mwhile\u001b[39;00m \u001b[38;5;28;01mTrue\u001b[39;00m:\n\u001b[0;32m    705\u001b[0m     \u001b[38;5;28;01mtry\u001b[39;00m:\n\u001b[1;32m--> 706\u001b[0m         \u001b[38;5;28;01mreturn\u001b[39;00m \u001b[38;5;28mself\u001b[39m\u001b[38;5;241m.\u001b[39m_sock\u001b[38;5;241m.\u001b[39mrecv_into(b)\n\u001b[0;32m    707\u001b[0m     \u001b[38;5;28;01mexcept\u001b[39;00m timeout:\n\u001b[0;32m    708\u001b[0m         \u001b[38;5;28mself\u001b[39m\u001b[38;5;241m.\u001b[39m_timeout_occurred \u001b[38;5;241m=\u001b[39m \u001b[38;5;28;01mTrue\u001b[39;00m\n",
      "File \u001b[1;32mc:\\Users\\Kimmingee\\anaconda3\\Lib\\ssl.py:1311\u001b[0m, in \u001b[0;36mSSLSocket.recv_into\u001b[1;34m(self, buffer, nbytes, flags)\u001b[0m\n\u001b[0;32m   1307\u001b[0m     \u001b[38;5;28;01mif\u001b[39;00m flags \u001b[38;5;241m!=\u001b[39m \u001b[38;5;241m0\u001b[39m:\n\u001b[0;32m   1308\u001b[0m         \u001b[38;5;28;01mraise\u001b[39;00m \u001b[38;5;167;01mValueError\u001b[39;00m(\n\u001b[0;32m   1309\u001b[0m           \u001b[38;5;124m\"\u001b[39m\u001b[38;5;124mnon-zero flags not allowed in calls to recv_into() on \u001b[39m\u001b[38;5;132;01m%s\u001b[39;00m\u001b[38;5;124m\"\u001b[39m \u001b[38;5;241m%\u001b[39m\n\u001b[0;32m   1310\u001b[0m           \u001b[38;5;28mself\u001b[39m\u001b[38;5;241m.\u001b[39m\u001b[38;5;18m__class__\u001b[39m)\n\u001b[1;32m-> 1311\u001b[0m     \u001b[38;5;28;01mreturn\u001b[39;00m \u001b[38;5;28mself\u001b[39m\u001b[38;5;241m.\u001b[39mread(nbytes, buffer)\n\u001b[0;32m   1312\u001b[0m \u001b[38;5;28;01melse\u001b[39;00m:\n\u001b[0;32m   1313\u001b[0m     \u001b[38;5;28;01mreturn\u001b[39;00m \u001b[38;5;28msuper\u001b[39m()\u001b[38;5;241m.\u001b[39mrecv_into(buffer, nbytes, flags)\n",
      "File \u001b[1;32mc:\\Users\\Kimmingee\\anaconda3\\Lib\\ssl.py:1167\u001b[0m, in \u001b[0;36mSSLSocket.read\u001b[1;34m(self, len, buffer)\u001b[0m\n\u001b[0;32m   1165\u001b[0m \u001b[38;5;28;01mtry\u001b[39;00m:\n\u001b[0;32m   1166\u001b[0m     \u001b[38;5;28;01mif\u001b[39;00m buffer \u001b[38;5;129;01mis\u001b[39;00m \u001b[38;5;129;01mnot\u001b[39;00m \u001b[38;5;28;01mNone\u001b[39;00m:\n\u001b[1;32m-> 1167\u001b[0m         \u001b[38;5;28;01mreturn\u001b[39;00m \u001b[38;5;28mself\u001b[39m\u001b[38;5;241m.\u001b[39m_sslobj\u001b[38;5;241m.\u001b[39mread(\u001b[38;5;28mlen\u001b[39m, buffer)\n\u001b[0;32m   1168\u001b[0m     \u001b[38;5;28;01melse\u001b[39;00m:\n\u001b[0;32m   1169\u001b[0m         \u001b[38;5;28;01mreturn\u001b[39;00m \u001b[38;5;28mself\u001b[39m\u001b[38;5;241m.\u001b[39m_sslobj\u001b[38;5;241m.\u001b[39mread(\u001b[38;5;28mlen\u001b[39m)\n",
      "\u001b[1;31mKeyboardInterrupt\u001b[0m: "
     ]
    }
   ],
   "source": [
    "for i in range(2020, 2025):\n",
    "    for j in range(len(order)):\n",
    "        \n",
    "        ## 파일 존재 시 다음 파일\n",
    "        if os.path.isfile(os.path.join(save_path, get_file_path(kid_path(i), j, printok=False).replace(os.path.join(kid_path(i),\"\"), \"\")).replace('.xls','.xlsx')):\n",
    "            continue\n",
    "        \n",
    "        # 파일 불러오기\n",
    "        table = pd.read_excel(get_file_path(kid_path(i), j, printok=False), engine='xlrd')\n",
    "        new_table = table.copy()\n",
    "        Duplicated_Series = table[['위도', '경도']].value_counts()\n",
    "        for k in Duplicated_Series[Duplicated_Series>1].index:\n",
    "            위도 = k[0]\n",
    "            경도 = k[1]\n",
    "            for h in table[(table['위도'] == 위도) & (table['경도']==경도)]['주소']:\n",
    "                json_data = get_location(h)\n",
    "                \n",
    "                if int(json_data['meta']['total_count']) > 0:\n",
    "                    new_table.loc[table[table['주소'] == h].index, ['위도']] = np.float64(json_data['documents'][0]['address']['y'])\n",
    "                    new_table.loc[table[table['주소'] == h].index, ['경도']] = np.float64(json_data['documents'][0]['address']['x'])\n",
    "                else:\n",
    "                    new_table.loc[table[table['주소'] == h].index, ['위도']] = np.nan\n",
    "                    new_table.loc[table[table['주소'] == h].index, ['경도']] = np.nan\n",
    "\n",
    "        table.to_excel(os.path.join(save_path, get_file_path(kid_path(i), j, printok=False).replace(os.path.join(kid_path(i),\"\"), \"\")).replace('.xls','.xlsx'), sheet_name='sheet1')\n",
    "        print(get_file_path(kid_path(i), j, printok=False), ' 저장완료')"
   ]
  },
  {
   "cell_type": "markdown",
   "metadata": {},
   "source": [
    "- 보는 바와 같이 실제 위도와 다른 것을 확인할 수 있다.\n",
    "- 현재는 핫스팟 환경으로 작업하고 있기에 집에 복귀할 시, 돌려볼 예정이다.\n",
    "---"
   ]
  },
  {
   "cell_type": "markdown",
   "metadata": {},
   "source": [
    "- (초등학교) 현황 데이터 : \"정보공시 학교코드\", \"학교도로명 주소\", \"위도\", \"경도\""
   ]
  },
  {
   "cell_type": "code",
   "execution_count": 35,
   "metadata": {},
   "outputs": [
    {
     "name": "stdout",
     "output_type": "stream",
     "text": [
      "c:\\Users\\Kimmingee\\Desktop\\개발폴더\\kaggle_study\\Expect_freshman\\초등학교\\초등학교 현황.csv\n"
     ]
    },
    {
     "data": {
      "text/html": [
       "<div>\n",
       "<style scoped>\n",
       "    .dataframe tbody tr th:only-of-type {\n",
       "        vertical-align: middle;\n",
       "    }\n",
       "\n",
       "    .dataframe tbody tr th {\n",
       "        vertical-align: top;\n",
       "    }\n",
       "\n",
       "    .dataframe thead th {\n",
       "        text-align: right;\n",
       "    }\n",
       "</style>\n",
       "<table border=\"1\" class=\"dataframe\">\n",
       "  <thead>\n",
       "    <tr style=\"text-align: right;\">\n",
       "      <th></th>\n",
       "      <th>정보공시 학교코드</th>\n",
       "      <th>학교도로명 주소</th>\n",
       "      <th>위도</th>\n",
       "      <th>경도</th>\n",
       "    </tr>\n",
       "  </thead>\n",
       "  <tbody>\n",
       "    <tr>\n",
       "      <th>0</th>\n",
       "      <td>S000003511</td>\n",
       "      <td>서울특별시 서초구 서초중앙로 96</td>\n",
       "      <td>37.490739</td>\n",
       "      <td>127.015424</td>\n",
       "    </tr>\n",
       "    <tr>\n",
       "      <th>1</th>\n",
       "      <td>S000003563</td>\n",
       "      <td>서울특별시 종로구 대학로 64</td>\n",
       "      <td>37.577017</td>\n",
       "      <td>127.003091</td>\n",
       "    </tr>\n",
       "    <tr>\n",
       "      <th>2</th>\n",
       "      <td>S010000737</td>\n",
       "      <td>서울특별시 강남구 선릉로 29</td>\n",
       "      <td>37.481618</td>\n",
       "      <td>127.058738</td>\n",
       "    </tr>\n",
       "    <tr>\n",
       "      <th>3</th>\n",
       "      <td>S010000738</td>\n",
       "      <td>서울특별시 강남구 개포로 401</td>\n",
       "      <td>37.486214</td>\n",
       "      <td>127.057742</td>\n",
       "    </tr>\n",
       "    <tr>\n",
       "      <th>4</th>\n",
       "      <td>S010000739</td>\n",
       "      <td>서울특별시 강남구 삼성로4길 30</td>\n",
       "      <td>37.486805</td>\n",
       "      <td>127.069977</td>\n",
       "    </tr>\n",
       "    <tr>\n",
       "      <th>...</th>\n",
       "      <td>...</td>\n",
       "      <td>...</td>\n",
       "      <td>...</td>\n",
       "      <td>...</td>\n",
       "    </tr>\n",
       "    <tr>\n",
       "      <th>6723</th>\n",
       "      <td>S170000801</td>\n",
       "      <td>제주특별자치도 제주시 남녕로 63</td>\n",
       "      <td>33.492826</td>\n",
       "      <td>126.477950</td>\n",
       "    </tr>\n",
       "    <tr>\n",
       "      <th>6724</th>\n",
       "      <td>S170000834</td>\n",
       "      <td>제주특별자치도 제주시 구남동2길 58</td>\n",
       "      <td>33.488121</td>\n",
       "      <td>126.531991</td>\n",
       "    </tr>\n",
       "    <tr>\n",
       "      <th>6725</th>\n",
       "      <td>S170000836</td>\n",
       "      <td>제주특별자치도 제주시 화삼로 104</td>\n",
       "      <td>33.514019</td>\n",
       "      <td>126.584301</td>\n",
       "    </tr>\n",
       "    <tr>\n",
       "      <th>6726</th>\n",
       "      <td>S170000837</td>\n",
       "      <td>제주특별자치도 제주시 화삼북로2길 27</td>\n",
       "      <td>33.515224</td>\n",
       "      <td>126.577005</td>\n",
       "    </tr>\n",
       "    <tr>\n",
       "      <th>6727</th>\n",
       "      <td>S170000839</td>\n",
       "      <td>제주특별자치도 제주시 애월읍 하귀9길 42</td>\n",
       "      <td>33.483420</td>\n",
       "      <td>126.415364</td>\n",
       "    </tr>\n",
       "  </tbody>\n",
       "</table>\n",
       "<p>6728 rows × 4 columns</p>\n",
       "</div>"
      ],
      "text/plain": [
       "       정보공시 학교코드                 학교도로명 주소         위도          경도\n",
       "0     S000003511       서울특별시 서초구 서초중앙로 96  37.490739  127.015424\n",
       "1     S000003563         서울특별시 종로구 대학로 64  37.577017  127.003091\n",
       "2     S010000737         서울특별시 강남구 선릉로 29  37.481618  127.058738\n",
       "3     S010000738        서울특별시 강남구 개포로 401  37.486214  127.057742\n",
       "4     S010000739       서울특별시 강남구 삼성로4길 30  37.486805  127.069977\n",
       "...          ...                      ...        ...         ...\n",
       "6723  S170000801       제주특별자치도 제주시 남녕로 63  33.492826  126.477950\n",
       "6724  S170000834     제주특별자치도 제주시 구남동2길 58  33.488121  126.531991\n",
       "6725  S170000836      제주특별자치도 제주시 화삼로 104  33.514019  126.584301\n",
       "6726  S170000837    제주특별자치도 제주시 화삼북로2길 27  33.515224  126.577005\n",
       "6727  S170000839  제주특별자치도 제주시 애월읍 하귀9길 42  33.483420  126.415364\n",
       "\n",
       "[6728 rows x 4 columns]"
      ]
     },
     "execution_count": 35,
     "metadata": {},
     "output_type": "execute_result"
    }
   ],
   "source": [
    "cho_where = pd.read_csv(get_file_path(chodeung_path, 6))[[\"정보공시 학교코드\", \"학교도로명 주소\", \"위도\", \"경도\"]]\n",
    "cho_where"
   ]
  },
  {
   "cell_type": "markdown",
   "metadata": {},
   "source": [
    "- (초등학교) 정보공시 학교코드 중복확인1"
   ]
  },
  {
   "cell_type": "code",
   "execution_count": 36,
   "metadata": {},
   "outputs": [
    {
     "data": {
      "text/plain": [
       "정보공시 학교코드\n",
       "S000003511    1\n",
       "S120002557    1\n",
       "S120002912    1\n",
       "S120002907    1\n",
       "S120002897    1\n",
       "             ..\n",
       "S090001962    1\n",
       "S090001961    1\n",
       "S090001960    1\n",
       "S090001959    1\n",
       "S170000839    1\n",
       "Name: count, Length: 6728, dtype: int64"
      ]
     },
     "execution_count": 36,
     "metadata": {},
     "output_type": "execute_result"
    }
   ],
   "source": [
    "cho_where['정보공시 학교코드'].value_counts()"
   ]
  },
  {
   "cell_type": "markdown",
   "metadata": {},
   "source": [
    "- (초등학교) 데이터 확인하기(2021~2023) : \"정보공시 학교코드\", \"학교명\", \"1학년 학생수\""
   ]
  },
  {
   "cell_type": "code",
   "execution_count": 37,
   "metadata": {},
   "outputs": [
    {
     "name": "stdout",
     "output_type": "stream",
     "text": [
      "c:\\Users\\Kimmingee\\Desktop\\개발폴더\\kaggle_study\\Expect_freshman\\초등학교\\2021년도_학년별·학급별 학생수(초)_전체.csv\n",
      "c:\\Users\\Kimmingee\\Desktop\\개발폴더\\kaggle_study\\Expect_freshman\\초등학교\\2022년도_학년별·학급별 학생수(초)_전체.csv\n",
      "c:\\Users\\Kimmingee\\Desktop\\개발폴더\\kaggle_study\\Expect_freshman\\초등학교\\2023년도_학년별·학급별 학생수(초)_전체.csv\n"
     ]
    }
   ],
   "source": [
    "df_list = []\n",
    "\n",
    "for i in range(3, 6):\n",
    "    df_list.append(pd.read_csv(get_file_path(chodeung_path, i))[[\"정보공시 학교코드\", \"학교명\", \"1학년 학생수\"]])"
   ]
  },
  {
   "cell_type": "markdown",
   "metadata": {},
   "source": [
    "- (초등학교) 정보공시 학교코드 중복확인2"
   ]
  },
  {
   "cell_type": "code",
   "execution_count": 38,
   "metadata": {},
   "outputs": [
    {
     "data": {
      "text/plain": [
       "정보공시 학교코드\n",
       "S000003511    1\n",
       "S120001189    1\n",
       "S120001180    1\n",
       "S120001179    1\n",
       "S120001175    1\n",
       "             ..\n",
       "S090001625    1\n",
       "S090001624    1\n",
       "S090001622    1\n",
       "S090001621    1\n",
       "S170000839    1\n",
       "Name: count, Length: 6309, dtype: int64"
      ]
     },
     "execution_count": 38,
     "metadata": {},
     "output_type": "execute_result"
    }
   ],
   "source": [
    "df_list[0]['정보공시 학교코드'].value_counts()"
   ]
  },
  {
   "cell_type": "code",
   "execution_count": 39,
   "metadata": {},
   "outputs": [
    {
     "data": {
      "text/plain": [
       "정보공시 학교코드\n",
       "S000003511    1\n",
       "S120001164    1\n",
       "S120001156    1\n",
       "S120001155    1\n",
       "S120001154    1\n",
       "             ..\n",
       "S090001617    1\n",
       "S090001616    1\n",
       "S090001615    1\n",
       "S090001614    1\n",
       "S170000839    1\n",
       "Name: count, Length: 6309, dtype: int64"
      ]
     },
     "execution_count": 39,
     "metadata": {},
     "output_type": "execute_result"
    }
   ],
   "source": [
    "df_list[1]['정보공시 학교코드'].value_counts()"
   ]
  },
  {
   "cell_type": "code",
   "execution_count": 40,
   "metadata": {},
   "outputs": [
    {
     "data": {
      "text/plain": [
       "정보공시 학교코드\n",
       "S000003511    1\n",
       "S120001152    1\n",
       "S120001149    1\n",
       "S120001146    1\n",
       "S120001145    1\n",
       "             ..\n",
       "S090001612    1\n",
       "S090001611    1\n",
       "S090001609    1\n",
       "S090001608    1\n",
       "S170000839    1\n",
       "Name: count, Length: 6307, dtype: int64"
      ]
     },
     "execution_count": 40,
     "metadata": {},
     "output_type": "execute_result"
    }
   ],
   "source": [
    "df_list[2]['정보공시 학교코드'].value_counts()"
   ]
  },
  {
   "cell_type": "markdown",
   "metadata": {},
   "source": [
    "- (초등학교) 데이터 조인하기"
   ]
  },
  {
   "cell_type": "code",
   "execution_count": 41,
   "metadata": {},
   "outputs": [],
   "source": [
    "for j in range(3):\n",
    "    df_list[j] = pd.merge(df_list[j], cho_where, on='정보공시 학교코드', how='left')"
   ]
  },
  {
   "cell_type": "markdown",
   "metadata": {},
   "source": [
    "- (초등학교) 널값 확인하기"
   ]
  },
  {
   "cell_type": "code",
   "execution_count": 42,
   "metadata": {},
   "outputs": [
    {
     "data": {
      "text/plain": [
       "정보공시 학교코드    0\n",
       "학교명          0\n",
       "1학년 학생수      0\n",
       "학교도로명 주소     1\n",
       "위도           6\n",
       "경도           6\n",
       "dtype: int64"
      ]
     },
     "execution_count": 42,
     "metadata": {},
     "output_type": "execute_result"
    }
   ],
   "source": [
    "df_list[0].isnull().sum()"
   ]
  },
  {
   "cell_type": "code",
   "execution_count": 43,
   "metadata": {},
   "outputs": [
    {
     "data": {
      "text/plain": [
       "정보공시 학교코드    0\n",
       "학교명          0\n",
       "1학년 학생수      0\n",
       "학교도로명 주소     1\n",
       "위도           6\n",
       "경도           6\n",
       "dtype: int64"
      ]
     },
     "execution_count": 43,
     "metadata": {},
     "output_type": "execute_result"
    }
   ],
   "source": [
    "df_list[1].isnull().sum()"
   ]
  },
  {
   "cell_type": "code",
   "execution_count": 44,
   "metadata": {},
   "outputs": [
    {
     "data": {
      "text/plain": [
       "정보공시 학교코드    0\n",
       "학교명          0\n",
       "1학년 학생수      0\n",
       "학교도로명 주소     1\n",
       "위도           6\n",
       "경도           6\n",
       "dtype: int64"
      ]
     },
     "execution_count": 44,
     "metadata": {},
     "output_type": "execute_result"
    }
   ],
   "source": [
    "df_list[2].isnull().sum()"
   ]
  },
  {
   "cell_type": "markdown",
   "metadata": {},
   "source": [
    "- (초등학교) 결측치 핸들링하기1 - 학교도로명 주소(직접 취합)"
   ]
  },
  {
   "cell_type": "code",
   "execution_count": 45,
   "metadata": {},
   "outputs": [
    {
     "data": {
      "text/html": [
       "<div>\n",
       "<style scoped>\n",
       "    .dataframe tbody tr th:only-of-type {\n",
       "        vertical-align: middle;\n",
       "    }\n",
       "\n",
       "    .dataframe tbody tr th {\n",
       "        vertical-align: top;\n",
       "    }\n",
       "\n",
       "    .dataframe thead th {\n",
       "        text-align: right;\n",
       "    }\n",
       "</style>\n",
       "<table border=\"1\" class=\"dataframe\">\n",
       "  <thead>\n",
       "    <tr style=\"text-align: right;\">\n",
       "      <th></th>\n",
       "      <th>정보공시 학교코드</th>\n",
       "      <th>학교명</th>\n",
       "      <th>1학년 학생수</th>\n",
       "      <th>학교도로명 주소</th>\n",
       "      <th>위도</th>\n",
       "      <th>경도</th>\n",
       "    </tr>\n",
       "  </thead>\n",
       "  <tbody>\n",
       "    <tr>\n",
       "      <th>4106</th>\n",
       "      <td>S120000905</td>\n",
       "      <td>송산초등학교</td>\n",
       "      <td>13</td>\n",
       "      <td>NaN</td>\n",
       "      <td>36.932146</td>\n",
       "      <td>126.679896</td>\n",
       "    </tr>\n",
       "  </tbody>\n",
       "</table>\n",
       "</div>"
      ],
      "text/plain": [
       "       정보공시 학교코드     학교명  1학년 학생수 학교도로명 주소         위도          경도\n",
       "4106  S120000905  송산초등학교       13      NaN  36.932146  126.679896"
      ]
     },
     "execution_count": 45,
     "metadata": {},
     "output_type": "execute_result"
    }
   ],
   "source": [
    "df_list[0][df_list[0].isnull()['학교도로명 주소']]"
   ]
  },
  {
   "cell_type": "code",
   "execution_count": 46,
   "metadata": {},
   "outputs": [
    {
     "data": {
      "text/html": [
       "<div>\n",
       "<style scoped>\n",
       "    .dataframe tbody tr th:only-of-type {\n",
       "        vertical-align: middle;\n",
       "    }\n",
       "\n",
       "    .dataframe tbody tr th {\n",
       "        vertical-align: top;\n",
       "    }\n",
       "\n",
       "    .dataframe thead th {\n",
       "        text-align: right;\n",
       "    }\n",
       "</style>\n",
       "<table border=\"1\" class=\"dataframe\">\n",
       "  <thead>\n",
       "    <tr style=\"text-align: right;\">\n",
       "      <th></th>\n",
       "      <th>정보공시 학교코드</th>\n",
       "      <th>학교명</th>\n",
       "      <th>1학년 학생수</th>\n",
       "      <th>학교도로명 주소</th>\n",
       "      <th>위도</th>\n",
       "      <th>경도</th>\n",
       "    </tr>\n",
       "  </thead>\n",
       "  <tbody>\n",
       "    <tr>\n",
       "      <th>4113</th>\n",
       "      <td>S120000905</td>\n",
       "      <td>송산초등학교</td>\n",
       "      <td>19</td>\n",
       "      <td>NaN</td>\n",
       "      <td>36.932146</td>\n",
       "      <td>126.679896</td>\n",
       "    </tr>\n",
       "  </tbody>\n",
       "</table>\n",
       "</div>"
      ],
      "text/plain": [
       "       정보공시 학교코드     학교명  1학년 학생수 학교도로명 주소         위도          경도\n",
       "4113  S120000905  송산초등학교       19      NaN  36.932146  126.679896"
      ]
     },
     "execution_count": 46,
     "metadata": {},
     "output_type": "execute_result"
    }
   ],
   "source": [
    "df_list[1][df_list[1].isnull()['학교도로명 주소']]"
   ]
  },
  {
   "cell_type": "code",
   "execution_count": 47,
   "metadata": {},
   "outputs": [
    {
     "data": {
      "text/html": [
       "<div>\n",
       "<style scoped>\n",
       "    .dataframe tbody tr th:only-of-type {\n",
       "        vertical-align: middle;\n",
       "    }\n",
       "\n",
       "    .dataframe tbody tr th {\n",
       "        vertical-align: top;\n",
       "    }\n",
       "\n",
       "    .dataframe thead th {\n",
       "        text-align: right;\n",
       "    }\n",
       "</style>\n",
       "<table border=\"1\" class=\"dataframe\">\n",
       "  <thead>\n",
       "    <tr style=\"text-align: right;\">\n",
       "      <th></th>\n",
       "      <th>정보공시 학교코드</th>\n",
       "      <th>학교명</th>\n",
       "      <th>1학년 학생수</th>\n",
       "      <th>학교도로명 주소</th>\n",
       "      <th>위도</th>\n",
       "      <th>경도</th>\n",
       "    </tr>\n",
       "  </thead>\n",
       "  <tbody>\n",
       "    <tr>\n",
       "      <th>4118</th>\n",
       "      <td>S120000905</td>\n",
       "      <td>송산초등학교</td>\n",
       "      <td>15</td>\n",
       "      <td>NaN</td>\n",
       "      <td>36.932146</td>\n",
       "      <td>126.679896</td>\n",
       "    </tr>\n",
       "  </tbody>\n",
       "</table>\n",
       "</div>"
      ],
      "text/plain": [
       "       정보공시 학교코드     학교명  1학년 학생수 학교도로명 주소         위도          경도\n",
       "4118  S120000905  송산초등학교       15      NaN  36.932146  126.679896"
      ]
     },
     "execution_count": 47,
     "metadata": {},
     "output_type": "execute_result"
    }
   ],
   "source": [
    "df_list[2][df_list[2].isnull()['학교도로명 주소']]"
   ]
  },
  {
   "cell_type": "code",
   "execution_count": 48,
   "metadata": {},
   "outputs": [
    {
     "data": {
      "text/html": [
       "<div>\n",
       "<style scoped>\n",
       "    .dataframe tbody tr th:only-of-type {\n",
       "        vertical-align: middle;\n",
       "    }\n",
       "\n",
       "    .dataframe tbody tr th {\n",
       "        vertical-align: top;\n",
       "    }\n",
       "\n",
       "    .dataframe thead th {\n",
       "        text-align: right;\n",
       "    }\n",
       "</style>\n",
       "<table border=\"1\" class=\"dataframe\">\n",
       "  <thead>\n",
       "    <tr style=\"text-align: right;\">\n",
       "      <th></th>\n",
       "      <th>정보공시 학교코드</th>\n",
       "      <th>학교명</th>\n",
       "      <th>1학년 학생수</th>\n",
       "      <th>학교도로명 주소</th>\n",
       "      <th>위도</th>\n",
       "      <th>경도</th>\n",
       "    </tr>\n",
       "  </thead>\n",
       "  <tbody>\n",
       "    <tr>\n",
       "      <th>2808</th>\n",
       "      <td>S090004320</td>\n",
       "      <td>송산초등학교</td>\n",
       "      <td>47</td>\n",
       "      <td>경기도 화성시 송산면 사강시장길 15-9</td>\n",
       "      <td>37.214754</td>\n",
       "      <td>126.732491</td>\n",
       "    </tr>\n",
       "    <tr>\n",
       "      <th>3126</th>\n",
       "      <td>S090006799</td>\n",
       "      <td>의정부송산초등학교</td>\n",
       "      <td>239</td>\n",
       "      <td>경기도 의정부시 오목로 228</td>\n",
       "      <td>37.746359</td>\n",
       "      <td>127.100609</td>\n",
       "    </tr>\n",
       "    <tr>\n",
       "      <th>4106</th>\n",
       "      <td>S120000905</td>\n",
       "      <td>송산초등학교</td>\n",
       "      <td>13</td>\n",
       "      <td>NaN</td>\n",
       "      <td>36.932146</td>\n",
       "      <td>126.679896</td>\n",
       "    </tr>\n",
       "    <tr>\n",
       "      <th>5106</th>\n",
       "      <td>S140003279</td>\n",
       "      <td>송산초등학교</td>\n",
       "      <td>16</td>\n",
       "      <td>전라남도 순천시 별량면 송산구기길 13</td>\n",
       "      <td>34.850649</td>\n",
       "      <td>127.415775</td>\n",
       "    </tr>\n",
       "  </tbody>\n",
       "</table>\n",
       "</div>"
      ],
      "text/plain": [
       "       정보공시 학교코드        학교명  1학년 학생수                학교도로명 주소         위도  \\\n",
       "2808  S090004320     송산초등학교       47  경기도 화성시 송산면 사강시장길 15-9  37.214754   \n",
       "3126  S090006799  의정부송산초등학교      239        경기도 의정부시 오목로 228  37.746359   \n",
       "4106  S120000905     송산초등학교       13                     NaN  36.932146   \n",
       "5106  S140003279     송산초등학교       16   전라남도 순천시 별량면 송산구기길 13  34.850649   \n",
       "\n",
       "              경도  \n",
       "2808  126.732491  \n",
       "3126  127.100609  \n",
       "4106  126.679896  \n",
       "5106  127.415775  "
      ]
     },
     "execution_count": 48,
     "metadata": {},
     "output_type": "execute_result"
    }
   ],
   "source": [
    "df_list[0][df_list[0]['학교명'].str.contains('송산')]"
   ]
  },
  {
   "cell_type": "markdown",
   "metadata": {},
   "source": [
    "- (초등학교) 당진시 송산초등학교 주소 : \"충청남도 당진시 시 송산면 상거길 19-1\""
   ]
  },
  {
   "cell_type": "code",
   "execution_count": 49,
   "metadata": {},
   "outputs": [],
   "source": [
    "df_list[0].loc[[4106], ['학교도로명 주소']] = \"충청남도 당진시 송산면 상거길 19-1\"\n",
    "df_list[1].loc[[4113], ['학교도로명 주소']] = \"충청남도 당진시 송산면 상거길 19-1\"\n",
    "df_list[2].loc[[4118], ['학교도로명 주소']] = \"충청남도 당진시 송산면 상거길 19-1\""
   ]
  },
  {
   "cell_type": "code",
   "execution_count": 50,
   "metadata": {},
   "outputs": [
    {
     "data": {
      "text/html": [
       "<div>\n",
       "<style scoped>\n",
       "    .dataframe tbody tr th:only-of-type {\n",
       "        vertical-align: middle;\n",
       "    }\n",
       "\n",
       "    .dataframe tbody tr th {\n",
       "        vertical-align: top;\n",
       "    }\n",
       "\n",
       "    .dataframe thead th {\n",
       "        text-align: right;\n",
       "    }\n",
       "</style>\n",
       "<table border=\"1\" class=\"dataframe\">\n",
       "  <thead>\n",
       "    <tr style=\"text-align: right;\">\n",
       "      <th></th>\n",
       "      <th>정보공시 학교코드</th>\n",
       "      <th>학교명</th>\n",
       "      <th>1학년 학생수</th>\n",
       "      <th>학교도로명 주소</th>\n",
       "      <th>위도</th>\n",
       "      <th>경도</th>\n",
       "    </tr>\n",
       "  </thead>\n",
       "  <tbody>\n",
       "  </tbody>\n",
       "</table>\n",
       "</div>"
      ],
      "text/plain": [
       "Empty DataFrame\n",
       "Columns: [정보공시 학교코드, 학교명, 1학년 학생수, 학교도로명 주소, 위도, 경도]\n",
       "Index: []"
      ]
     },
     "execution_count": 50,
     "metadata": {},
     "output_type": "execute_result"
    }
   ],
   "source": [
    "df_list[1][df_list[1].isnull()['학교도로명 주소']]"
   ]
  },
  {
   "cell_type": "code",
   "execution_count": 51,
   "metadata": {},
   "outputs": [
    {
     "data": {
      "text/html": [
       "<div>\n",
       "<style scoped>\n",
       "    .dataframe tbody tr th:only-of-type {\n",
       "        vertical-align: middle;\n",
       "    }\n",
       "\n",
       "    .dataframe tbody tr th {\n",
       "        vertical-align: top;\n",
       "    }\n",
       "\n",
       "    .dataframe thead th {\n",
       "        text-align: right;\n",
       "    }\n",
       "</style>\n",
       "<table border=\"1\" class=\"dataframe\">\n",
       "  <thead>\n",
       "    <tr style=\"text-align: right;\">\n",
       "      <th></th>\n",
       "      <th>정보공시 학교코드</th>\n",
       "      <th>학교명</th>\n",
       "      <th>1학년 학생수</th>\n",
       "      <th>학교도로명 주소</th>\n",
       "      <th>위도</th>\n",
       "      <th>경도</th>\n",
       "    </tr>\n",
       "  </thead>\n",
       "  <tbody>\n",
       "  </tbody>\n",
       "</table>\n",
       "</div>"
      ],
      "text/plain": [
       "Empty DataFrame\n",
       "Columns: [정보공시 학교코드, 학교명, 1학년 학생수, 학교도로명 주소, 위도, 경도]\n",
       "Index: []"
      ]
     },
     "execution_count": 51,
     "metadata": {},
     "output_type": "execute_result"
    }
   ],
   "source": [
    "df_list[2][df_list[2].isnull()['학교도로명 주소']]"
   ]
  },
  {
   "cell_type": "markdown",
   "metadata": {},
   "source": [
    "- (초등학교) 결측치 핸들링하기2 - 위도, 경도"
   ]
  },
  {
   "cell_type": "code",
   "execution_count": 52,
   "metadata": {},
   "outputs": [
    {
     "data": {
      "text/html": [
       "<div>\n",
       "<style scoped>\n",
       "    .dataframe tbody tr th:only-of-type {\n",
       "        vertical-align: middle;\n",
       "    }\n",
       "\n",
       "    .dataframe tbody tr th {\n",
       "        vertical-align: top;\n",
       "    }\n",
       "\n",
       "    .dataframe thead th {\n",
       "        text-align: right;\n",
       "    }\n",
       "</style>\n",
       "<table border=\"1\" class=\"dataframe\">\n",
       "  <thead>\n",
       "    <tr style=\"text-align: right;\">\n",
       "      <th></th>\n",
       "      <th>정보공시 학교코드</th>\n",
       "      <th>학교명</th>\n",
       "      <th>1학년 학생수</th>\n",
       "      <th>학교도로명 주소</th>\n",
       "      <th>위도</th>\n",
       "      <th>경도</th>\n",
       "    </tr>\n",
       "  </thead>\n",
       "  <tbody>\n",
       "    <tr>\n",
       "      <th>1068</th>\n",
       "      <td>S030000888</td>\n",
       "      <td>대구비산초등학교</td>\n",
       "      <td>63</td>\n",
       "      <td>대구광역시 서구 통학로 202</td>\n",
       "      <td>NaN</td>\n",
       "      <td>NaN</td>\n",
       "    </tr>\n",
       "    <tr>\n",
       "      <th>1087</th>\n",
       "      <td>S030000908</td>\n",
       "      <td>대구평리초등학교</td>\n",
       "      <td>166</td>\n",
       "      <td>대구광역시 서구 국채보상로53길 6-5</td>\n",
       "      <td>NaN</td>\n",
       "      <td>NaN</td>\n",
       "    </tr>\n",
       "    <tr>\n",
       "      <th>1896</th>\n",
       "      <td>S090000899</td>\n",
       "      <td>미원초등학교위곡분교장</td>\n",
       "      <td>8</td>\n",
       "      <td>경기도 가평군 설악면 한서로 233</td>\n",
       "      <td>NaN</td>\n",
       "      <td>NaN</td>\n",
       "    </tr>\n",
       "    <tr>\n",
       "      <th>3586</th>\n",
       "      <td>S100003736</td>\n",
       "      <td>성원초등학교</td>\n",
       "      <td>97</td>\n",
       "      <td>강원특별자치도 춘천시 승지골길16번길 36</td>\n",
       "      <td>NaN</td>\n",
       "      <td>NaN</td>\n",
       "    </tr>\n",
       "    <tr>\n",
       "      <th>4208</th>\n",
       "      <td>S120001169</td>\n",
       "      <td>안흥초등학교</td>\n",
       "      <td>4</td>\n",
       "      <td>충청남도 태안군 근흥면 죽림길 45</td>\n",
       "      <td>NaN</td>\n",
       "      <td>NaN</td>\n",
       "    </tr>\n",
       "    <tr>\n",
       "      <th>5794</th>\n",
       "      <td>S160001385</td>\n",
       "      <td>구산초등학교</td>\n",
       "      <td>4</td>\n",
       "      <td>경상남도 창원시 마산합포구 구산면 수정3길 8</td>\n",
       "      <td>NaN</td>\n",
       "      <td>NaN</td>\n",
       "    </tr>\n",
       "  </tbody>\n",
       "</table>\n",
       "</div>"
      ],
      "text/plain": [
       "       정보공시 학교코드          학교명  1학년 학생수                   학교도로명 주소  위도  경도\n",
       "1068  S030000888     대구비산초등학교       63           대구광역시 서구 통학로 202 NaN NaN\n",
       "1087  S030000908     대구평리초등학교      166      대구광역시 서구 국채보상로53길 6-5 NaN NaN\n",
       "1896  S090000899  미원초등학교위곡분교장        8        경기도 가평군 설악면 한서로 233 NaN NaN\n",
       "3586  S100003736       성원초등학교       97    강원특별자치도 춘천시 승지골길16번길 36 NaN NaN\n",
       "4208  S120001169       안흥초등학교        4        충청남도 태안군 근흥면 죽림길 45 NaN NaN\n",
       "5794  S160001385       구산초등학교        4  경상남도 창원시 마산합포구 구산면 수정3길 8 NaN NaN"
      ]
     },
     "execution_count": 52,
     "metadata": {},
     "output_type": "execute_result"
    }
   ],
   "source": [
    "df_list[0][df_list[0].isnull()['위도']]"
   ]
  },
  {
   "cell_type": "code",
   "execution_count": 53,
   "metadata": {},
   "outputs": [
    {
     "data": {
      "text/html": [
       "<div>\n",
       "<style scoped>\n",
       "    .dataframe tbody tr th:only-of-type {\n",
       "        vertical-align: middle;\n",
       "    }\n",
       "\n",
       "    .dataframe tbody tr th {\n",
       "        vertical-align: top;\n",
       "    }\n",
       "\n",
       "    .dataframe thead th {\n",
       "        text-align: right;\n",
       "    }\n",
       "</style>\n",
       "<table border=\"1\" class=\"dataframe\">\n",
       "  <thead>\n",
       "    <tr style=\"text-align: right;\">\n",
       "      <th></th>\n",
       "      <th>정보공시 학교코드</th>\n",
       "      <th>학교명</th>\n",
       "      <th>1학년 학생수</th>\n",
       "      <th>학교도로명 주소</th>\n",
       "      <th>위도</th>\n",
       "      <th>경도</th>\n",
       "    </tr>\n",
       "  </thead>\n",
       "  <tbody>\n",
       "    <tr>\n",
       "      <th>1070</th>\n",
       "      <td>S030000888</td>\n",
       "      <td>대구비산초등학교</td>\n",
       "      <td>43</td>\n",
       "      <td>대구광역시 서구 통학로 202</td>\n",
       "      <td>NaN</td>\n",
       "      <td>NaN</td>\n",
       "    </tr>\n",
       "    <tr>\n",
       "      <th>1089</th>\n",
       "      <td>S030000908</td>\n",
       "      <td>대구평리초등학교</td>\n",
       "      <td>158</td>\n",
       "      <td>대구광역시 서구 국채보상로53길 6-5</td>\n",
       "      <td>NaN</td>\n",
       "      <td>NaN</td>\n",
       "    </tr>\n",
       "    <tr>\n",
       "      <th>1903</th>\n",
       "      <td>S090000899</td>\n",
       "      <td>미원초등학교위곡분교장</td>\n",
       "      <td>0</td>\n",
       "      <td>경기도 가평군 설악면 한서로 233</td>\n",
       "      <td>NaN</td>\n",
       "      <td>NaN</td>\n",
       "    </tr>\n",
       "    <tr>\n",
       "      <th>3594</th>\n",
       "      <td>S100003736</td>\n",
       "      <td>성원초등학교</td>\n",
       "      <td>98</td>\n",
       "      <td>강원특별자치도 춘천시 승지골길16번길 36</td>\n",
       "      <td>NaN</td>\n",
       "      <td>NaN</td>\n",
       "    </tr>\n",
       "    <tr>\n",
       "      <th>4215</th>\n",
       "      <td>S120001169</td>\n",
       "      <td>안흥초등학교</td>\n",
       "      <td>3</td>\n",
       "      <td>충청남도 태안군 근흥면 죽림길 45</td>\n",
       "      <td>NaN</td>\n",
       "      <td>NaN</td>\n",
       "    </tr>\n",
       "    <tr>\n",
       "      <th>5793</th>\n",
       "      <td>S160001385</td>\n",
       "      <td>구산초등학교</td>\n",
       "      <td>12</td>\n",
       "      <td>경상남도 창원시 마산합포구 구산면 수정3길 8</td>\n",
       "      <td>NaN</td>\n",
       "      <td>NaN</td>\n",
       "    </tr>\n",
       "  </tbody>\n",
       "</table>\n",
       "</div>"
      ],
      "text/plain": [
       "       정보공시 학교코드          학교명  1학년 학생수                   학교도로명 주소  위도  경도\n",
       "1070  S030000888     대구비산초등학교       43           대구광역시 서구 통학로 202 NaN NaN\n",
       "1089  S030000908     대구평리초등학교      158      대구광역시 서구 국채보상로53길 6-5 NaN NaN\n",
       "1903  S090000899  미원초등학교위곡분교장        0        경기도 가평군 설악면 한서로 233 NaN NaN\n",
       "3594  S100003736       성원초등학교       98    강원특별자치도 춘천시 승지골길16번길 36 NaN NaN\n",
       "4215  S120001169       안흥초등학교        3        충청남도 태안군 근흥면 죽림길 45 NaN NaN\n",
       "5793  S160001385       구산초등학교       12  경상남도 창원시 마산합포구 구산면 수정3길 8 NaN NaN"
      ]
     },
     "execution_count": 53,
     "metadata": {},
     "output_type": "execute_result"
    }
   ],
   "source": [
    "df_list[1][df_list[1].isnull()['위도']]"
   ]
  },
  {
   "cell_type": "code",
   "execution_count": 54,
   "metadata": {},
   "outputs": [
    {
     "data": {
      "text/html": [
       "<div>\n",
       "<style scoped>\n",
       "    .dataframe tbody tr th:only-of-type {\n",
       "        vertical-align: middle;\n",
       "    }\n",
       "\n",
       "    .dataframe tbody tr th {\n",
       "        vertical-align: top;\n",
       "    }\n",
       "\n",
       "    .dataframe thead th {\n",
       "        text-align: right;\n",
       "    }\n",
       "</style>\n",
       "<table border=\"1\" class=\"dataframe\">\n",
       "  <thead>\n",
       "    <tr style=\"text-align: right;\">\n",
       "      <th></th>\n",
       "      <th>정보공시 학교코드</th>\n",
       "      <th>학교명</th>\n",
       "      <th>1학년 학생수</th>\n",
       "      <th>학교도로명 주소</th>\n",
       "      <th>위도</th>\n",
       "      <th>경도</th>\n",
       "    </tr>\n",
       "  </thead>\n",
       "  <tbody>\n",
       "    <tr>\n",
       "      <th>1070</th>\n",
       "      <td>S030000888</td>\n",
       "      <td>대구비산초등학교</td>\n",
       "      <td>50</td>\n",
       "      <td>대구광역시 서구 통학로 202</td>\n",
       "      <td>NaN</td>\n",
       "      <td>NaN</td>\n",
       "    </tr>\n",
       "    <tr>\n",
       "      <th>1089</th>\n",
       "      <td>S030000908</td>\n",
       "      <td>대구평리초등학교</td>\n",
       "      <td>150</td>\n",
       "      <td>대구광역시 서구 국채보상로53길 6-5</td>\n",
       "      <td>NaN</td>\n",
       "      <td>NaN</td>\n",
       "    </tr>\n",
       "    <tr>\n",
       "      <th>1906</th>\n",
       "      <td>S090000899</td>\n",
       "      <td>미원초등학교위곡분교장</td>\n",
       "      <td>5</td>\n",
       "      <td>경기도 가평군 설악면 한서로 233</td>\n",
       "      <td>NaN</td>\n",
       "      <td>NaN</td>\n",
       "    </tr>\n",
       "    <tr>\n",
       "      <th>3601</th>\n",
       "      <td>S100003736</td>\n",
       "      <td>성원초등학교</td>\n",
       "      <td>94</td>\n",
       "      <td>강원특별자치도 춘천시 승지골길16번길 36</td>\n",
       "      <td>NaN</td>\n",
       "      <td>NaN</td>\n",
       "    </tr>\n",
       "    <tr>\n",
       "      <th>4217</th>\n",
       "      <td>S120001169</td>\n",
       "      <td>안흥초등학교</td>\n",
       "      <td>0</td>\n",
       "      <td>충청남도 태안군 근흥면 죽림길 45</td>\n",
       "      <td>NaN</td>\n",
       "      <td>NaN</td>\n",
       "    </tr>\n",
       "    <tr>\n",
       "      <th>5792</th>\n",
       "      <td>S160001385</td>\n",
       "      <td>구산초등학교</td>\n",
       "      <td>14</td>\n",
       "      <td>경상남도 창원시 마산합포구 구산면 수정3길 8</td>\n",
       "      <td>NaN</td>\n",
       "      <td>NaN</td>\n",
       "    </tr>\n",
       "  </tbody>\n",
       "</table>\n",
       "</div>"
      ],
      "text/plain": [
       "       정보공시 학교코드          학교명  1학년 학생수                   학교도로명 주소  위도  경도\n",
       "1070  S030000888     대구비산초등학교       50           대구광역시 서구 통학로 202 NaN NaN\n",
       "1089  S030000908     대구평리초등학교      150      대구광역시 서구 국채보상로53길 6-5 NaN NaN\n",
       "1906  S090000899  미원초등학교위곡분교장        5        경기도 가평군 설악면 한서로 233 NaN NaN\n",
       "3601  S100003736       성원초등학교       94    강원특별자치도 춘천시 승지골길16번길 36 NaN NaN\n",
       "4217  S120001169       안흥초등학교        0        충청남도 태안군 근흥면 죽림길 45 NaN NaN\n",
       "5792  S160001385       구산초등학교       14  경상남도 창원시 마산합포구 구산면 수정3길 8 NaN NaN"
      ]
     },
     "execution_count": 54,
     "metadata": {},
     "output_type": "execute_result"
    }
   ],
   "source": [
    "df_list[2][df_list[2].isnull()['위도']]"
   ]
  },
  {
   "cell_type": "markdown",
   "metadata": {},
   "source": [
    "- (초등학교) 위도, 경도 크롤링 코드"
   ]
  },
  {
   "cell_type": "code",
   "execution_count": 55,
   "metadata": {},
   "outputs": [
    {
     "name": "stdout",
     "output_type": "stream",
     "text": [
      "0번째 인덱스 1068 요청\n",
      "0번째 인덱스 1087 요청\n",
      "0번째 인덱스 1896 요청\n",
      "0번째 인덱스 3586 요청\n",
      "0번째 인덱스 4208 요청\n",
      "0번째 인덱스 5794 요청\n",
      "1번째 인덱스 1070 요청\n",
      "1번째 인덱스 1089 요청\n",
      "1번째 인덱스 1903 요청\n",
      "1번째 인덱스 3594 요청\n",
      "1번째 인덱스 4215 요청\n",
      "1번째 인덱스 5793 요청\n",
      "2번째 인덱스 1070 요청\n",
      "2번째 인덱스 1089 요청\n",
      "2번째 인덱스 1906 요청\n",
      "2번째 인덱스 3601 요청\n",
      "2번째 인덱스 4217 요청\n",
      "2번째 인덱스 5792 요청\n"
     ]
    }
   ],
   "source": [
    "for i in range(3):\n",
    "    for j in df_list[i][df_list[i].isnull()['위도']].index:\n",
    "        print(f'{i}번째 인덱스 {j} 요청')\n",
    "        json_data = get_location(df_list[i].loc[j]['학교도로명 주소'])\n",
    "        df_list[i].loc[[j], ['위도']] = np.float64(json_data['documents'][0]['address']['y'])\n",
    "        df_list[i].loc[[j], ['경도']] = np.float64(json_data['documents'][0]['address']['x'])"
   ]
  },
  {
   "cell_type": "markdown",
   "metadata": {},
   "source": [
    "---"
   ]
  },
  {
   "cell_type": "markdown",
   "metadata": {},
   "source": [
    "- 군집화 로직 짜기\n",
    "    - k-means 코드 뜯어보기"
   ]
  },
  {
   "cell_type": "code",
   "execution_count": 56,
   "metadata": {},
   "outputs": [
    {
     "ename": "SyntaxError",
     "evalue": "invalid syntax (3774495605.py, line 2)",
     "output_type": "error",
     "traceback": [
      "\u001b[1;36m  Cell \u001b[1;32mIn[56], line 2\u001b[1;36m\u001b[0m\n\u001b[1;33m    kmeans = KMeans(n_clusters= init=)\u001b[0m\n\u001b[1;37m                                    ^\u001b[0m\n\u001b[1;31mSyntaxError\u001b[0m\u001b[1;31m:\u001b[0m invalid syntax\n"
     ]
    }
   ],
   "source": [
    "from sklearn.cluster import KMeans\n",
    "kmeans = KMeans(n_clusters= init=)"
   ]
  },
  {
   "cell_type": "code",
   "execution_count": null,
   "metadata": {},
   "outputs": [],
   "source": []
  }
 ],
 "metadata": {
  "kernelspec": {
   "display_name": "base",
   "language": "python",
   "name": "python3"
  },
  "language_info": {
   "codemirror_mode": {
    "name": "ipython",
    "version": 3
   },
   "file_extension": ".py",
   "mimetype": "text/x-python",
   "name": "python",
   "nbconvert_exporter": "python",
   "pygments_lexer": "ipython3",
   "version": "3.11.5"
  }
 },
 "nbformat": 4,
 "nbformat_minor": 2
}
