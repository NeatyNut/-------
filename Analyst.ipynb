{
 "cells": [
  {
   "cell_type": "markdown",
   "metadata": {},
   "source": [
    "### 탐구주제 : 1년 후 초등학교 입학생 예측하기\n",
    "---\n",
    "#### 사용 데이터 : 전국 어린이집/유치원 원생 데이터\n",
    "#### 기법 : Clustering, DL"
   ]
  },
  {
   "cell_type": "markdown",
   "metadata": {},
   "source": [
    "##### 1. 데이터 EDA\n",
    "- 경로 설정"
   ]
  },
  {
   "cell_type": "code",
   "execution_count": 14,
   "metadata": {},
   "outputs": [],
   "source": [
    "import pandas as pd\n",
    "import os"
   ]
  },
  {
   "cell_type": "code",
   "execution_count": 23,
   "metadata": {},
   "outputs": [],
   "source": [
    "## 파일 경로 정의\n",
    "my_path = os.getcwd()\n",
    "chodeung_path = os.path.join(my_path, '초등학교')\n",
    "\n",
    "def kid_path(year:int):\n",
    "    return os.path.join(my_path, '어린이집', str(year))\n",
    "\n",
    "def get_file_path(path:str, number:int):\n",
    "    file_path = os.path.join(path, os.listdir(path)[number])\n",
    "    print(file_path)\n",
    "    return file_path"
   ]
  },
  {
   "cell_type": "markdown",
   "metadata": {},
   "source": [
    "- 위도, 경도 확인 시 사용할 수 있는 데이터는 2020부터"
   ]
  },
  {
   "cell_type": "code",
   "execution_count": 42,
   "metadata": {},
   "outputs": [
    {
     "name": "stdout",
     "output_type": "stream",
     "text": [
      "c:\\Users\\uilov\\Desktop\\개발 관련 폴더\\공공데이터분석\\어린이집\\2019\\[강원]어린이집기본정보조회(정기)-기준일(20190228).xls\n"
     ]
    },
    {
     "data": {
      "text/html": [
       "<div>\n",
       "<style scoped>\n",
       "    .dataframe tbody tr th:only-of-type {\n",
       "        vertical-align: middle;\n",
       "    }\n",
       "\n",
       "    .dataframe tbody tr th {\n",
       "        vertical-align: top;\n",
       "    }\n",
       "\n",
       "    .dataframe thead th {\n",
       "        text-align: right;\n",
       "    }\n",
       "</style>\n",
       "<table border=\"1\" class=\"dataframe\">\n",
       "  <thead>\n",
       "    <tr style=\"text-align: right;\">\n",
       "      <th></th>\n",
       "      <th>위도</th>\n",
       "      <th>경도</th>\n",
       "    </tr>\n",
       "  </thead>\n",
       "  <tbody>\n",
       "    <tr>\n",
       "      <th>0</th>\n",
       "      <td>38.0</td>\n",
       "      <td>128.0</td>\n",
       "    </tr>\n",
       "    <tr>\n",
       "      <th>1</th>\n",
       "      <td>38.0</td>\n",
       "      <td>128.0</td>\n",
       "    </tr>\n",
       "    <tr>\n",
       "      <th>2</th>\n",
       "      <td>38.0</td>\n",
       "      <td>128.0</td>\n",
       "    </tr>\n",
       "    <tr>\n",
       "      <th>3</th>\n",
       "      <td>38.0</td>\n",
       "      <td>128.0</td>\n",
       "    </tr>\n",
       "    <tr>\n",
       "      <th>4</th>\n",
       "      <td>38.0</td>\n",
       "      <td>128.0</td>\n",
       "    </tr>\n",
       "    <tr>\n",
       "      <th>...</th>\n",
       "      <td>...</td>\n",
       "      <td>...</td>\n",
       "    </tr>\n",
       "    <tr>\n",
       "      <th>1494</th>\n",
       "      <td>38.0</td>\n",
       "      <td>129.0</td>\n",
       "    </tr>\n",
       "    <tr>\n",
       "      <th>1495</th>\n",
       "      <td>38.0</td>\n",
       "      <td>129.0</td>\n",
       "    </tr>\n",
       "    <tr>\n",
       "      <th>1496</th>\n",
       "      <td>38.0</td>\n",
       "      <td>129.0</td>\n",
       "    </tr>\n",
       "    <tr>\n",
       "      <th>1497</th>\n",
       "      <td>38.0</td>\n",
       "      <td>129.0</td>\n",
       "    </tr>\n",
       "    <tr>\n",
       "      <th>1498</th>\n",
       "      <td>38.0</td>\n",
       "      <td>129.0</td>\n",
       "    </tr>\n",
       "  </tbody>\n",
       "</table>\n",
       "<p>1499 rows × 2 columns</p>\n",
       "</div>"
      ],
      "text/plain": [
       "        위도     경도\n",
       "0     38.0  128.0\n",
       "1     38.0  128.0\n",
       "2     38.0  128.0\n",
       "3     38.0  128.0\n",
       "4     38.0  128.0\n",
       "...    ...    ...\n",
       "1494  38.0  129.0\n",
       "1495  38.0  129.0\n",
       "1496  38.0  129.0\n",
       "1497  38.0  129.0\n",
       "1498  38.0  129.0\n",
       "\n",
       "[1499 rows x 2 columns]"
      ]
     },
     "execution_count": 42,
     "metadata": {},
     "output_type": "execute_result"
    }
   ],
   "source": [
    "pd.read_excel(get_file_path(kid_path(2019), 0), engine='xlrd')[['위도', '경도']]"
   ]
  },
  {
   "cell_type": "code",
   "execution_count": 43,
   "metadata": {},
   "outputs": [
    {
     "name": "stdout",
     "output_type": "stream",
     "text": [
      "c:\\Users\\uilov\\Desktop\\개발 관련 폴더\\공공데이터분석\\어린이집\\2020\\[강원]어린이집기본정보조회(정기)-기준일(20200229).xls\n"
     ]
    },
    {
     "data": {
      "text/html": [
       "<div>\n",
       "<style scoped>\n",
       "    .dataframe tbody tr th:only-of-type {\n",
       "        vertical-align: middle;\n",
       "    }\n",
       "\n",
       "    .dataframe tbody tr th {\n",
       "        vertical-align: top;\n",
       "    }\n",
       "\n",
       "    .dataframe thead th {\n",
       "        text-align: right;\n",
       "    }\n",
       "</style>\n",
       "<table border=\"1\" class=\"dataframe\">\n",
       "  <thead>\n",
       "    <tr style=\"text-align: right;\">\n",
       "      <th></th>\n",
       "      <th>위도</th>\n",
       "      <th>경도</th>\n",
       "    </tr>\n",
       "  </thead>\n",
       "  <tbody>\n",
       "    <tr>\n",
       "      <th>0</th>\n",
       "      <td>37.854010</td>\n",
       "      <td>127.721182</td>\n",
       "    </tr>\n",
       "    <tr>\n",
       "      <th>1</th>\n",
       "      <td>37.911809</td>\n",
       "      <td>127.723575</td>\n",
       "    </tr>\n",
       "    <tr>\n",
       "      <th>2</th>\n",
       "      <td>37.847636</td>\n",
       "      <td>127.746789</td>\n",
       "    </tr>\n",
       "    <tr>\n",
       "      <th>3</th>\n",
       "      <td>37.873014</td>\n",
       "      <td>127.751143</td>\n",
       "    </tr>\n",
       "    <tr>\n",
       "      <th>4</th>\n",
       "      <td>37.852052</td>\n",
       "      <td>127.737222</td>\n",
       "    </tr>\n",
       "    <tr>\n",
       "      <th>...</th>\n",
       "      <td>...</td>\n",
       "      <td>...</td>\n",
       "    </tr>\n",
       "    <tr>\n",
       "      <th>1530</th>\n",
       "      <td>38.078721</td>\n",
       "      <td>128.618910</td>\n",
       "    </tr>\n",
       "    <tr>\n",
       "      <th>1531</th>\n",
       "      <td>38.076243</td>\n",
       "      <td>128.620193</td>\n",
       "    </tr>\n",
       "    <tr>\n",
       "      <th>1532</th>\n",
       "      <td>38.079750</td>\n",
       "      <td>128.641499</td>\n",
       "    </tr>\n",
       "    <tr>\n",
       "      <th>1533</th>\n",
       "      <td>38.077208</td>\n",
       "      <td>128.619937</td>\n",
       "    </tr>\n",
       "    <tr>\n",
       "      <th>1534</th>\n",
       "      <td>38.078998</td>\n",
       "      <td>128.619973</td>\n",
       "    </tr>\n",
       "  </tbody>\n",
       "</table>\n",
       "<p>1535 rows × 2 columns</p>\n",
       "</div>"
      ],
      "text/plain": [
       "             위도          경도\n",
       "0     37.854010  127.721182\n",
       "1     37.911809  127.723575\n",
       "2     37.847636  127.746789\n",
       "3     37.873014  127.751143\n",
       "4     37.852052  127.737222\n",
       "...         ...         ...\n",
       "1530  38.078721  128.618910\n",
       "1531  38.076243  128.620193\n",
       "1532  38.079750  128.641499\n",
       "1533  38.077208  128.619937\n",
       "1534  38.078998  128.619973\n",
       "\n",
       "[1535 rows x 2 columns]"
      ]
     },
     "execution_count": 43,
     "metadata": {},
     "output_type": "execute_result"
    }
   ],
   "source": [
    "pd.read_excel(get_file_path(kid_path(2020), 0), engine='xlrd')[['위도', '경도']]"
   ]
  },
  {
   "cell_type": "markdown",
   "metadata": {},
   "source": [
    "- 데이터 확인\n",
    "    - 이름"
   ]
  },
  {
   "cell_type": "markdown",
   "metadata": {},
   "source": [
    "- 강원도"
   ]
  },
  {
   "cell_type": "code",
   "execution_count": 88,
   "metadata": {},
   "outputs": [
    {
     "name": "stdout",
     "output_type": "stream",
     "text": [
      "c:\\Users\\uilov\\Desktop\\개발 관련 폴더\\공공데이터분석\\어린이집\\2020\\[강원]어린이집기본정보조회(정기)-기준일(20200229).xls\n",
      "Index(['강원도'], dtype='object', name='시도')\n",
      "c:\\Users\\uilov\\Desktop\\개발 관련 폴더\\공공데이터분석\\어린이집\\2021\\[강원]어린이집기본정보조회(정기)-기준일(20210228).xls\n",
      "Index(['강원도'], dtype='object', name='시도')\n",
      "c:\\Users\\uilov\\Desktop\\개발 관련 폴더\\공공데이터분석\\어린이집\\2022\\[강원]어린이집기본정보조회(정기)-기준일(20220228).xls\n",
      "Index(['강원도'], dtype='object', name='시도')\n",
      "c:\\Users\\uilov\\Desktop\\개발 관련 폴더\\공공데이터분석\\어린이집\\2023\\[강원]어린이집기본정보조회(정기)-기준일(20230228).xls\n",
      "Index(['강원도'], dtype='object', name='시도')\n",
      "c:\\Users\\uilov\\Desktop\\개발 관련 폴더\\공공데이터분석\\어린이집\\2024\\[강원]어린이집기본정보조회(정기)-기준일(20240229).xls\n",
      "Index(['강원특별자치도'], dtype='object', name='시도')\n"
     ]
    }
   ],
   "source": [
    "for i in range(2020, 2025):\n",
    "    print(pd.read_excel(get_file_path(kid_path(i), 0), engine='xlrd')['시도'].value_counts().index)"
   ]
  },
  {
   "cell_type": "markdown",
   "metadata": {},
   "source": [
    "- 경기도"
   ]
  },
  {
   "cell_type": "code",
   "execution_count": 89,
   "metadata": {},
   "outputs": [
    {
     "name": "stdout",
     "output_type": "stream",
     "text": [
      "c:\\Users\\uilov\\Desktop\\개발 관련 폴더\\공공데이터분석\\어린이집\\2020\\[경기]어린이집기본정보조회(정기)-기준일(20200229).xls\n",
      "Index(['경기도'], dtype='object', name='시도')\n",
      "c:\\Users\\uilov\\Desktop\\개발 관련 폴더\\공공데이터분석\\어린이집\\2021\\[경기]어린이집기본정보조회(정기)-기준일(20210228).xls\n",
      "Index(['경기도'], dtype='object', name='시도')\n",
      "c:\\Users\\uilov\\Desktop\\개발 관련 폴더\\공공데이터분석\\어린이집\\2022\\[경기]어린이집기본정보조회(정기)-기준일(20220228).xls\n",
      "Index(['경기도'], dtype='object', name='시도')\n",
      "c:\\Users\\uilov\\Desktop\\개발 관련 폴더\\공공데이터분석\\어린이집\\2023\\[경기]어린이집기본정보조회(정기)-기준일(20230228).xls\n",
      "Index(['경기도'], dtype='object', name='시도')\n",
      "c:\\Users\\uilov\\Desktop\\개발 관련 폴더\\공공데이터분석\\어린이집\\2024\\[경기]어린이집기본정보조회(정기)-기준일(20240229).xls\n",
      "Index(['경기도'], dtype='object', name='시도')\n"
     ]
    }
   ],
   "source": [
    "for i in range(2020, 2025):\n",
    "    print(pd.read_excel(get_file_path(kid_path(i), 1), engine='xlrd')['시도'].value_counts().index)"
   ]
  },
  {
   "cell_type": "markdown",
   "metadata": {},
   "source": [
    "- 경상남도"
   ]
  },
  {
   "cell_type": "code",
   "execution_count": 90,
   "metadata": {},
   "outputs": [
    {
     "name": "stdout",
     "output_type": "stream",
     "text": [
      "c:\\Users\\uilov\\Desktop\\개발 관련 폴더\\공공데이터분석\\어린이집\\2020\\[경남]어린이집기본정보조회(정기)-기준일(20200229).xls\n",
      "Index(['경상남도'], dtype='object', name='시도')\n",
      "c:\\Users\\uilov\\Desktop\\개발 관련 폴더\\공공데이터분석\\어린이집\\2021\\[경남]어린이집기본정보조회(정기)-기준일(20210228).xls\n",
      "Index(['경상남도'], dtype='object', name='시도')\n",
      "c:\\Users\\uilov\\Desktop\\개발 관련 폴더\\공공데이터분석\\어린이집\\2022\\[경남]어린이집기본정보조회(정기)-기준일(20220228).xls\n",
      "Index(['경상남도'], dtype='object', name='시도')\n",
      "c:\\Users\\uilov\\Desktop\\개발 관련 폴더\\공공데이터분석\\어린이집\\2023\\[경남]어린이집기본정보조회(정기)-기준일(20230228).xls\n",
      "Index(['경상남도'], dtype='object', name='시도')\n",
      "c:\\Users\\uilov\\Desktop\\개발 관련 폴더\\공공데이터분석\\어린이집\\2024\\[경남]어린이집기본정보조회(정기)-기준일(20240229).xls\n",
      "Index(['경상남도'], dtype='object', name='시도')\n"
     ]
    }
   ],
   "source": [
    "for i in range(2020, 2025):\n",
    "    print(pd.read_excel(get_file_path(kid_path(i), 2), engine='xlrd')['시도'].value_counts().index)"
   ]
  },
  {
   "cell_type": "markdown",
   "metadata": {},
   "source": [
    "- 경상북도"
   ]
  },
  {
   "cell_type": "code",
   "execution_count": 91,
   "metadata": {},
   "outputs": [
    {
     "name": "stdout",
     "output_type": "stream",
     "text": [
      "c:\\Users\\uilov\\Desktop\\개발 관련 폴더\\공공데이터분석\\어린이집\\2020\\[경북]어린이집기본정보조회(정기)-기준일(20200229).xls\n",
      "Index(['경상북도'], dtype='object', name='시도')\n",
      "c:\\Users\\uilov\\Desktop\\개발 관련 폴더\\공공데이터분석\\어린이집\\2021\\[경북]어린이집기본정보조회(정기)-기준일(20210228).xls\n",
      "Index(['경상북도'], dtype='object', name='시도')\n",
      "c:\\Users\\uilov\\Desktop\\개발 관련 폴더\\공공데이터분석\\어린이집\\2022\\[경북]어린이집기본정보조회(정기)-기준일(20220228).xls\n",
      "Index(['경상북도'], dtype='object', name='시도')\n",
      "c:\\Users\\uilov\\Desktop\\개발 관련 폴더\\공공데이터분석\\어린이집\\2023\\[경북]어린이집기본정보조회(정기)-기준일(20230228).xls\n",
      "Index(['경상북도'], dtype='object', name='시도')\n",
      "c:\\Users\\uilov\\Desktop\\개발 관련 폴더\\공공데이터분석\\어린이집\\2024\\[경북]어린이집기본정보조회(정기)-기준일(20240229).xls\n",
      "Index(['경상북도'], dtype='object', name='시도')\n"
     ]
    }
   ],
   "source": [
    "for i in range(2020, 2025):\n",
    "    print(pd.read_excel(get_file_path(kid_path(i), 3), engine='xlrd')['시도'].value_counts().index)"
   ]
  },
  {
   "cell_type": "markdown",
   "metadata": {},
   "source": [
    "- 광주광역시"
   ]
  },
  {
   "cell_type": "code",
   "execution_count": 92,
   "metadata": {},
   "outputs": [
    {
     "name": "stdout",
     "output_type": "stream",
     "text": [
      "c:\\Users\\uilov\\Desktop\\개발 관련 폴더\\공공데이터분석\\어린이집\\2020\\[광주]어린이집기본정보조회(정기)-기준일(20200229).xls\n",
      "Index(['광주광역시'], dtype='object', name='시도')\n",
      "c:\\Users\\uilov\\Desktop\\개발 관련 폴더\\공공데이터분석\\어린이집\\2021\\[광주]어린이집기본정보조회(정기)-기준일(20210228).xls\n",
      "Index(['광주광역시'], dtype='object', name='시도')\n",
      "c:\\Users\\uilov\\Desktop\\개발 관련 폴더\\공공데이터분석\\어린이집\\2022\\[광주]어린이집기본정보조회(정기)-기준일(20220228).xls\n",
      "Index(['광주광역시'], dtype='object', name='시도')\n",
      "c:\\Users\\uilov\\Desktop\\개발 관련 폴더\\공공데이터분석\\어린이집\\2023\\[광주]어린이집기본정보조회(정기)-기준일(20230228).xls\n",
      "Index(['광주광역시'], dtype='object', name='시도')\n",
      "c:\\Users\\uilov\\Desktop\\개발 관련 폴더\\공공데이터분석\\어린이집\\2024\\[광주]어린이집기본정보조회(정기)-기준일(20240229).xls\n",
      "Index(['광주광역시'], dtype='object', name='시도')\n"
     ]
    }
   ],
   "source": [
    "for i in range(2020, 2025):\n",
    "    print(pd.read_excel(get_file_path(kid_path(i), 4), engine='xlrd')['시도'].value_counts().index)"
   ]
  },
  {
   "cell_type": "markdown",
   "metadata": {},
   "source": [
    "- 대구광역시"
   ]
  },
  {
   "cell_type": "code",
   "execution_count": 93,
   "metadata": {},
   "outputs": [
    {
     "name": "stdout",
     "output_type": "stream",
     "text": [
      "c:\\Users\\uilov\\Desktop\\개발 관련 폴더\\공공데이터분석\\어린이집\\2020\\[대구]어린이집기본정보조회(정기)-기준일(20200229).xls\n",
      "Index(['대구광역시'], dtype='object', name='시도')\n",
      "c:\\Users\\uilov\\Desktop\\개발 관련 폴더\\공공데이터분석\\어린이집\\2021\\[대구]어린이집기본정보조회(정기)-기준일(20210228).xls\n",
      "Index(['대구광역시'], dtype='object', name='시도')\n",
      "c:\\Users\\uilov\\Desktop\\개발 관련 폴더\\공공데이터분석\\어린이집\\2022\\[대구]어린이집기본정보조회(정기)-기준일(20220228).xls\n",
      "Index(['대구광역시'], dtype='object', name='시도')\n",
      "c:\\Users\\uilov\\Desktop\\개발 관련 폴더\\공공데이터분석\\어린이집\\2023\\[대구]어린이집기본정보조회(정기)-기준일(20230228).xls\n",
      "Index(['대구광역시'], dtype='object', name='시도')\n",
      "c:\\Users\\uilov\\Desktop\\개발 관련 폴더\\공공데이터분석\\어린이집\\2024\\[대구]어린이집기본정보조회(정기)-기준일(20240229).xls\n",
      "Index(['대구광역시'], dtype='object', name='시도')\n"
     ]
    }
   ],
   "source": [
    "for i in range(2020, 2025):\n",
    "    print(pd.read_excel(get_file_path(kid_path(i), 5), engine='xlrd')['시도'].value_counts().index)"
   ]
  },
  {
   "cell_type": "markdown",
   "metadata": {},
   "source": [
    "- 대전광역시"
   ]
  },
  {
   "cell_type": "code",
   "execution_count": 94,
   "metadata": {},
   "outputs": [
    {
     "name": "stdout",
     "output_type": "stream",
     "text": [
      "c:\\Users\\uilov\\Desktop\\개발 관련 폴더\\공공데이터분석\\어린이집\\2020\\[대전]어린이집기본정보조회(정기)-기준일(20200229).xls\n",
      "Index(['대전광역시'], dtype='object', name='시도')\n",
      "c:\\Users\\uilov\\Desktop\\개발 관련 폴더\\공공데이터분석\\어린이집\\2021\\[대전]어린이집기본정보조회(정기)-기준일(20210228).xls\n",
      "Index(['대전광역시'], dtype='object', name='시도')\n",
      "c:\\Users\\uilov\\Desktop\\개발 관련 폴더\\공공데이터분석\\어린이집\\2022\\[대전]어린이집기본정보조회(정기)-기준일(20220228).xls\n",
      "Index(['대전광역시'], dtype='object', name='시도')\n",
      "c:\\Users\\uilov\\Desktop\\개발 관련 폴더\\공공데이터분석\\어린이집\\2023\\[대전]어린이집기본정보조회(정기)-기준일(20230228).xls\n",
      "Index(['대전광역시'], dtype='object', name='시도')\n",
      "c:\\Users\\uilov\\Desktop\\개발 관련 폴더\\공공데이터분석\\어린이집\\2024\\[대전]어린이집기본정보조회(정기)-기준일(20240229).xls\n",
      "Index(['대전광역시'], dtype='object', name='시도')\n"
     ]
    }
   ],
   "source": [
    "for i in range(2020, 2025):\n",
    "    print(pd.read_excel(get_file_path(kid_path(i), 6), engine='xlrd')['시도'].value_counts().index)"
   ]
  },
  {
   "cell_type": "markdown",
   "metadata": {},
   "source": [
    "- 부산광역시"
   ]
  },
  {
   "cell_type": "code",
   "execution_count": 95,
   "metadata": {},
   "outputs": [
    {
     "name": "stdout",
     "output_type": "stream",
     "text": [
      "c:\\Users\\uilov\\Desktop\\개발 관련 폴더\\공공데이터분석\\어린이집\\2020\\[부산]어린이집기본정보조회(정기)-기준일(20200229).xls\n",
      "Index(['부산광역시'], dtype='object', name='시도')\n",
      "c:\\Users\\uilov\\Desktop\\개발 관련 폴더\\공공데이터분석\\어린이집\\2021\\[부산]어린이집기본정보조회(정기)-기준일(20210228).xls\n",
      "Index(['부산광역시'], dtype='object', name='시도')\n",
      "c:\\Users\\uilov\\Desktop\\개발 관련 폴더\\공공데이터분석\\어린이집\\2022\\[부산]어린이집기본정보조회(정기)-기준일(20220228).xls\n",
      "Index(['부산광역시'], dtype='object', name='시도')\n",
      "c:\\Users\\uilov\\Desktop\\개발 관련 폴더\\공공데이터분석\\어린이집\\2023\\[부산]어린이집기본정보조회(정기)-기준일(20230228).xls\n",
      "Index(['부산광역시'], dtype='object', name='시도')\n",
      "c:\\Users\\uilov\\Desktop\\개발 관련 폴더\\공공데이터분석\\어린이집\\2024\\[부산]어린이집기본정보조회(정기)-기준일(20240229).xls\n",
      "Index(['부산광역시'], dtype='object', name='시도')\n"
     ]
    }
   ],
   "source": [
    "for i in range(2020, 2025):\n",
    "    print(pd.read_excel(get_file_path(kid_path(i), 7), engine='xlrd')['시도'].value_counts().index)"
   ]
  },
  {
   "cell_type": "markdown",
   "metadata": {},
   "source": [
    "- 서울특별시"
   ]
  },
  {
   "cell_type": "code",
   "execution_count": 96,
   "metadata": {},
   "outputs": [
    {
     "name": "stdout",
     "output_type": "stream",
     "text": [
      "c:\\Users\\uilov\\Desktop\\개발 관련 폴더\\공공데이터분석\\어린이집\\2020\\[서울]어린이집기본정보조회(정기)-기준일(20200229).xls\n",
      "Index(['경기도'], dtype='object', name='시도')\n",
      "c:\\Users\\uilov\\Desktop\\개발 관련 폴더\\공공데이터분석\\어린이집\\2021\\[서울]어린이집기본정보조회(정기)-기준일(20210228).xls\n",
      "Index(['서울특별시'], dtype='object', name='시도')\n",
      "c:\\Users\\uilov\\Desktop\\개발 관련 폴더\\공공데이터분석\\어린이집\\2022\\[서울]어린이집기본정보조회(정기)-기준일(20220228).xls\n",
      "Index(['서울특별시'], dtype='object', name='시도')\n",
      "c:\\Users\\uilov\\Desktop\\개발 관련 폴더\\공공데이터분석\\어린이집\\2023\\[서울]어린이집기본정보조회(정기)-기준일(20230228).xls\n",
      "Index(['서울특별시'], dtype='object', name='시도')\n",
      "c:\\Users\\uilov\\Desktop\\개발 관련 폴더\\공공데이터분석\\어린이집\\2024\\[서울]어린이집기본정보조회(정기)-기준일(20240229).xls\n",
      "Index(['서울특별시'], dtype='object', name='시도')\n"
     ]
    }
   ],
   "source": [
    "for i in range(2020, 2025):\n",
    "    print(pd.read_excel(get_file_path(kid_path(i), 8), engine='xlrd')['시도'].value_counts().index)"
   ]
  },
  {
   "cell_type": "markdown",
   "metadata": {},
   "source": [
    "- 세종특별자치시"
   ]
  },
  {
   "cell_type": "code",
   "execution_count": 97,
   "metadata": {},
   "outputs": [
    {
     "name": "stdout",
     "output_type": "stream",
     "text": [
      "c:\\Users\\uilov\\Desktop\\개발 관련 폴더\\공공데이터분석\\어린이집\\2020\\[세종]어린이집기본정보조회(정기)-기준일(20200229).xls\n",
      "Index(['세종특별자치시'], dtype='object', name='시도')\n",
      "c:\\Users\\uilov\\Desktop\\개발 관련 폴더\\공공데이터분석\\어린이집\\2021\\[세종]어린이집기본정보조회(정기)-기준일(20210228).xls\n",
      "Index(['세종특별자치시'], dtype='object', name='시도')\n",
      "c:\\Users\\uilov\\Desktop\\개발 관련 폴더\\공공데이터분석\\어린이집\\2022\\[세종]어린이집기본정보조회(정기)-기준일(20220228).xls\n",
      "Index(['세종특별자치시'], dtype='object', name='시도')\n",
      "c:\\Users\\uilov\\Desktop\\개발 관련 폴더\\공공데이터분석\\어린이집\\2023\\[세종]어린이집기본정보조회(정기)-기준일(20230228).xls\n",
      "Index(['세종특별자치시'], dtype='object', name='시도')\n",
      "c:\\Users\\uilov\\Desktop\\개발 관련 폴더\\공공데이터분석\\어린이집\\2024\\[세종]어린이집기본정보조회(정기)-기준일(20240229).xls\n",
      "Index(['세종특별자치시'], dtype='object', name='시도')\n"
     ]
    }
   ],
   "source": [
    "for i in range(2020, 2025):\n",
    "    print(pd.read_excel(get_file_path(kid_path(i), 9), engine='xlrd')['시도'].value_counts().index)"
   ]
  },
  {
   "cell_type": "markdown",
   "metadata": {},
   "source": [
    "- 울산광역시"
   ]
  },
  {
   "cell_type": "code",
   "execution_count": 98,
   "metadata": {},
   "outputs": [
    {
     "name": "stdout",
     "output_type": "stream",
     "text": [
      "c:\\Users\\uilov\\Desktop\\개발 관련 폴더\\공공데이터분석\\어린이집\\2020\\[울산]어린이집기본정보조회(정기)-기준일(20200229).xls\n",
      "Index(['울산광역시'], dtype='object', name='시도')\n",
      "c:\\Users\\uilov\\Desktop\\개발 관련 폴더\\공공데이터분석\\어린이집\\2021\\[울산]어린이집기본정보조회(정기)-기준일(20210228).xls\n",
      "Index(['울산광역시'], dtype='object', name='시도')\n",
      "c:\\Users\\uilov\\Desktop\\개발 관련 폴더\\공공데이터분석\\어린이집\\2022\\[울산]어린이집기본정보조회(정기)-기준일(20220228).xls\n",
      "Index(['울산광역시'], dtype='object', name='시도')\n",
      "c:\\Users\\uilov\\Desktop\\개발 관련 폴더\\공공데이터분석\\어린이집\\2023\\[울산]어린이집기본정보조회(정기)-기준일(20230228).xls\n",
      "Index(['울산광역시'], dtype='object', name='시도')\n",
      "c:\\Users\\uilov\\Desktop\\개발 관련 폴더\\공공데이터분석\\어린이집\\2024\\[울산]어린이집기본정보조회(정기)-기준일(20240229).xls\n",
      "Index(['울산광역시'], dtype='object', name='시도')\n"
     ]
    }
   ],
   "source": [
    "for i in range(2020, 2025):\n",
    "    print(pd.read_excel(get_file_path(kid_path(i), 10), engine='xlrd')['시도'].value_counts().index)"
   ]
  },
  {
   "cell_type": "markdown",
   "metadata": {},
   "source": [
    "- 인천광역시"
   ]
  },
  {
   "cell_type": "code",
   "execution_count": 99,
   "metadata": {},
   "outputs": [
    {
     "name": "stdout",
     "output_type": "stream",
     "text": [
      "c:\\Users\\uilov\\Desktop\\개발 관련 폴더\\공공데이터분석\\어린이집\\2020\\[인천]어린이집기본정보조회(정기)-기준일(20200229).xls\n",
      "Index(['인천광역시'], dtype='object', name='시도')\n",
      "c:\\Users\\uilov\\Desktop\\개발 관련 폴더\\공공데이터분석\\어린이집\\2021\\[인천]어린이집기본정보조회(정기)-기준일(20210228).xls\n",
      "Index(['인천광역시'], dtype='object', name='시도')\n",
      "c:\\Users\\uilov\\Desktop\\개발 관련 폴더\\공공데이터분석\\어린이집\\2022\\[인천]어린이집기본정보조회(정기)-기준일(20220228).xls\n",
      "Index(['인천광역시'], dtype='object', name='시도')\n",
      "c:\\Users\\uilov\\Desktop\\개발 관련 폴더\\공공데이터분석\\어린이집\\2023\\[인천]어린이집기본정보조회(정기)-기준일(20230228).xls\n",
      "Index(['인천광역시'], dtype='object', name='시도')\n",
      "c:\\Users\\uilov\\Desktop\\개발 관련 폴더\\공공데이터분석\\어린이집\\2024\\[인천]어린이집기본정보조회(정기)-기준일(20240229).xls\n",
      "Index(['인천광역시'], dtype='object', name='시도')\n"
     ]
    }
   ],
   "source": [
    "for i in range(2020, 2025):\n",
    "    print(pd.read_excel(get_file_path(kid_path(i), 11), engine='xlrd')['시도'].value_counts().index)"
   ]
  },
  {
   "cell_type": "markdown",
   "metadata": {},
   "source": [
    "- 전라남도"
   ]
  },
  {
   "cell_type": "code",
   "execution_count": 100,
   "metadata": {},
   "outputs": [
    {
     "name": "stdout",
     "output_type": "stream",
     "text": [
      "c:\\Users\\uilov\\Desktop\\개발 관련 폴더\\공공데이터분석\\어린이집\\2020\\[전남]어린이집기본정보조회(정기)-기준일(20200229).xls\n",
      "Index(['전라남도'], dtype='object', name='시도')\n",
      "c:\\Users\\uilov\\Desktop\\개발 관련 폴더\\공공데이터분석\\어린이집\\2021\\[전남]어린이집기본정보조회(정기)-기준일(20210228).xls\n",
      "Index(['전라남도'], dtype='object', name='시도')\n",
      "c:\\Users\\uilov\\Desktop\\개발 관련 폴더\\공공데이터분석\\어린이집\\2022\\[전남]어린이집기본정보조회(정기)-기준일(20220228).xls\n",
      "Index(['서울특별시'], dtype='object', name='시도')\n",
      "c:\\Users\\uilov\\Desktop\\개발 관련 폴더\\공공데이터분석\\어린이집\\2023\\[전남]어린이집기본정보조회(정기)-기준일(20230228).xls\n",
      "Index(['전라남도'], dtype='object', name='시도')\n",
      "c:\\Users\\uilov\\Desktop\\개발 관련 폴더\\공공데이터분석\\어린이집\\2024\\[전남]어린이집기본정보조회(정기)-기준일(20240229).xls\n",
      "Index(['전라남도'], dtype='object', name='시도')\n"
     ]
    }
   ],
   "source": [
    "for i in range(2020, 2025):\n",
    "    print(pd.read_excel(get_file_path(kid_path(i), 12), engine='xlrd')['시도'].value_counts().index)"
   ]
  },
  {
   "cell_type": "markdown",
   "metadata": {},
   "source": [
    "- 전라북도"
   ]
  },
  {
   "cell_type": "code",
   "execution_count": 101,
   "metadata": {},
   "outputs": [
    {
     "name": "stdout",
     "output_type": "stream",
     "text": [
      "c:\\Users\\uilov\\Desktop\\개발 관련 폴더\\공공데이터분석\\어린이집\\2020\\[전북]어린이집기본정보조회(정기)-기준일(20200229).xls\n",
      "Index(['전라북도'], dtype='object', name='시도')\n",
      "c:\\Users\\uilov\\Desktop\\개발 관련 폴더\\공공데이터분석\\어린이집\\2021\\[전북]어린이집기본정보조회(정기)-기준일(20210228).xls\n",
      "Index(['전라북도'], dtype='object', name='시도')\n",
      "c:\\Users\\uilov\\Desktop\\개발 관련 폴더\\공공데이터분석\\어린이집\\2022\\[전북]어린이집기본정보조회(정기)-기준일(20220228).xls\n",
      "Index(['전라북도'], dtype='object', name='시도')\n",
      "c:\\Users\\uilov\\Desktop\\개발 관련 폴더\\공공데이터분석\\어린이집\\2023\\[전북]어린이집기본정보조회(정기)-기준일(20230228).xls\n",
      "Index(['전라북도'], dtype='object', name='시도')\n",
      "c:\\Users\\uilov\\Desktop\\개발 관련 폴더\\공공데이터분석\\어린이집\\2024\\[전북]어린이집기본정보조회(정기)-기준일(20240229).xls\n",
      "Index(['전북특별자치도'], dtype='object', name='시도')\n"
     ]
    }
   ],
   "source": [
    "for i in range(2020, 2025):\n",
    "    print(pd.read_excel(get_file_path(kid_path(i), 13), engine='xlrd')['시도'].value_counts().index)"
   ]
  },
  {
   "cell_type": "markdown",
   "metadata": {},
   "source": [
    "- 제주특별자치시"
   ]
  },
  {
   "cell_type": "code",
   "execution_count": 102,
   "metadata": {},
   "outputs": [
    {
     "name": "stdout",
     "output_type": "stream",
     "text": [
      "c:\\Users\\uilov\\Desktop\\개발 관련 폴더\\공공데이터분석\\어린이집\\2020\\[제주]어린이집기본정보조회(정기)-기준일(20200229).xls\n",
      "Index(['제주도'], dtype='object', name='시도')\n",
      "c:\\Users\\uilov\\Desktop\\개발 관련 폴더\\공공데이터분석\\어린이집\\2021\\[제주]어린이집기본정보조회(정기)-기준일(20210228).xls\n",
      "Index(['제주도'], dtype='object', name='시도')\n",
      "c:\\Users\\uilov\\Desktop\\개발 관련 폴더\\공공데이터분석\\어린이집\\2022\\[제주]어린이집기본정보조회(정기)-기준일(20220228).xls\n",
      "Index(['제주도'], dtype='object', name='시도')\n",
      "c:\\Users\\uilov\\Desktop\\개발 관련 폴더\\공공데이터분석\\어린이집\\2023\\[제주]어린이집기본정보조회(정기)-기준일(20230228).xls\n",
      "Index(['제주도'], dtype='object', name='시도')\n",
      "c:\\Users\\uilov\\Desktop\\개발 관련 폴더\\공공데이터분석\\어린이집\\2024\\[제주]어린이집기본정보조회(정기)-기준일(20240229).xls\n",
      "Index(['제주도'], dtype='object', name='시도')\n"
     ]
    }
   ],
   "source": [
    "for i in range(2020, 2025):\n",
    "    print(pd.read_excel(get_file_path(kid_path(i), 14), engine='xlrd')['시도'].value_counts().index)"
   ]
  },
  {
   "cell_type": "markdown",
   "metadata": {},
   "source": [
    "- 충청남도"
   ]
  },
  {
   "cell_type": "code",
   "execution_count": 103,
   "metadata": {},
   "outputs": [
    {
     "name": "stdout",
     "output_type": "stream",
     "text": [
      "c:\\Users\\uilov\\Desktop\\개발 관련 폴더\\공공데이터분석\\어린이집\\2020\\[충남]어린이집기본정보조회(정기)-기준일(20200229).xls\n",
      "Index(['충청남도'], dtype='object', name='시도')\n",
      "c:\\Users\\uilov\\Desktop\\개발 관련 폴더\\공공데이터분석\\어린이집\\2021\\[충남]어린이집기본정보조회(정기)-기준일(20210228).xls\n",
      "Index(['충청남도'], dtype='object', name='시도')\n",
      "c:\\Users\\uilov\\Desktop\\개발 관련 폴더\\공공데이터분석\\어린이집\\2022\\[충남]어린이집기본정보조회(정기)-기준일(20220228).xls\n",
      "Index(['충청남도'], dtype='object', name='시도')\n",
      "c:\\Users\\uilov\\Desktop\\개발 관련 폴더\\공공데이터분석\\어린이집\\2023\\[충남]어린이집기본정보조회(정기)-기준일(20230228).xls\n",
      "Index(['충청남도'], dtype='object', name='시도')\n",
      "c:\\Users\\uilov\\Desktop\\개발 관련 폴더\\공공데이터분석\\어린이집\\2024\\[충남]어린이집기본정보조회(정기)-기준일(20240229).xls\n",
      "Index(['충청남도'], dtype='object', name='시도')\n"
     ]
    }
   ],
   "source": [
    "for i in range(2020, 2025):\n",
    "    print(pd.read_excel(get_file_path(kid_path(i), 15), engine='xlrd')['시도'].value_counts().index)"
   ]
  },
  {
   "cell_type": "markdown",
   "metadata": {},
   "source": [
    "- 충청북도"
   ]
  },
  {
   "cell_type": "code",
   "execution_count": 104,
   "metadata": {},
   "outputs": [
    {
     "name": "stdout",
     "output_type": "stream",
     "text": [
      "c:\\Users\\uilov\\Desktop\\개발 관련 폴더\\공공데이터분석\\어린이집\\2020\\[충북]어린이집기본정보조회(정기)-기준일(20200229).xls\n",
      "Index(['충청북도'], dtype='object', name='시도')\n",
      "c:\\Users\\uilov\\Desktop\\개발 관련 폴더\\공공데이터분석\\어린이집\\2021\\[충북]어린이집기본정보조회(정기)-기준일(20210228).xls\n",
      "Index(['충청북도'], dtype='object', name='시도')\n",
      "c:\\Users\\uilov\\Desktop\\개발 관련 폴더\\공공데이터분석\\어린이집\\2022\\[충북]어린이집기본정보조회(정기)-기준일(20220228).xls\n",
      "Index(['충청북도'], dtype='object', name='시도')\n",
      "c:\\Users\\uilov\\Desktop\\개발 관련 폴더\\공공데이터분석\\어린이집\\2023\\[충북]어린이집기본정보조회(정기)-기준일(20230228).xls\n",
      "Index(['충청북도'], dtype='object', name='시도')\n",
      "c:\\Users\\uilov\\Desktop\\개발 관련 폴더\\공공데이터분석\\어린이집\\2024\\[충북]어린이집기본정보조회(정기)-기준일(20240229).xls\n",
      "Index(['충청북도'], dtype='object', name='시도')\n"
     ]
    }
   ],
   "source": [
    "for i in range(2020, 2025):\n",
    "    print(pd.read_excel(get_file_path(kid_path(i), 16), engine='xlrd')['시도'].value_counts().index)"
   ]
  },
  {
   "cell_type": "markdown",
   "metadata": {},
   "source": [
    "##### 시도별 데이터 시도 이상없음!"
   ]
  },
  {
   "cell_type": "markdown",
   "metadata": {},
   "source": [
    "- 위도, 경도 기준 데이터 중복확인"
   ]
  },
  {
   "cell_type": "code",
   "execution_count": 49,
   "metadata": {},
   "outputs": [
    {
     "name": "stdout",
     "output_type": "stream",
     "text": [
      "c:\\Users\\uilov\\Desktop\\개발 관련 폴더\\공공데이터분석\\어린이집\\2020\\[강원]어린이집기본정보조회(정기)-기준일(20200229).xls\n"
     ]
    },
    {
     "data": {
      "text/plain": [
       "위도         경도        \n",
       "37.566470  126.977963    23\n",
       "37.323412  127.951421     6\n",
       "37.891090  127.755466     6\n",
       "37.335788  127.926181     6\n",
       "37.317493  127.965461     5\n",
       "                         ..\n",
       "37.450347  129.187539     1\n",
       "37.450214  129.170450     1\n",
       "37.450074  129.166034     1\n",
       "37.449821  129.175446     1\n",
       "38.495819  128.426403     1\n",
       "Name: count, Length: 1276, dtype: int64"
      ]
     },
     "execution_count": 49,
     "metadata": {},
     "output_type": "execute_result"
    }
   ],
   "source": [
    "pd.read_excel(get_file_path(kid_path(2020), 0), engine='xlrd')[['위도', '경도']].value_counts()"
   ]
  },
  {
   "cell_type": "code",
   "execution_count": 52,
   "metadata": {},
   "outputs": [
    {
     "name": "stdout",
     "output_type": "stream",
     "text": [
      "c:\\Users\\uilov\\Desktop\\개발 관련 폴더\\공공데이터분석\\어린이집\\2020\\[강원]어린이집기본정보조회(정기)-기준일(20200229).xls\n"
     ]
    }
   ],
   "source": [
    "df = pd.read_excel(get_file_path(kid_path(2020), 0), engine='xlrd')"
   ]
  },
  {
   "cell_type": "markdown",
   "metadata": {},
   "source": [
    "- 겹치는 위도/경도 확인하기. 위도, 경도가 겹치는데도 춘천시/원주시/강릉시가 있는 이유는?"
   ]
  },
  {
   "cell_type": "code",
   "execution_count": 58,
   "metadata": {},
   "outputs": [
    {
     "data": {
      "text/html": [
       "<div>\n",
       "<style scoped>\n",
       "    .dataframe tbody tr th:only-of-type {\n",
       "        vertical-align: middle;\n",
       "    }\n",
       "\n",
       "    .dataframe tbody tr th {\n",
       "        vertical-align: top;\n",
       "    }\n",
       "\n",
       "    .dataframe thead th {\n",
       "        text-align: right;\n",
       "    }\n",
       "</style>\n",
       "<table border=\"1\" class=\"dataframe\">\n",
       "  <thead>\n",
       "    <tr style=\"text-align: right;\">\n",
       "      <th></th>\n",
       "      <th>시도</th>\n",
       "      <th>시군구</th>\n",
       "      <th>어린이집명</th>\n",
       "      <th>어린이집유형구분</th>\n",
       "      <th>운영현황</th>\n",
       "      <th>우편번호</th>\n",
       "      <th>주소</th>\n",
       "      <th>어린이집전화번호</th>\n",
       "      <th>어린이집팩스번호</th>\n",
       "      <th>보육실수</th>\n",
       "      <th>...</th>\n",
       "      <th>정원수</th>\n",
       "      <th>현원수</th>\n",
       "      <th>위도</th>\n",
       "      <th>경도</th>\n",
       "      <th>통학차량운영여부</th>\n",
       "      <th>홈페이지주소</th>\n",
       "      <th>인가일자</th>\n",
       "      <th>휴지시작일자</th>\n",
       "      <th>휴지종료일자</th>\n",
       "      <th>폐지일자</th>\n",
       "    </tr>\n",
       "  </thead>\n",
       "  <tbody>\n",
       "    <tr>\n",
       "      <th>321</th>\n",
       "      <td>강원도</td>\n",
       "      <td>춘천시</td>\n",
       "      <td>강원경찰청어린이집</td>\n",
       "      <td>직장</td>\n",
       "      <td>정상</td>\n",
       "      <td>24217</td>\n",
       "      <td>강원도 춘천시 동면 만천로143번길 84</td>\n",
       "      <td>033-244-5586</td>\n",
       "      <td>--</td>\n",
       "      <td>6</td>\n",
       "      <td>...</td>\n",
       "      <td>100</td>\n",
       "      <td>97</td>\n",
       "      <td>37.56647</td>\n",
       "      <td>126.977963</td>\n",
       "      <td>운영</td>\n",
       "      <td>NaN</td>\n",
       "      <td>2016-08-31</td>\n",
       "      <td>NaN</td>\n",
       "      <td>NaN</td>\n",
       "      <td>NaN</td>\n",
       "    </tr>\n",
       "    <tr>\n",
       "      <th>330</th>\n",
       "      <td>강원도</td>\n",
       "      <td>춘천시</td>\n",
       "      <td>후평트루엘어린이집</td>\n",
       "      <td>국공립</td>\n",
       "      <td>정상</td>\n",
       "      <td>24279</td>\n",
       "      <td>강원도 춘천시 백령로 215 일성트루엘더퍼스트 관리동</td>\n",
       "      <td>033-254-5119</td>\n",
       "      <td>--</td>\n",
       "      <td>4</td>\n",
       "      <td>...</td>\n",
       "      <td>55</td>\n",
       "      <td>15</td>\n",
       "      <td>37.56647</td>\n",
       "      <td>126.977963</td>\n",
       "      <td>미운영</td>\n",
       "      <td>NaN</td>\n",
       "      <td>2019-10-16</td>\n",
       "      <td>NaN</td>\n",
       "      <td>NaN</td>\n",
       "      <td>NaN</td>\n",
       "    </tr>\n",
       "    <tr>\n",
       "      <th>331</th>\n",
       "      <td>강원도</td>\n",
       "      <td>춘천시</td>\n",
       "      <td>퇴계이편한어린이집</td>\n",
       "      <td>국공립</td>\n",
       "      <td>정상</td>\n",
       "      <td>24448</td>\n",
       "      <td>강원도 춘천시 안마산로 133 이편한세상 춘천한숲시티 관리동</td>\n",
       "      <td>010-3388-1690</td>\n",
       "      <td>--</td>\n",
       "      <td>4</td>\n",
       "      <td>...</td>\n",
       "      <td>48</td>\n",
       "      <td>0</td>\n",
       "      <td>37.56647</td>\n",
       "      <td>126.977963</td>\n",
       "      <td>NaN</td>\n",
       "      <td>NaN</td>\n",
       "      <td>2020-01-30</td>\n",
       "      <td>NaN</td>\n",
       "      <td>NaN</td>\n",
       "      <td>NaN</td>\n",
       "    </tr>\n",
       "    <tr>\n",
       "      <th>764</th>\n",
       "      <td>강원도</td>\n",
       "      <td>원주시</td>\n",
       "      <td>힐데스어린이집</td>\n",
       "      <td>가정</td>\n",
       "      <td>정상</td>\n",
       "      <td>26464</td>\n",
       "      <td>강원도 원주시 혁신로 91 509동 101호(반곡동,힐데스하임)</td>\n",
       "      <td>033-746-0316</td>\n",
       "      <td>--</td>\n",
       "      <td>4</td>\n",
       "      <td>...</td>\n",
       "      <td>20</td>\n",
       "      <td>19</td>\n",
       "      <td>37.56647</td>\n",
       "      <td>126.977963</td>\n",
       "      <td>미운영</td>\n",
       "      <td>NaN</td>\n",
       "      <td>2015-06-25</td>\n",
       "      <td>NaN</td>\n",
       "      <td>NaN</td>\n",
       "      <td>NaN</td>\n",
       "    </tr>\n",
       "    <tr>\n",
       "      <th>769</th>\n",
       "      <td>강원도</td>\n",
       "      <td>원주시</td>\n",
       "      <td>미래코어린이집</td>\n",
       "      <td>직장</td>\n",
       "      <td>정상</td>\n",
       "      <td>26464</td>\n",
       "      <td>강원도 원주시 세계로 2 (반곡동, 한국광해관리공단)</td>\n",
       "      <td>033-902-6774</td>\n",
       "      <td>033-902-6399</td>\n",
       "      <td>3</td>\n",
       "      <td>...</td>\n",
       "      <td>20</td>\n",
       "      <td>17</td>\n",
       "      <td>37.56647</td>\n",
       "      <td>126.977963</td>\n",
       "      <td>미운영</td>\n",
       "      <td>NaN</td>\n",
       "      <td>2015-08-26</td>\n",
       "      <td>NaN</td>\n",
       "      <td>NaN</td>\n",
       "      <td>NaN</td>\n",
       "    </tr>\n",
       "    <tr>\n",
       "      <th>771</th>\n",
       "      <td>강원도</td>\n",
       "      <td>원주시</td>\n",
       "      <td>건강보험심사평가원어린이집</td>\n",
       "      <td>직장</td>\n",
       "      <td>정상</td>\n",
       "      <td>26465</td>\n",
       "      <td>강원도 원주시  입춘로 130</td>\n",
       "      <td>033-739-0201</td>\n",
       "      <td>033-739-0203</td>\n",
       "      <td>19</td>\n",
       "      <td>...</td>\n",
       "      <td>300</td>\n",
       "      <td>183</td>\n",
       "      <td>37.56647</td>\n",
       "      <td>126.977963</td>\n",
       "      <td>미운영</td>\n",
       "      <td>www.puruni.com/hirawj</td>\n",
       "      <td>2015-12-01</td>\n",
       "      <td>NaN</td>\n",
       "      <td>NaN</td>\n",
       "      <td>NaN</td>\n",
       "    </tr>\n",
       "    <tr>\n",
       "      <th>783</th>\n",
       "      <td>강원도</td>\n",
       "      <td>원주시</td>\n",
       "      <td>만도원주어린이집</td>\n",
       "      <td>직장</td>\n",
       "      <td>정상</td>\n",
       "      <td>26367</td>\n",
       "      <td>강원도 원주시 문막읍 왕건로 114 만도사원아파트 106동109~110호</td>\n",
       "      <td>033-731-5500</td>\n",
       "      <td>--</td>\n",
       "      <td>5</td>\n",
       "      <td>...</td>\n",
       "      <td>20</td>\n",
       "      <td>13</td>\n",
       "      <td>37.56647</td>\n",
       "      <td>126.977963</td>\n",
       "      <td>미운영</td>\n",
       "      <td>NaN</td>\n",
       "      <td>2016-12-19</td>\n",
       "      <td>NaN</td>\n",
       "      <td>NaN</td>\n",
       "      <td>NaN</td>\n",
       "    </tr>\n",
       "    <tr>\n",
       "      <th>786</th>\n",
       "      <td>강원도</td>\n",
       "      <td>원주시</td>\n",
       "      <td>원주세브란스어린이집</td>\n",
       "      <td>직장</td>\n",
       "      <td>정상</td>\n",
       "      <td>26426</td>\n",
       "      <td>강원도 원주시 일산로 20 (일산동,연세대학교 원주의과대학기독병원)</td>\n",
       "      <td>033-742-9951</td>\n",
       "      <td>033-742-9952</td>\n",
       "      <td>5</td>\n",
       "      <td>...</td>\n",
       "      <td>49</td>\n",
       "      <td>31</td>\n",
       "      <td>37.56647</td>\n",
       "      <td>126.977963</td>\n",
       "      <td>미운영</td>\n",
       "      <td>NaN</td>\n",
       "      <td>2017-02-23</td>\n",
       "      <td>NaN</td>\n",
       "      <td>NaN</td>\n",
       "      <td>NaN</td>\n",
       "    </tr>\n",
       "    <tr>\n",
       "      <th>802</th>\n",
       "      <td>강원도</td>\n",
       "      <td>원주시</td>\n",
       "      <td>휴먼시아별그린어린이집</td>\n",
       "      <td>민간</td>\n",
       "      <td>정상</td>\n",
       "      <td>26446</td>\n",
       "      <td>강원도 원주시 개운로 30 개운1단지휴먼시아아파트 관리동</td>\n",
       "      <td>033-765-7942</td>\n",
       "      <td>--</td>\n",
       "      <td>4</td>\n",
       "      <td>...</td>\n",
       "      <td>28</td>\n",
       "      <td>21</td>\n",
       "      <td>37.56647</td>\n",
       "      <td>126.977963</td>\n",
       "      <td>운영</td>\n",
       "      <td>NaN</td>\n",
       "      <td>2019-04-11</td>\n",
       "      <td>NaN</td>\n",
       "      <td>NaN</td>\n",
       "      <td>NaN</td>\n",
       "    </tr>\n",
       "    <tr>\n",
       "      <th>808</th>\n",
       "      <td>강원도</td>\n",
       "      <td>원주시</td>\n",
       "      <td>조은어린이집</td>\n",
       "      <td>가정</td>\n",
       "      <td>정상</td>\n",
       "      <td>26454</td>\n",
       "      <td>강원도 원주시 번재길 32 110동 (행구동, 효성백년가약아파트)</td>\n",
       "      <td>033-748-6001</td>\n",
       "      <td>--</td>\n",
       "      <td>3</td>\n",
       "      <td>...</td>\n",
       "      <td>20</td>\n",
       "      <td>9</td>\n",
       "      <td>37.56647</td>\n",
       "      <td>126.977963</td>\n",
       "      <td>미운영</td>\n",
       "      <td>NaN</td>\n",
       "      <td>2019-10-02</td>\n",
       "      <td>NaN</td>\n",
       "      <td>NaN</td>\n",
       "      <td>NaN</td>\n",
       "    </tr>\n",
       "    <tr>\n",
       "      <th>1014</th>\n",
       "      <td>강원도</td>\n",
       "      <td>강릉시</td>\n",
       "      <td>밤비니어린이집</td>\n",
       "      <td>민간</td>\n",
       "      <td>정상</td>\n",
       "      <td>25600</td>\n",
       "      <td>강원도 강릉시 강변로 58 (회산동, 강릉회산LH천년나무2단지)</td>\n",
       "      <td>033-642-1066</td>\n",
       "      <td>033-643-1067</td>\n",
       "      <td>5</td>\n",
       "      <td>...</td>\n",
       "      <td>68</td>\n",
       "      <td>64</td>\n",
       "      <td>37.56647</td>\n",
       "      <td>126.977963</td>\n",
       "      <td>운영</td>\n",
       "      <td>NaN</td>\n",
       "      <td>2016-10-21</td>\n",
       "      <td>NaN</td>\n",
       "      <td>NaN</td>\n",
       "      <td>NaN</td>\n",
       "    </tr>\n",
       "    <tr>\n",
       "      <th>1016</th>\n",
       "      <td>강원도</td>\n",
       "      <td>강릉시</td>\n",
       "      <td>강릉원주대학교해람어린이집</td>\n",
       "      <td>직장</td>\n",
       "      <td>정상</td>\n",
       "      <td>25457</td>\n",
       "      <td>강원도 강릉시 죽헌길 7</td>\n",
       "      <td>033-655-3100</td>\n",
       "      <td>--</td>\n",
       "      <td>8</td>\n",
       "      <td>...</td>\n",
       "      <td>99</td>\n",
       "      <td>82</td>\n",
       "      <td>37.56647</td>\n",
       "      <td>126.977963</td>\n",
       "      <td>미운영</td>\n",
       "      <td>NaN</td>\n",
       "      <td>2019-02-26</td>\n",
       "      <td>NaN</td>\n",
       "      <td>NaN</td>\n",
       "      <td>NaN</td>\n",
       "    </tr>\n",
       "    <tr>\n",
       "      <th>1018</th>\n",
       "      <td>강원도</td>\n",
       "      <td>강릉시</td>\n",
       "      <td>힐스테이트강릉어린이집</td>\n",
       "      <td>국공립</td>\n",
       "      <td>정상</td>\n",
       "      <td>25598</td>\n",
       "      <td>강원도 강릉시 회산로383번길 37 힐스테이트강릉어린이집</td>\n",
       "      <td>033-647-6478</td>\n",
       "      <td>--</td>\n",
       "      <td>3</td>\n",
       "      <td>...</td>\n",
       "      <td>35</td>\n",
       "      <td>22</td>\n",
       "      <td>37.56647</td>\n",
       "      <td>126.977963</td>\n",
       "      <td>미운영</td>\n",
       "      <td>NaN</td>\n",
       "      <td>2019-08-13</td>\n",
       "      <td>NaN</td>\n",
       "      <td>NaN</td>\n",
       "      <td>NaN</td>\n",
       "    </tr>\n",
       "    <tr>\n",
       "      <th>1019</th>\n",
       "      <td>강원도</td>\n",
       "      <td>강릉시</td>\n",
       "      <td>미디어촌6단지어린이집</td>\n",
       "      <td>국공립</td>\n",
       "      <td>정상</td>\n",
       "      <td>25522</td>\n",
       "      <td>강원도 강릉시 선수촌로 20</td>\n",
       "      <td>033-648-2019</td>\n",
       "      <td>--</td>\n",
       "      <td>5</td>\n",
       "      <td>...</td>\n",
       "      <td>86</td>\n",
       "      <td>36</td>\n",
       "      <td>37.56647</td>\n",
       "      <td>126.977963</td>\n",
       "      <td>미운영</td>\n",
       "      <td>NaN</td>\n",
       "      <td>2019-08-26</td>\n",
       "      <td>NaN</td>\n",
       "      <td>NaN</td>\n",
       "      <td>NaN</td>\n",
       "    </tr>\n",
       "    <tr>\n",
       "      <th>1022</th>\n",
       "      <td>강원도</td>\n",
       "      <td>강릉시</td>\n",
       "      <td>더휴어린이집</td>\n",
       "      <td>민간</td>\n",
       "      <td>정상</td>\n",
       "      <td>25561</td>\n",
       "      <td>강원도 강릉시 경강로 2448 102동 1층</td>\n",
       "      <td>010-3632-0694</td>\n",
       "      <td>--</td>\n",
       "      <td>3</td>\n",
       "      <td>...</td>\n",
       "      <td>33</td>\n",
       "      <td>0</td>\n",
       "      <td>37.56647</td>\n",
       "      <td>126.977963</td>\n",
       "      <td>NaN</td>\n",
       "      <td>NaN</td>\n",
       "      <td>2020-02-24</td>\n",
       "      <td>NaN</td>\n",
       "      <td>NaN</td>\n",
       "      <td>NaN</td>\n",
       "    </tr>\n",
       "    <tr>\n",
       "      <th>1130</th>\n",
       "      <td>강원도</td>\n",
       "      <td>태백시</td>\n",
       "      <td>이레어린이집</td>\n",
       "      <td>민간</td>\n",
       "      <td>폐지</td>\n",
       "      <td>26032</td>\n",
       "      <td>강원도 태백시 청솔길 41 111-B동 203호(황지동, 청솔아파트상가)</td>\n",
       "      <td>033-553-0090</td>\n",
       "      <td>033-554-3830</td>\n",
       "      <td>3</td>\n",
       "      <td>...</td>\n",
       "      <td>32</td>\n",
       "      <td>0</td>\n",
       "      <td>37.56647</td>\n",
       "      <td>126.977963</td>\n",
       "      <td>운영</td>\n",
       "      <td>NaN</td>\n",
       "      <td>2016-08-22</td>\n",
       "      <td>NaN</td>\n",
       "      <td>NaN</td>\n",
       "      <td>2019-02-07</td>\n",
       "    </tr>\n",
       "    <tr>\n",
       "      <th>1208</th>\n",
       "      <td>강원도</td>\n",
       "      <td>속초시</td>\n",
       "      <td>밤비니어린이집</td>\n",
       "      <td>국공립</td>\n",
       "      <td>정상</td>\n",
       "      <td>24895</td>\n",
       "      <td>강원도 속초시 청대로 22-6</td>\n",
       "      <td>033-631-0041</td>\n",
       "      <td>033-631-0325</td>\n",
       "      <td>7</td>\n",
       "      <td>...</td>\n",
       "      <td>99</td>\n",
       "      <td>96</td>\n",
       "      <td>37.56647</td>\n",
       "      <td>126.977963</td>\n",
       "      <td>운영</td>\n",
       "      <td>NaN</td>\n",
       "      <td>2019-03-01</td>\n",
       "      <td>NaN</td>\n",
       "      <td>NaN</td>\n",
       "      <td>NaN</td>\n",
       "    </tr>\n",
       "    <tr>\n",
       "      <th>1209</th>\n",
       "      <td>강원도</td>\n",
       "      <td>속초시</td>\n",
       "      <td>도담어린이집</td>\n",
       "      <td>국공립</td>\n",
       "      <td>정상</td>\n",
       "      <td>24897</td>\n",
       "      <td>강원도 속초시 온정로 23 도담어린이집</td>\n",
       "      <td>033-631-0002</td>\n",
       "      <td>--</td>\n",
       "      <td>4</td>\n",
       "      <td>...</td>\n",
       "      <td>36</td>\n",
       "      <td>31</td>\n",
       "      <td>37.56647</td>\n",
       "      <td>126.977963</td>\n",
       "      <td>운영</td>\n",
       "      <td>NaN</td>\n",
       "      <td>2019-03-01</td>\n",
       "      <td>NaN</td>\n",
       "      <td>NaN</td>\n",
       "      <td>NaN</td>\n",
       "    </tr>\n",
       "    <tr>\n",
       "      <th>1261</th>\n",
       "      <td>강원도</td>\n",
       "      <td>삼척시</td>\n",
       "      <td>나래울어린이집</td>\n",
       "      <td>직장</td>\n",
       "      <td>정상</td>\n",
       "      <td>25926</td>\n",
       "      <td>강원도 삼척시 정상안길 97 금강프라자 307호</td>\n",
       "      <td>033-576-0956</td>\n",
       "      <td>--</td>\n",
       "      <td>4</td>\n",
       "      <td>...</td>\n",
       "      <td>29</td>\n",
       "      <td>18</td>\n",
       "      <td>37.56647</td>\n",
       "      <td>126.977963</td>\n",
       "      <td>운영</td>\n",
       "      <td>NaN</td>\n",
       "      <td>2015-11-02</td>\n",
       "      <td>NaN</td>\n",
       "      <td>NaN</td>\n",
       "      <td>NaN</td>\n",
       "    </tr>\n",
       "    <tr>\n",
       "      <th>1264</th>\n",
       "      <td>강원도</td>\n",
       "      <td>삼척시</td>\n",
       "      <td>세영리첼어린이집</td>\n",
       "      <td>민간</td>\n",
       "      <td>정상</td>\n",
       "      <td>25908</td>\n",
       "      <td>강원도 삼척시 마달길 215 세영리첼아파트 103동 1층</td>\n",
       "      <td>033-575-0783</td>\n",
       "      <td>--</td>\n",
       "      <td>4</td>\n",
       "      <td>...</td>\n",
       "      <td>23</td>\n",
       "      <td>14</td>\n",
       "      <td>37.56647</td>\n",
       "      <td>126.977963</td>\n",
       "      <td>미운영</td>\n",
       "      <td>NaN</td>\n",
       "      <td>2019-04-03</td>\n",
       "      <td>NaN</td>\n",
       "      <td>NaN</td>\n",
       "      <td>NaN</td>\n",
       "    </tr>\n",
       "    <tr>\n",
       "      <th>1265</th>\n",
       "      <td>강원도</td>\n",
       "      <td>삼척시</td>\n",
       "      <td>호산어린이집</td>\n",
       "      <td>국공립</td>\n",
       "      <td>정상</td>\n",
       "      <td>25961</td>\n",
       "      <td>강원도 삼척시 원덕읍 삼척로 446-12</td>\n",
       "      <td>033-575-4008</td>\n",
       "      <td>033-573-4008</td>\n",
       "      <td>3</td>\n",
       "      <td>...</td>\n",
       "      <td>20</td>\n",
       "      <td>10</td>\n",
       "      <td>37.56647</td>\n",
       "      <td>126.977963</td>\n",
       "      <td>운영</td>\n",
       "      <td>NaN</td>\n",
       "      <td>2019-07-10</td>\n",
       "      <td>NaN</td>\n",
       "      <td>NaN</td>\n",
       "      <td>NaN</td>\n",
       "    </tr>\n",
       "    <tr>\n",
       "      <th>1393</th>\n",
       "      <td>강원도</td>\n",
       "      <td>평창군</td>\n",
       "      <td>서울대학교 평창캠퍼스 초록생명어린이집</td>\n",
       "      <td>직장</td>\n",
       "      <td>폐지</td>\n",
       "      <td>25354</td>\n",
       "      <td>강원도 평창군 대화면 평창대로 1447</td>\n",
       "      <td>033-339-6233</td>\n",
       "      <td>033-339-6235</td>\n",
       "      <td>2</td>\n",
       "      <td>...</td>\n",
       "      <td>20</td>\n",
       "      <td>0</td>\n",
       "      <td>37.56647</td>\n",
       "      <td>126.977963</td>\n",
       "      <td>미운영</td>\n",
       "      <td>NaN</td>\n",
       "      <td>2014-02-27</td>\n",
       "      <td>NaN</td>\n",
       "      <td>NaN</td>\n",
       "      <td>2015-02-28</td>\n",
       "    </tr>\n",
       "    <tr>\n",
       "      <th>1508</th>\n",
       "      <td>강원도</td>\n",
       "      <td>인제군</td>\n",
       "      <td>빛나라어린이집</td>\n",
       "      <td>직장</td>\n",
       "      <td>정상</td>\n",
       "      <td>24657</td>\n",
       "      <td>강원도 인제군 기린면 내린천로 3898</td>\n",
       "      <td>033-461-1223</td>\n",
       "      <td>--</td>\n",
       "      <td>5</td>\n",
       "      <td>...</td>\n",
       "      <td>156</td>\n",
       "      <td>77</td>\n",
       "      <td>37.56647</td>\n",
       "      <td>126.977963</td>\n",
       "      <td>미운영</td>\n",
       "      <td>NaN</td>\n",
       "      <td>2017-03-09</td>\n",
       "      <td>NaN</td>\n",
       "      <td>NaN</td>\n",
       "      <td>NaN</td>\n",
       "    </tr>\n",
       "  </tbody>\n",
       "</table>\n",
       "<p>23 rows × 24 columns</p>\n",
       "</div>"
      ],
      "text/plain": [
       "       시도  시군구                 어린이집명 어린이집유형구분 운영현황   우편번호  \\\n",
       "321   강원도  춘천시             강원경찰청어린이집       직장   정상  24217   \n",
       "330   강원도  춘천시             후평트루엘어린이집      국공립   정상  24279   \n",
       "331   강원도  춘천시             퇴계이편한어린이집      국공립   정상  24448   \n",
       "764   강원도  원주시               힐데스어린이집       가정   정상  26464   \n",
       "769   강원도  원주시               미래코어린이집       직장   정상  26464   \n",
       "771   강원도  원주시         건강보험심사평가원어린이집       직장   정상  26465   \n",
       "783   강원도  원주시              만도원주어린이집       직장   정상  26367   \n",
       "786   강원도  원주시            원주세브란스어린이집       직장   정상  26426   \n",
       "802   강원도  원주시           휴먼시아별그린어린이집       민간   정상  26446   \n",
       "808   강원도  원주시                조은어린이집       가정   정상  26454   \n",
       "1014  강원도  강릉시               밤비니어린이집       민간   정상  25600   \n",
       "1016  강원도  강릉시         강릉원주대학교해람어린이집       직장   정상  25457   \n",
       "1018  강원도  강릉시           힐스테이트강릉어린이집      국공립   정상  25598   \n",
       "1019  강원도  강릉시           미디어촌6단지어린이집      국공립   정상  25522   \n",
       "1022  강원도  강릉시                더휴어린이집       민간   정상  25561   \n",
       "1130  강원도  태백시                이레어린이집       민간   폐지  26032   \n",
       "1208  강원도  속초시               밤비니어린이집      국공립   정상  24895   \n",
       "1209  강원도  속초시                도담어린이집      국공립   정상  24897   \n",
       "1261  강원도  삼척시               나래울어린이집       직장   정상  25926   \n",
       "1264  강원도  삼척시              세영리첼어린이집       민간   정상  25908   \n",
       "1265  강원도  삼척시                호산어린이집      국공립   정상  25961   \n",
       "1393  강원도  평창군  서울대학교 평창캠퍼스 초록생명어린이집       직장   폐지  25354   \n",
       "1508  강원도  인제군               빛나라어린이집       직장   정상  24657   \n",
       "\n",
       "                                            주소       어린이집전화번호      어린이집팩스번호  \\\n",
       "321                    강원도 춘천시 동면 만천로143번길 84    033-244-5586            --   \n",
       "330              강원도 춘천시 백령로 215 일성트루엘더퍼스트 관리동   033-254-5119            --   \n",
       "331          강원도 춘천시 안마산로 133 이편한세상 춘천한숲시티 관리동  010-3388-1690            --   \n",
       "764        강원도 원주시 혁신로 91 509동 101호(반곡동,힐데스하임)   033-746-0316            --   \n",
       "769              강원도 원주시 세계로 2 (반곡동, 한국광해관리공단)   033-902-6774  033-902-6399   \n",
       "771                          강원도 원주시  입춘로 130    033-739-0201  033-739-0203   \n",
       "783   강원도 원주시 문막읍 왕건로 114 만도사원아파트 106동109~110호   033-731-5500            --   \n",
       "786      강원도 원주시 일산로 20 (일산동,연세대학교 원주의과대학기독병원)   033-742-9951  033-742-9952   \n",
       "802            강원도 원주시 개운로 30 개운1단지휴먼시아아파트 관리동   033-765-7942            --   \n",
       "808       강원도 원주시 번재길 32 110동 (행구동, 효성백년가약아파트)   033-748-6001            --   \n",
       "1014       강원도 강릉시 강변로 58 (회산동, 강릉회산LH천년나무2단지)   033-642-1066  033-643-1067   \n",
       "1016                            강원도 강릉시 죽헌길 7    033-655-3100            --   \n",
       "1018           강원도 강릉시 회산로383번길 37 힐스테이트강릉어린이집   033-647-6478            --   \n",
       "1019                          강원도 강릉시 선수촌로 20    033-648-2019            --   \n",
       "1022                  강원도 강릉시 경강로 2448 102동 1층  010-3632-0694            --   \n",
       "1130  강원도 태백시 청솔길 41 111-B동 203호(황지동, 청솔아파트상가)   033-553-0090  033-554-3830   \n",
       "1208                         강원도 속초시 청대로 22-6    033-631-0041  033-631-0325   \n",
       "1209                     강원도 속초시 온정로 23 도담어린이집   033-631-0002            --   \n",
       "1261                강원도 삼척시 정상안길 97 금강프라자 307호   033-576-0956            --   \n",
       "1264           강원도 삼척시 마달길 215 세영리첼아파트 103동 1층   033-575-0783            --   \n",
       "1265                   강원도 삼척시 원덕읍 삼척로 446-12    033-575-4008  033-573-4008   \n",
       "1393                    강원도 평창군 대화면 평창대로 1447    033-339-6233  033-339-6235   \n",
       "1508                    강원도 인제군 기린면 내린천로 3898    033-461-1223            --   \n",
       "\n",
       "      보육실수  ...  정원수  현원수        위도          경도  통학차량운영여부  \\\n",
       "321      6  ...  100   97  37.56647  126.977963        운영   \n",
       "330      4  ...   55   15  37.56647  126.977963       미운영   \n",
       "331      4  ...   48    0  37.56647  126.977963       NaN   \n",
       "764      4  ...   20   19  37.56647  126.977963       미운영   \n",
       "769      3  ...   20   17  37.56647  126.977963       미운영   \n",
       "771     19  ...  300  183  37.56647  126.977963       미운영   \n",
       "783      5  ...   20   13  37.56647  126.977963       미운영   \n",
       "786      5  ...   49   31  37.56647  126.977963       미운영   \n",
       "802      4  ...   28   21  37.56647  126.977963        운영   \n",
       "808      3  ...   20    9  37.56647  126.977963       미운영   \n",
       "1014     5  ...   68   64  37.56647  126.977963        운영   \n",
       "1016     8  ...   99   82  37.56647  126.977963       미운영   \n",
       "1018     3  ...   35   22  37.56647  126.977963       미운영   \n",
       "1019     5  ...   86   36  37.56647  126.977963       미운영   \n",
       "1022     3  ...   33    0  37.56647  126.977963       NaN   \n",
       "1130     3  ...   32    0  37.56647  126.977963        운영   \n",
       "1208     7  ...   99   96  37.56647  126.977963        운영   \n",
       "1209     4  ...   36   31  37.56647  126.977963        운영   \n",
       "1261     4  ...   29   18  37.56647  126.977963        운영   \n",
       "1264     4  ...   23   14  37.56647  126.977963       미운영   \n",
       "1265     3  ...   20   10  37.56647  126.977963        운영   \n",
       "1393     2  ...   20    0  37.56647  126.977963       미운영   \n",
       "1508     5  ...  156   77  37.56647  126.977963       미운영   \n",
       "\n",
       "                     홈페이지주소        인가일자  휴지시작일자 휴지종료일자        폐지일자  \n",
       "321                     NaN  2016-08-31     NaN    NaN         NaN  \n",
       "330                     NaN  2019-10-16     NaN    NaN         NaN  \n",
       "331                     NaN  2020-01-30     NaN    NaN         NaN  \n",
       "764                     NaN  2015-06-25     NaN    NaN         NaN  \n",
       "769                     NaN  2015-08-26     NaN    NaN         NaN  \n",
       "771   www.puruni.com/hirawj  2015-12-01     NaN    NaN         NaN  \n",
       "783                     NaN  2016-12-19     NaN    NaN         NaN  \n",
       "786                     NaN  2017-02-23     NaN    NaN         NaN  \n",
       "802                     NaN  2019-04-11     NaN    NaN         NaN  \n",
       "808                     NaN  2019-10-02     NaN    NaN         NaN  \n",
       "1014                    NaN  2016-10-21     NaN    NaN         NaN  \n",
       "1016                    NaN  2019-02-26     NaN    NaN         NaN  \n",
       "1018                    NaN  2019-08-13     NaN    NaN         NaN  \n",
       "1019                    NaN  2019-08-26     NaN    NaN         NaN  \n",
       "1022                    NaN  2020-02-24     NaN    NaN         NaN  \n",
       "1130                    NaN  2016-08-22     NaN    NaN  2019-02-07  \n",
       "1208                    NaN  2019-03-01     NaN    NaN         NaN  \n",
       "1209                    NaN  2019-03-01     NaN    NaN         NaN  \n",
       "1261                    NaN  2015-11-02     NaN    NaN         NaN  \n",
       "1264                    NaN  2019-04-03     NaN    NaN         NaN  \n",
       "1265                    NaN  2019-07-10     NaN    NaN         NaN  \n",
       "1393                    NaN  2014-02-27     NaN    NaN  2015-02-28  \n",
       "1508                    NaN  2017-03-09     NaN    NaN         NaN  \n",
       "\n",
       "[23 rows x 24 columns]"
      ]
     },
     "execution_count": 58,
     "metadata": {},
     "output_type": "execute_result"
    }
   ],
   "source": [
    "df[(df['위도'] == 37.566470) & (df['경도'] == 126.977963)]"
   ]
  },
  {
   "cell_type": "code",
   "execution_count": 62,
   "metadata": {},
   "outputs": [
    {
     "data": {
      "text/plain": [
       "위도         경도        \n",
       "37.092592  129.041518     23\n",
       "37.100979  129.005923     45\n",
       "37.118933  129.003299     66\n",
       "37.128783  129.046540     31\n",
       "37.142926  128.978699    149\n",
       "                        ... \n",
       "38.443580  128.453664      0\n",
       "38.446087  128.454630      0\n",
       "38.451302  128.462340     62\n",
       "38.451958  128.462265      0\n",
       "38.495819  128.426403     38\n",
       "Name: 현원수, Length: 1276, dtype: int64"
      ]
     },
     "execution_count": 62,
     "metadata": {},
     "output_type": "execute_result"
    }
   ],
   "source": [
    "df.groupby(['위도', '경도'])['현원수'].sum()"
   ]
  },
  {
   "cell_type": "code",
   "execution_count": 73,
   "metadata": {},
   "outputs": [
    {
     "name": "stdout",
     "output_type": "stream",
     "text": [
      "c:\\Users\\uilov\\Desktop\\개발 관련 폴더\\공공데이터분석\\어린이집\\2022\\[강원]어린이집기본정보조회(정기)-기준일(20220228).xls\n"
     ]
    },
    {
     "data": {
      "text/plain": [
       "위도         경도        \n",
       "37.566470  126.977963    34\n",
       "37.891090  127.755466     6\n",
       "37.335788  127.926181     6\n",
       "37.323412  127.951421     5\n",
       "37.334693  127.963942     5\n",
       "                         ..\n",
       "37.448492  129.169856     1\n",
       "37.447999  129.164906     1\n",
       "37.447940  129.177145     1\n",
       "37.447426  129.177378     1\n",
       "38.947084  123.364601     1\n",
       "Name: count, Length: 1333, dtype: int64"
      ]
     },
     "execution_count": 73,
     "metadata": {},
     "output_type": "execute_result"
    }
   ],
   "source": [
    "pd.read_excel(get_file_path(kid_path(2022), 0), engine='xlrd')[['위도', '경도']].value_counts()"
   ]
  },
  {
   "cell_type": "code",
   "execution_count": 68,
   "metadata": {},
   "outputs": [
    {
     "data": {
      "text/plain": [
       "Index(['시도', '시군구', '어린이집명', '어린이집유형구분', '운영현황', '우편번호', '주소', '어린이집전화번호',\n",
       "       '어린이집팩스번호', '보육실수', '보육실면적', '놀이터수', 'CCTV설치수', '보육교직원수', '정원수', '현원수',\n",
       "       '위도', '경도', '통학차량운영여부', '홈페이지주소', '인가일자', '휴지시작일자', '휴지종료일자', '폐지일자'],\n",
       "      dtype='object')"
      ]
     },
     "execution_count": 68,
     "metadata": {},
     "output_type": "execute_result"
    }
   ],
   "source": [
    "df_2022.columns"
   ]
  },
  {
   "cell_type": "code",
   "execution_count": 71,
   "metadata": {},
   "outputs": [
    {
     "data": {
      "text/plain": [
       "위도         경도        \n",
       "37.092592  129.041518    1\n",
       "37.100979  129.005923    1\n",
       "37.118933  129.003299    1\n",
       "37.128783  129.046540    1\n",
       "37.142926  128.978699    1\n",
       "                        ..\n",
       "38.446087  128.454630    1\n",
       "38.451302  128.462340    1\n",
       "38.451958  128.462265    1\n",
       "38.495819  128.426403    1\n",
       "38.947084  123.364601    1\n",
       "Name: 어린이집명, Length: 1333, dtype: int64"
      ]
     },
     "execution_count": 71,
     "metadata": {},
     "output_type": "execute_result"
    }
   ],
   "source": [
    "df_2022.groupby(['위도', '경도'])['어린이집명'].count()"
   ]
  },
  {
   "cell_type": "code",
   "execution_count": 69,
   "metadata": {},
   "outputs": [
    {
     "data": {
      "text/plain": [
       "위도         경도        \n",
       "37.092592  129.041518     19\n",
       "37.100979  129.005923     33\n",
       "37.118933  129.003299     47\n",
       "37.128783  129.046540     28\n",
       "37.142926  128.978699    142\n",
       "                        ... \n",
       "38.446087  128.454630      0\n",
       "38.451302  128.462340     49\n",
       "38.451958  128.462265      0\n",
       "38.495819  128.426403     30\n",
       "38.947084  123.364601     34\n",
       "Name: 현원수, Length: 1333, dtype: int64"
      ]
     },
     "execution_count": 69,
     "metadata": {},
     "output_type": "execute_result"
    }
   ],
   "source": [
    "df_2022.groupby(['위도', '경도'])['현원수'].sum()"
   ]
  },
  {
   "cell_type": "code",
   "execution_count": null,
   "metadata": {},
   "outputs": [],
   "source": []
  }
 ],
 "metadata": {
  "kernelspec": {
   "display_name": "base",
   "language": "python",
   "name": "python3"
  },
  "language_info": {
   "codemirror_mode": {
    "name": "ipython",
    "version": 3
   },
   "file_extension": ".py",
   "mimetype": "text/x-python",
   "name": "python",
   "nbconvert_exporter": "python",
   "pygments_lexer": "ipython3",
   "version": "3.11.5"
  }
 },
 "nbformat": 4,
 "nbformat_minor": 2
}
