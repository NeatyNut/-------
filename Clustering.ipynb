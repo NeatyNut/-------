{
 "cells": [
  {
   "cell_type": "markdown",
   "metadata": {},
   "source": [
    "- 군집화"
   ]
  },
  {
   "cell_type": "code",
   "execution_count": 1,
   "metadata": {},
   "outputs": [],
   "source": [
    "import pandas as pd\n",
    "import numpy as np\n",
    "import os\n",
    "from sklearn import cluster\n",
    "import matplotlib.pyplot as plt\n",
    "import seaborn as sns\n",
    "import math"
   ]
  },
  {
   "cell_type": "code",
   "execution_count": 2,
   "metadata": {},
   "outputs": [],
   "source": [
    "my_path = os.getcwd()\n",
    "concat_path = os.path.join(my_path, '어린이집병합')\n",
    "\n",
    "KID_2020 = pd.read_csv(os.path.join(concat_path, '어린이집2020.csv'), encoding='utf-8-sig', index_col=0)\n",
    "KID_2021 = pd.read_csv(os.path.join(concat_path, '어린이집2021.csv'), encoding='utf-8-sig', index_col=0)\n",
    "KID_2022 = pd.read_csv(os.path.join(concat_path, '어린이집2022.csv'), encoding='utf-8-sig', index_col=0)\n",
    "KID_2023 = pd.read_csv(os.path.join(concat_path, '어린이집2023.csv'), encoding='utf-8-sig', index_col=0)\n",
    "KID_2024 = pd.read_csv(os.path.join(concat_path, '어린이집2024.csv'), encoding='utf-8-sig', index_col=0)\n",
    "\n",
    "CHO_2021 = pd.read_csv(os.path.join(concat_path, '초등학교2021.csv'), encoding='utf-8-sig', index_col=0)\n",
    "CHO_2022 = pd.read_csv(os.path.join(concat_path, '초등학교2022.csv'), encoding='utf-8-sig', index_col=0)\n",
    "CHO_2023 = pd.read_csv(os.path.join(concat_path, '초등학교2023.csv'), encoding='utf-8-sig', index_col=0)"
   ]
  },
  {
   "cell_type": "code",
   "execution_count": null,
   "metadata": {},
   "outputs": [],
   "source": [
    "Real_Kmeans = cluster.KMeans(n_clusters=len(center_point))\n",
    "Real_Kmeans.cluster_centers_ = np.array(center_point, order='C')\n",
    "Real_Kmeans.fit(kid_point)\n",
    "centers = Real_Kmeans.cluster_centers_\n",
    "pred = Real_Kmeans.predict(kid_point)\n",
    "kid_point['pred'] = pred\n",
    "\n",
    "plt.figure(figsize=(12,12))\n",
    "sns.scatterplot(x=kid_point['위도'], y=kid_point['경도'], hue=kid_point['pred'])\n",
    "# plt.scatter(centers[:,0], centers[:,1])"
   ]
  },
  {
   "cell_type": "code",
   "execution_count": null,
   "metadata": {},
   "outputs": [],
   "source": [
    "# 1개의 군집마다 파악하기\n",
    "number = 5\n",
    "\n",
    "plt.figure(figsize=(20,20))\n",
    "sns.scatterplot(x=kid_point['위도'], y=kid_point['경도'], hue=(kid_point['pred'] == number))\n",
    "plt.scatter(centers[number,0], centers[number,1], )"
   ]
  },
  {
   "cell_type": "code",
   "execution_count": null,
   "metadata": {},
   "outputs": [],
   "source": [
    "# 1개의 군집마다 파악하기\n",
    "number = 1\n",
    "condition = (kid_point['pred'] == number)\n",
    "\n",
    "plt.figure(figsize=(10,10))\n",
    "sns.scatterplot(x=kid_point[condition]['위도'], y=kid_point[condition]['경도'])\n",
    "plt.scatter(centers[number,0], centers[number,1], )"
   ]
  },
  {
   "cell_type": "code",
   "execution_count": null,
   "metadata": {},
   "outputs": [],
   "source": [
    "def get_index(x:int, df, center):\n",
    "    return center[(center['위도'] == df.loc[x, '위도']) & (center['경도'] == df.loc[x, '경도'])].index[0]"
   ]
  },
  {
   "cell_type": "code",
   "execution_count": null,
   "metadata": {},
   "outputs": [],
   "source": [
    "df['pred'] = [get_index(i, df, center_point) for i in df.index]"
   ]
  },
  {
   "cell_type": "code",
   "execution_count": null,
   "metadata": {},
   "outputs": [],
   "source": [
    "sido_db = pd.DataFrame({'시도': list(KID_2020.groupby(['시도'])['어린이집명'].count().index), '개수':list(KID_2020.groupby(['시도'])['어린이집명'].count().values)})\n",
    "sido_db"
   ]
  },
  {
   "cell_type": "code",
   "execution_count": null,
   "metadata": {},
   "outputs": [],
   "source": [
    "import geopandas as gpd\n",
    "import folium\n",
    "from folium.plugins import MarkerCluster\n",
    "from folium import Marker\n",
    "\n",
    "map = folium.Map()\n",
    "\n",
    "marker_cluster = MarkerCluster().add_to(map)\n",
    "\n",
    "# 초등학교 찍기\n",
    "for j in df.index:\n",
    "    name = df.loc[j, '학교명']\n",
    "    address = df.loc[j, '학교도로명 주소']\n",
    "    tooltip_cho = name + \"(\" + address + \")\"\n",
    "    location_cho = [df.loc[j, '위도'], df.loc[j, '경도']]\n",
    "    icon = folium.Icon(color='red', icon='star')\n",
    "    folium.Marker(location=location_cho, tooltip=tooltip_cho, icon=icon).add_to(marker_cluster)\n",
    "\n",
    "# 유치원 찍기\n",
    "mc = MarkerCluster()\n",
    "for n in kid_point.index:\n",
    "    pred_index = kid_point.loc[n, \"pred\"]\n",
    "    try :\n",
    "        cho_name = df.loc[df[df['pred'] == pred_index].index[0], '학교명']\n",
    "        kid_name = KID_2020.loc[KID_2020[(KID_2020['위도'] == kid_point.loc[n, '위도']) & (KID_2020['경도'] == kid_point.loc[n, '경도'])].index[0], '어린이집명']\n",
    "        kid_count = KID_2020.loc[KID_2020[(KID_2020['위도'] == kid_point.loc[n, '위도']) & (KID_2020['경도'] == kid_point.loc[n, '경도'])].index[0], '현원수']\n",
    "    except:\n",
    "        cho_name = 'X'\n",
    "        kid_name = 'X'\n",
    "        kid_count = 0\n",
    "    \n",
    "    tooltip = cho_name + \" / \" + kid_name + \"(\" + str(kid_count) + \")\"\n",
    "    location = [kid_point.loc[n, \"위도\"], kid_point.loc[n, \"경도\"]]\n",
    "    mc.add_child(folium.Marker(location = location, tooltip=tooltip))\n",
    "\n",
    "map.add_child(mc)\n",
    "\n",
    "with open('Si_Do_map_utf8.json', 'r', encoding='euc-kr') as file:\n",
    "    Sido_geo = json.load(file)\n",
    "\n",
    "#밀도 및 경계선 그리기\n",
    "folium.Choropleth(\n",
    "    geo_data = Sido_geo, #경계선\n",
    "    data = sido_db, #데이터\n",
    "    columns=[\"시도\", \"개수\"], #데이터\n",
    "    key_on = 'feature.properties.CTP_KOR_NM', #경계선\n",
    "    fill_color=\"PuRd\",\n",
    "    fill_opacity=0.7,\n",
    "    line_opacity=0.2,\n",
    "    legend_name=\"어린이집\").add_to(map)\n",
    "\n",
    "map"
   ]
  },
  {
   "cell_type": "code",
   "execution_count": null,
   "metadata": {},
   "outputs": [],
   "source": [
    "map.save('배정학교.html')"
   ]
  }
 ],
 "metadata": {
  "kernelspec": {
   "display_name": "fresh",
   "language": "python",
   "name": "python3"
  },
  "language_info": {
   "codemirror_mode": {
    "name": "ipython",
    "version": 3
   },
   "file_extension": ".py",
   "mimetype": "text/x-python",
   "name": "python",
   "nbconvert_exporter": "python",
   "pygments_lexer": "ipython3",
   "version": "3.11.9"
  }
 },
 "nbformat": 4,
 "nbformat_minor": 2
}
